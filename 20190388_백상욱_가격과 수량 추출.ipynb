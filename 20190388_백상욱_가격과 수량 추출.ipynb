{
 "cells": [
  {
   "cell_type": "code",
   "execution_count": 51,
   "id": "fcb99ab4",
   "metadata": {},
   "outputs": [
    {
     "name": "stdout",
     "output_type": "stream",
     "text": [
      "23.45\n",
      "5.01\n",
      "889.00\n",
      "69.89\n"
     ]
    }
   ],
   "source": [
    "import re\n",
    "\n",
    "data = \"\"\"\n",
    "ABC01: $23.45\n",
    "HGG42: $5.01\n",
    "CFXE1: $889.00\n",
    "XTC99: $69.89\n",
    "Total items found: 4\n",
    "\"\"\"\n",
    "p=re.compile(r\"[$]\\d+.\\d+\")\n",
    "output=p.findall(data)\n",
    "for i in output:\n",
    "    print(i[1:])"
   ]
  },
  {
   "cell_type": "code",
   "execution_count": 52,
   "id": "cf786b7c",
   "metadata": {},
   "outputs": [
    {
     "name": "stdout",
     "output_type": "stream",
     "text": [
      "가격을 나타내는 숫자들\n",
      "30\n",
      "5\n",
      "수량을 나타내는 숫자들\n",
      "100\n",
      "50\n",
      "60\n"
     ]
    }
   ],
   "source": [
    "data = \"\"\"\n",
    "I paid $30 for 100 apples,\n",
    "50 oranges, and 60 pears.\n",
    "I saved $5 on this order.\n",
    "\"\"\"\n",
    "price=re.compile(r\"[$]\\d+\")\n",
    "price_output=price.findall(data)\n",
    "number=re.compile(r\"\\s\\d+\")\n",
    "number_output=number.findall(data)\n",
    "\n",
    "print(\"가격을 나타내는 숫자들\")\n",
    "for i in price_output:\n",
    "    print(i[1:])\n",
    "print(\"수량을 나타내는 숫자들\")\n",
    "for i in number_output:\n",
    "    print(re.findall(r'\\d+',i)[0])"
   ]
  }
 ],
 "metadata": {
  "kernelspec": {
   "display_name": "Python 3 (ipykernel)",
   "language": "python",
   "name": "python3"
  },
  "language_info": {
   "codemirror_mode": {
    "name": "ipython",
    "version": 3
   },
   "file_extension": ".py",
   "mimetype": "text/x-python",
   "name": "python",
   "nbconvert_exporter": "python",
   "pygments_lexer": "ipython3",
   "version": "3.9.7"
  },
  "toc": {
   "base_numbering": 1,
   "nav_menu": {},
   "number_sections": true,
   "sideBar": true,
   "skip_h1_title": false,
   "title_cell": "Table of Contents",
   "title_sidebar": "Contents",
   "toc_cell": false,
   "toc_position": {},
   "toc_section_display": true,
   "toc_window_display": false
  },
  "varInspector": {
   "cols": {
    "lenName": 16,
    "lenType": 16,
    "lenVar": 40
   },
   "kernels_config": {
    "python": {
     "delete_cmd_postfix": "",
     "delete_cmd_prefix": "del ",
     "library": "var_list.py",
     "varRefreshCmd": "print(var_dic_list())"
    },
    "r": {
     "delete_cmd_postfix": ") ",
     "delete_cmd_prefix": "rm(",
     "library": "var_list.r",
     "varRefreshCmd": "cat(var_dic_list()) "
    }
   },
   "types_to_exclude": [
    "module",
    "function",
    "builtin_function_or_method",
    "instance",
    "_Feature"
   ],
   "window_display": false
  }
 },
 "nbformat": 4,
 "nbformat_minor": 5
}
