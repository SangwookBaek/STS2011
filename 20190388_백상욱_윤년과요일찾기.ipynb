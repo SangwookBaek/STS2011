{
 "cells": [
  {
   "cell_type": "code",
   "execution_count": null,
   "metadata": {
    "colab": {
     "base_uri": "https://localhost:8080/"
    },
    "id": "jO8Lw8RqqH6N",
    "outputId": "a61d04ac-64e0-4aec-bcee-055ee2af0529"
   },
   "outputs": [],
   "source": [
    "def is_leap(year):\n",
    "  if (year % 400) :\n",
    "    if (year % 100):\n",
    "      if ( year%4 ):\n",
    "        return False\n",
    "      else :\n",
    "        return True\n",
    "    else:\n",
    "      return False\n",
    "  else :\n",
    "    return True\n",
    "\n",
    "def input_date():\n",
    "  year = int(input(\"__년도를 입력하시오:\"))\n",
    "  month = int(input(\"__월을 입력하시오:\"))\n",
    "  day = int(input(\"__일을 입력하시오:\"))\n",
    "  return year,month,day\n",
    "def get_day_name(year, month, day):\n",
    "  total = 0\n",
    "  month_to_date = {\"1\":31,\"3\":31,\"4\":30,\"5\":31,\"6\":30,\"7\":31,\"8\":31,\"9\":30,\"10\":31,\"11\":30,\"12\":31}\n",
    "  if is_leap(year):\n",
    "    month_to_date[\"2\"]=29\n",
    "  else:\n",
    "    if (month ==2 and day ==29):\n",
    "      return False\n",
    "    month_to_date[\"2\"] = 28\n",
    "  \n",
    "  for i in range(1,month):\n",
    "    total += month_to_date[str(i)]\n",
    "  total += (day-1)\n",
    "  leap_count = (year-1)//4 - (year-1)//100 + (year-1)//400\n",
    "  total += (year-1) + leap_count\n",
    "  name_key = total%7\n",
    "  num_to_name = {0:\"월요일\",1:\"화요일\",2:\"수요일\",3:\"목요일\",4:\"금요일\",5:\"토요일\",6:\"일요일\"} \n",
    "  return num_to_name[name_key]\n",
    "\n",
    "\n",
    "if __name__ ==\"__main__\":\n",
    "  year, month, day = input_date()\n",
    "  day_name = get_day_name(year,month,day)\n",
    "  if day_name == False:\n",
    "    print(\"입력하신 날짜는 존재하지 않습니다.\")\n",
    "  else:\n",
    "    print(day_name)\n",
    "    if is_leap(year) == True:\n",
    "      print(\"입력하신 %d은 윤년입니다\" %year)"
   ]
  },
  {
   "cell_type": "code",
   "execution_count": 23,
   "metadata": {
    "id": "QkDCV6yshFEy"
   },
   "outputs": [],
   "source": []
  }
 ],
 "metadata": {
  "colab": {
   "collapsed_sections": [],
   "provenance": []
  },
  "kernelspec": {
   "display_name": "Python 3 (ipykernel)",
   "language": "python",
   "name": "python3"
  },
  "language_info": {
   "codemirror_mode": {
    "name": "ipython",
    "version": 3
   },
   "file_extension": ".py",
   "mimetype": "text/x-python",
   "name": "python",
   "nbconvert_exporter": "python",
   "pygments_lexer": "ipython3",
   "version": "3.9.7"
  },
  "toc": {
   "base_numbering": 1,
   "nav_menu": {},
   "number_sections": true,
   "sideBar": true,
   "skip_h1_title": false,
   "title_cell": "Table of Contents",
   "title_sidebar": "Contents",
   "toc_cell": false,
   "toc_position": {},
   "toc_section_display": true,
   "toc_window_display": false
  },
  "varInspector": {
   "cols": {
    "lenName": 16,
    "lenType": 16,
    "lenVar": 40
   },
   "kernels_config": {
    "python": {
     "delete_cmd_postfix": "",
     "delete_cmd_prefix": "del ",
     "library": "var_list.py",
     "varRefreshCmd": "print(var_dic_list())"
    },
    "r": {
     "delete_cmd_postfix": ") ",
     "delete_cmd_prefix": "rm(",
     "library": "var_list.r",
     "varRefreshCmd": "cat(var_dic_list()) "
    }
   },
   "types_to_exclude": [
    "module",
    "function",
    "builtin_function_or_method",
    "instance",
    "_Feature"
   ],
   "window_display": false
  }
 },
 "nbformat": 4,
 "nbformat_minor": 1
}
