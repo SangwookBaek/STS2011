{
 "cells": [
  {
   "cell_type": "code",
   "execution_count": 7,
   "id": "b3577e1e",
   "metadata": {
    "colab": {
     "base_uri": "https://localhost:8080/"
    },
    "executionInfo": {
     "elapsed": 3,
     "status": "ok",
     "timestamp": 1665466402350,
     "user": {
      "displayName": "Sangwook Baek",
      "userId": "14769644796773614633"
     },
     "user_tz": -540
    },
    "id": "b3577e1e",
    "outputId": "53e20557-32ee-4d61-ed88-f0c9533eeddd"
   },
   "outputs": [
    {
     "name": "stdout",
     "output_type": "stream",
     "text": [
      "Overwriting W_2.py\n"
     ]
    }
   ],
   "source": [
    "%%writefile W_2.py\n",
    "import sys\n",
    "import datetime\n",
    "day_list = [\"월\",\"화\",\"수\",\"목\",\"금\",\"토\",\"일\"]\n",
    "input_date=datetime.datetime(int(sys.argv[1]),int(sys.argv[2]),int(sys.argv[3]))\n",
    "print(f\"{day_list[input_date.weekday()]}요일\")"
   ]
  },
  {
   "cell_type": "code",
   "execution_count": 8,
   "id": "0755854d",
   "metadata": {
    "colab": {
     "base_uri": "https://localhost:8080/"
    },
    "executionInfo": {
     "elapsed": 6,
     "status": "ok",
     "timestamp": 1665466402751,
     "user": {
      "displayName": "Sangwook Baek",
      "userId": "14769644796773614633"
     },
     "user_tz": -540
    },
    "id": "0755854d",
    "outputId": "1f326f52-a71a-404e-dab2-771a2c3d8c57"
   },
   "outputs": [
    {
     "name": "stdout",
     "output_type": "stream",
     "text": [
      "화요일\n"
     ]
    }
   ],
   "source": [
    "%run W_2 2019 10 1"
   ]
  },
  {
   "cell_type": "code",
   "execution_count": 9,
   "id": "aa90add8",
   "metadata": {
    "colab": {
     "base_uri": "https://localhost:8080/"
    },
    "executionInfo": {
     "elapsed": 620,
     "status": "ok",
     "timestamp": 1665466403367,
     "user": {
      "displayName": "Sangwook Baek",
      "userId": "14769644796773614633"
     },
     "user_tz": -540
    },
    "id": "aa90add8",
    "outputId": "f1a9ffd7-492d-4d73-ed42-a7b3002687b5"
   },
   "outputs": [
    {
     "name": "stdout",
     "output_type": "stream",
     "text": [
      "월요일\n"
     ]
    }
   ],
   "source": [
    "%run W_2 2019 10 14"
   ]
  }
 ],
 "metadata": {
  "colab": {
   "collapsed_sections": [],
   "provenance": []
  },
  "kernelspec": {
   "display_name": "Python 3 (ipykernel)",
   "language": "python",
   "name": "python3"
  },
  "language_info": {
   "codemirror_mode": {
    "name": "ipython",
    "version": 3
   },
   "file_extension": ".py",
   "mimetype": "text/x-python",
   "name": "python",
   "nbconvert_exporter": "python",
   "pygments_lexer": "ipython3",
   "version": "3.9.7"
  },
  "toc": {
   "base_numbering": 1,
   "nav_menu": {},
   "number_sections": true,
   "sideBar": true,
   "skip_h1_title": false,
   "title_cell": "Table of Contents",
   "title_sidebar": "Contents",
   "toc_cell": false,
   "toc_position": {},
   "toc_section_display": true,
   "toc_window_display": false
  },
  "varInspector": {
   "cols": {
    "lenName": 16,
    "lenType": 16,
    "lenVar": 40
   },
   "kernels_config": {
    "python": {
     "delete_cmd_postfix": "",
     "delete_cmd_prefix": "del ",
     "library": "var_list.py",
     "varRefreshCmd": "print(var_dic_list())"
    },
    "r": {
     "delete_cmd_postfix": ") ",
     "delete_cmd_prefix": "rm(",
     "library": "var_list.r",
     "varRefreshCmd": "cat(var_dic_list()) "
    }
   },
   "types_to_exclude": [
    "module",
    "function",
    "builtin_function_or_method",
    "instance",
    "_Feature"
   ],
   "window_display": false
  }
 },
 "nbformat": 4,
 "nbformat_minor": 5
}
