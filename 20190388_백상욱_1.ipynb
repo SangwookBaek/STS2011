{
 "cells": [
  {
   "cell_type": "code",
   "execution_count": 13,
   "metadata": {},
   "outputs": [
    {
     "name": "stdout",
     "output_type": "stream",
     "text": [
      "Overwriting 202200001_1.py\n"
     ]
    }
   ],
   "source": [
    "%%writefile 202200001_1.py\n",
    "\n",
    "import sys\n",
    "import datetime\n",
    "year = int(sys.argv[1])\n",
    "month = int(sys.argv[2])\n",
    "date = int(sys.argv[3])\n",
    "yoil = [\"월\",\"화\",\"수\",\"목\",\"금\",\"토\",\"일\"]\n",
    "idx=datetime.date(year,month,date).weekday()\n",
    "print(f\"{yoil[idx]}요일\")"
   ]
  },
  {
   "cell_type": "code",
   "execution_count": 14,
   "metadata": {},
   "outputs": [
    {
     "name": "stdout",
     "output_type": "stream",
     "text": [
      "목요일\n"
     ]
    }
   ],
   "source": [
    "%run 202200001_1.py 1988 12 22"
   ]
  },
  {
   "cell_type": "code",
   "execution_count": 15,
   "metadata": {},
   "outputs": [
    {
     "name": "stdout",
     "output_type": "stream",
     "text": [
      "일요일\n"
     ]
    }
   ],
   "source": [
    "%run 202200001_1.py 2019 4 21"
   ]
  }
 ],
 "metadata": {
  "kernelspec": {
   "display_name": "Python 3",
   "language": "python",
   "name": "python3"
  },
  "language_info": {
   "codemirror_mode": {
    "name": "ipython",
    "version": 3
   },
   "file_extension": ".py",
   "mimetype": "text/x-python",
   "name": "python",
   "nbconvert_exporter": "python",
   "pygments_lexer": "ipython3",
   "version": "3.7.3"
  }
 },
 "nbformat": 4,
 "nbformat_minor": 2
}
