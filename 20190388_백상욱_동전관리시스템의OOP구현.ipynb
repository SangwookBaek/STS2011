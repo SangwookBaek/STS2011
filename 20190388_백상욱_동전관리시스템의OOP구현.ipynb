{
 "cells": [
  {
   "cell_type": "code",
   "execution_count": 1,
   "id": "b6fd2a77",
   "metadata": {},
   "outputs": [
    {
     "name": "stdout",
     "output_type": "stream",
     "text": [
      "Overwriting pursemake.py\n"
     ]
    }
   ],
   "source": [
    "%%writefile pursemake.py\n",
    "\n",
    "class Purse:\n",
    "    def __init__(self):\n",
    "        self._num = 0\n",
    "        self._name = 0\n",
    "        self._coins = 0\n",
    "        \n",
    "    @property\n",
    "    def num(self):\n",
    "        return self._num \n",
    "    @num.setter\n",
    "    def num(self,value):\n",
    "        self._num = value\n",
    "    \n",
    "    @property\n",
    "    def name(self):\n",
    "        return self._name\n",
    "    @name.setter\n",
    "    def name(self,value):\n",
    "        self._name = value\n",
    "    @property\n",
    "    def coins(self):\n",
    "        return self._coins\n",
    "    @coins.setter\n",
    "    def coins(self,value):\n",
    "        self._coins = value"
   ]
  },
  {
   "cell_type": "code",
   "execution_count": 2,
   "id": "647277bb",
   "metadata": {},
   "outputs": [
    {
     "name": "stdout",
     "output_type": "stream",
     "text": [
      "Overwriting pursemgtmake.py\n"
     ]
    }
   ],
   "source": [
    "%%writefile pursemgtmake.py\n",
    "\n",
    "from pursemake import Purse\n",
    "import time\n",
    "\n",
    "class verbose():\n",
    "    def __init__(self,f):\n",
    "        self.f = f\n",
    "    def __call__(self,*args):\n",
    "        start=time.time()\n",
    "        self.f(*args)\n",
    "        print(f\"\\n실행 시간은: {time.time() - start}\")\n",
    "\n",
    "class PurseMgtSystem():\n",
    "    def __init__(self):\n",
    "        pass\n",
    "    \n",
    "    @staticmethod\n",
    "    def register_purse(num,name,coins_dic):\n",
    "        a = Purse()\n",
    "        a.num = num\n",
    "        a.name = name\n",
    "        a.coins = coins_dic\n",
    "        return a\n",
    "    @staticmethod\n",
    "    def process(object_list):\n",
    "        fp = open(\"purse_output.txt\",\"wt\",encoding=\"UTF-8\")\n",
    "        double_list = []\n",
    "        for i in object_list:\n",
    "            total = 0\n",
    "            for key,value in i.coins.items():\n",
    "                total += key*value\n",
    "            double_list.append([i.num,i.name,i.coins,total])\n",
    "        double_list.sort(key = lambda x: x[3],reverse = True)\n",
    "        rank = 0\n",
    "        compare = double_list[0][3]+1\n",
    "        for i in double_list:\n",
    "            if i[3] < compare:\n",
    "                rank += 1\n",
    "                compare = i[3]\n",
    "                fp.write(f\"번호:{i[0]+1} 이름:{i[1]} 500원:{i[2].get(500,0)} 100원:{i[2].get(100,0)} 50원:{i[2].get(50,0)} 10원:{i[2].get(10,0)} 1원:{i[2].get(1,0)} 총액:{i[3]:4d} 순위:{rank}\\n\")\n",
    "                print(f\"번호:{i[0]+1} 이름:{i[1]} 500원:{i[2].get(500,0)} 100원:{i[2].get(100,0)} 50원:{i[2].get(50,0)} 10원:{i[2].get(10,0)} 1원:{i[2].get(1,0)} 총액:{i[3]:4d} 순위:{rank}\")\n",
    "            elif i[3] == compare:\n",
    "                fp.write(f\"번호:{i[0]+1} 이름:{i[1]} 500원:{i[2].get(500,0)} 100원:{i[2].get(100,0)} 50원:{i[2].get(50,0)} 10원:{i[2].get(10,0)} 1원:{i[2].get(1,0)} 총액:{i[3]:4d} 순위:{rank}\\n\")\n",
    "                print(f\"번호:{i[0]+1} 이름:{i[1]} 500원:{i[2].get(500,0)} 100원:{i[2].get(100,0)} 50원:{i[2].get(50,0)} 10원:{i[2].get(10,0)} 1원:{i[2].get(1,0)} 총액:{i[3]:4d} 순위:{rank}\")\n",
    "                rank +=1\n",
    "        return double_list,fp\n",
    "    @staticmethod\n",
    "    @verbose\n",
    "    def count_coins(coin,double_list,fp):\n",
    "        owner = []\n",
    "        owns = 0\n",
    "        for i in double_list:\n",
    "            if i[2].get(coin,0) > owns:\n",
    "                owner = [[i[0],i[1],i[2].get(coin,0)]]\n",
    "                owns = i[2].get(coin,0)\n",
    "            elif i[2].get(coin,0) == owns:\n",
    "                owner.append([i[0],i[1],i[2].get(coin,0)])\n",
    "        fp.write(\"\\n최다 보유자들\\n\")\n",
    "        print(\"최다 보유자들\")\n",
    "        for j in owner:\n",
    "            fp.write(f\"번호: {j[0]+1}, 이름:{j[1]}, 개수: {j[2]}\\n\")\n",
    "            print(f\"번호: {j[0]+1}, 이름:{j[1]}, 개수: {j[2]}\")\n",
    "        fp.close()\n",
    "    @staticmethod    \n",
    "    def checkifdeserve(wish,double_list):\n",
    "        product = wish[0]\n",
    "        price = wish[1]\n",
    "        for i in double_list:\n",
    "            if (i[3] >= int(price)):\n",
    "                print(f\"{i[1]}는 보유 금액이 {i[3]}원이므로 {product}를 구매할 수 있습니다\\n\")"
   ]
  },
  {
   "cell_type": "code",
   "execution_count": 3,
   "id": "b81a5507",
   "metadata": {},
   "outputs": [
    {
     "name": "stdout",
     "output_type": "stream",
     "text": [
      "번호:4 이름:서강사 500원:3 100원:1 50원:3 10원:0 1원:0 총액:1750 순위:1\n",
      "번호:8 이름:서강팔 500원:3 100원:2 50원:1 10원:0 1원:0 총액:1750 순위:1\n",
      "번호:1 이름:서강일 500원:2 100원:3 50원:1 10원:1 1원:0 총액:1360 순위:3\n",
      "번호:5 이름:서강오 500원:2 100원:3 50원:0 10원:2 1원:1 총액:1321 순위:4\n",
      "번호:7 이름:서강칠 500원:2 100원:2 50원:1 10원:0 1원:0 총액:1250 순위:5\n",
      "번호:6 이름:서강육 500원:1 100원:4 50원:2 10원:0 1원:0 총액:1000 순위:6\n",
      "번호:2 이름:서강이 500원:1 100원:2 50원:2 10원:1 1원:0 총액: 810 순위:7\n",
      "번호:3 이름:서강삼 500원:0 100원:3 50원:0 10원:1 1원:0 총액: 310 순위:8\n",
      "\n",
      "\n",
      "동전:500\n",
      "최다 보유자들\n",
      "번호: 4, 이름:서강사, 개수: 3\n",
      "번호: 8, 이름:서강팔, 개수: 3\n",
      "\n",
      "실행 시간은: 0.001995563507080078\n",
      "\n",
      "\n",
      "사려는 물건과 물건의 가격을 입력하세요 예시)지우개 500 :지우개 500\n",
      "\n",
      "\n",
      "서강사는 보유 금액이 1750원이므로 지우개를 구매할 수 있습니다\n",
      "\n",
      "서강팔는 보유 금액이 1750원이므로 지우개를 구매할 수 있습니다\n",
      "\n",
      "서강일는 보유 금액이 1360원이므로 지우개를 구매할 수 있습니다\n",
      "\n",
      "서강오는 보유 금액이 1321원이므로 지우개를 구매할 수 있습니다\n",
      "\n",
      "서강칠는 보유 금액이 1250원이므로 지우개를 구매할 수 있습니다\n",
      "\n",
      "서강육는 보유 금액이 1000원이므로 지우개를 구매할 수 있습니다\n",
      "\n",
      "서강이는 보유 금액이 810원이므로 지우개를 구매할 수 있습니다\n",
      "\n"
     ]
    }
   ],
   "source": [
    "from pursemake import Purse as Purse\n",
    "from pursemgtmake import PurseMgtSystem as PurseMgtSystem\n",
    "\n",
    "def get_input():\n",
    "    object_list = []\n",
    "    fp = open(\"purse_input.txt\",\"rt\",encoding=\"UTF-8\")\n",
    "    input_list=fp.read()\n",
    "    cleaned=input_list.split(\"\\n\")\n",
    "    for i in range(len(cleaned)):\n",
    "        coins_dic ={}\n",
    "        coins_list = [500,100,50,10,1]\n",
    "        inform=cleaned[i].split(\", \")\n",
    "        name=inform[0]\n",
    "        id = i\n",
    "        for k in inform[1:]:\n",
    "            if int(k) not in coins_list:\n",
    "                print(\"잘못된 동전 데이터가 있습니다.\")\n",
    "                print(\"동전관리시스템이 비정상 종료합니다\")\n",
    "                return \n",
    "            if int(k) in coins_dic.keys():\n",
    "                coins_dic[int(k)]+=1\n",
    "            else:\n",
    "                coins_dic[int(k)] = 1\n",
    "        object_list.append(PurseMgtSystem.register_purse(id,name,coins_dic))\n",
    "    fp.close()\n",
    "    double_list,fp=PurseMgtSystem.process(object_list)\n",
    "    print(\"\\n\")\n",
    "    coin=int(input(\"동전:\"))\n",
    "    PurseMgtSystem.count_coins(coin,double_list,fp)\n",
    "    print(\"\\n\")\n",
    "    wish=input(\"사려는 물건과 물건의 가격을 입력하세요 예시)지우개 500 :\").split(\" \")\n",
    "    print(\"\\n\")\n",
    "    PurseMgtSystem.checkifdeserve(wish,double_list)\n",
    "get_input()"
   ]
  },
  {
   "cell_type": "code",
   "execution_count": 4,
   "id": "e2467bd0",
   "metadata": {
    "scrolled": true
   },
   "outputs": [
    {
     "name": "stdout",
     "output_type": "stream",
     "text": [
      "번호:4 이름:서강사 500원:3 100원:1 50원:3 10원:0 1원:0 총액:1750 순위:1\n",
      "\n",
      "번호:8 이름:서강팔 500원:3 100원:2 50원:1 10원:0 1원:0 총액:1750 순위:1\n",
      "\n",
      "번호:1 이름:서강일 500원:2 100원:3 50원:1 10원:1 1원:0 총액:1360 순위:3\n",
      "\n",
      "번호:5 이름:서강오 500원:2 100원:3 50원:0 10원:2 1원:1 총액:1321 순위:4\n",
      "\n",
      "번호:7 이름:서강칠 500원:2 100원:2 50원:1 10원:0 1원:0 총액:1250 순위:5\n",
      "\n",
      "번호:6 이름:서강육 500원:1 100원:4 50원:2 10원:0 1원:0 총액:1000 순위:6\n",
      "\n",
      "번호:2 이름:서강이 500원:1 100원:2 50원:2 10원:1 1원:0 총액: 810 순위:7\n",
      "\n",
      "번호:3 이름:서강삼 500원:0 100원:3 50원:0 10원:1 1원:0 총액: 310 순위:8\n",
      "\n",
      "\n",
      "\n",
      "최다 보유자들\n",
      "\n",
      "번호: 4, 이름:서강사, 개수: 3\n",
      "\n",
      "번호: 8, 이름:서강팔, 개수: 3\n",
      "\n"
     ]
    }
   ],
   "source": [
    "#purse_output 파일에 저장된 것을 확인할 수 있음\n",
    "fp = open(\"purse_output.txt\",\"rt\",encoding=\"UTF-8\")\n",
    "information=fp.readlines()\n",
    "for i in information:\n",
    "    print(i)\n",
    "fp.close()"
   ]
  },
  {
   "cell_type": "code",
   "execution_count": null,
   "id": "667ab20f",
   "metadata": {},
   "outputs": [],
   "source": []
  }
 ],
 "metadata": {
  "kernelspec": {
   "display_name": "Python 3 (ipykernel)",
   "language": "python",
   "name": "python3"
  },
  "language_info": {
   "codemirror_mode": {
    "name": "ipython",
    "version": 3
   },
   "file_extension": ".py",
   "mimetype": "text/x-python",
   "name": "python",
   "nbconvert_exporter": "python",
   "pygments_lexer": "ipython3",
   "version": "3.9.7"
  },
  "toc": {
   "base_numbering": 1,
   "nav_menu": {},
   "number_sections": true,
   "sideBar": true,
   "skip_h1_title": false,
   "title_cell": "Table of Contents",
   "title_sidebar": "Contents",
   "toc_cell": false,
   "toc_position": {},
   "toc_section_display": true,
   "toc_window_display": false
  },
  "varInspector": {
   "cols": {
    "lenName": 16,
    "lenType": 16,
    "lenVar": 40
   },
   "kernels_config": {
    "python": {
     "delete_cmd_postfix": "",
     "delete_cmd_prefix": "del ",
     "library": "var_list.py",
     "varRefreshCmd": "print(var_dic_list())"
    },
    "r": {
     "delete_cmd_postfix": ") ",
     "delete_cmd_prefix": "rm(",
     "library": "var_list.r",
     "varRefreshCmd": "cat(var_dic_list()) "
    }
   },
   "types_to_exclude": [
    "module",
    "function",
    "builtin_function_or_method",
    "instance",
    "_Feature"
   ],
   "window_display": false
  }
 },
 "nbformat": 4,
 "nbformat_minor": 5
}
