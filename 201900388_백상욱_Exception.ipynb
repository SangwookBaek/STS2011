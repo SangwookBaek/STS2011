{
 "cells": [
  {
   "cell_type": "code",
   "execution_count": 15,
   "metadata": {},
   "outputs": [
    {
     "name": "stdout",
     "output_type": "stream",
     "text": [
      "점수를 입력하시오:99\n",
      "점수는 99입니다\n"
     ]
    }
   ],
   "source": [
    "class ScoreError(Exception):\n",
    "  def __init__(self,msg):\n",
    "    self._message = msg\n",
    "def input_score():\n",
    "  score = int(input(\"점수를 입력하시오:\"))\n",
    "  if score < 0 or score > 100 :\n",
    "    raise ScoreError(\"점수는 0점에서 100점 사이의 값이어야 합니다.\")\n",
    "  else:\n",
    "    return score\n",
    "if __name__==\"__main__\":\n",
    "  try:\n",
    "    score = input_score()\n",
    "  except ScoreError as e:\n",
    "    print(e.args[0])\n",
    "  else:\n",
    "    print(f\"점수는 {score}입니다\")"
   ]
  },
  {
   "cell_type": "code",
   "execution_count": 18,
   "metadata": {
    "colab": {
     "base_uri": "https://localhost:8080/",
     "height": 266
    },
    "executionInfo": {
     "elapsed": 6388,
     "status": "error",
     "timestamp": 1665629144156,
     "user": {
      "displayName": "Sangwook Baek",
      "userId": "14769644796773614633"
     },
     "user_tz": -540
    },
    "id": "FZqy3ShKK1pF",
    "outputId": "64a5d30b-7000-4637-a219-abde8cfd287a"
   },
   "outputs": [
    {
     "name": "stdout",
     "output_type": "stream",
     "text": [
      "Overwriting list_index.py\n"
     ]
    }
   ],
   "source": [
    "%%writefile list_index.py\n",
    "num = [0,1,2,3,4,5,6,7,8,9,10]\n",
    "\n",
    "while(1):\n",
    "  key = input(\"값을 입력받습니다: \")\n",
    "  try:\n",
    "    value = num[int(key)]\n",
    "  except IndexError:\n",
    "    print(-1)\n",
    "  except ValueError:\n",
    "    print(\"프로그램을 종료합니다\")\n",
    "    break\n",
    "  else:\n",
    "    print(value)"
   ]
  },
  {
   "cell_type": "code",
   "execution_count": 19,
   "metadata": {
    "colab": {
     "base_uri": "https://localhost:8080/",
     "height": 137
    },
    "executionInfo": {
     "elapsed": 7,
     "status": "ok",
     "timestamp": 1665628681572,
     "user": {
      "displayName": "Sangwook Baek",
      "userId": "14769644796773614633"
     },
     "user_tz": -540
    },
    "id": "l5TAwmcQK7z9",
    "outputId": "9ac547da-5598-4dcf-d496-155b21338de3"
   },
   "outputs": [
    {
     "name": "stdout",
     "output_type": "stream",
     "text": [
      "값을 입력받습니다: 1\n",
      "1\n",
      "값을 입력받습니다: 2\n",
      "2\n",
      "값을 입력받습니다: 3\n",
      "3\n",
      "값을 입력받습니다: 15\n",
      "-1\n",
      "값을 입력받습니다: -35\n",
      "-1\n",
      "값을 입력받습니다: \n",
      "프로그램을 종료합니다\n"
     ]
    }
   ],
   "source": [
    "%run list_index.py"
   ]
  },
  {
   "cell_type": "code",
   "execution_count": null,
   "metadata": {},
   "outputs": [],
   "source": []
  }
 ],
 "metadata": {
  "colab": {
   "authorship_tag": "ABX9TyOJmvUHKgMrDfBAajjS0jdr",
   "collapsed_sections": [],
   "provenance": []
  },
  "kernelspec": {
   "display_name": "Python 3 (ipykernel)",
   "language": "python",
   "name": "python3"
  },
  "language_info": {
   "codemirror_mode": {
    "name": "ipython",
    "version": 3
   },
   "file_extension": ".py",
   "mimetype": "text/x-python",
   "name": "python",
   "nbconvert_exporter": "python",
   "pygments_lexer": "ipython3",
   "version": "3.9.7"
  },
  "toc": {
   "base_numbering": 1,
   "nav_menu": {},
   "number_sections": true,
   "sideBar": true,
   "skip_h1_title": false,
   "title_cell": "Table of Contents",
   "title_sidebar": "Contents",
   "toc_cell": false,
   "toc_position": {},
   "toc_section_display": true,
   "toc_window_display": false
  },
  "varInspector": {
   "cols": {
    "lenName": 16,
    "lenType": 16,
    "lenVar": 40
   },
   "kernels_config": {
    "python": {
     "delete_cmd_postfix": "",
     "delete_cmd_prefix": "del ",
     "library": "var_list.py",
     "varRefreshCmd": "print(var_dic_list())"
    },
    "r": {
     "delete_cmd_postfix": ") ",
     "delete_cmd_prefix": "rm(",
     "library": "var_list.r",
     "varRefreshCmd": "cat(var_dic_list()) "
    }
   },
   "types_to_exclude": [
    "module",
    "function",
    "builtin_function_or_method",
    "instance",
    "_Feature"
   ],
   "window_display": false
  }
 },
 "nbformat": 4,
 "nbformat_minor": 1
}
