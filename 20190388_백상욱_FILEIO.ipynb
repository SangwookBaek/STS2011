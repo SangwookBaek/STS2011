{
 "cells": [
  {
   "cell_type": "code",
   "execution_count": 1,
   "id": "1288ba2d",
   "metadata": {},
   "outputs": [],
   "source": [
    "fp = open(\"ban_stu.txt\",\"wt\",encoding=\"cp949\")\n",
    "fp.write(\"2 Alice Paul David Bob\\n\")\n",
    "fp.write(\"4 Cindy Stella  Bill\\n\")\n",
    "fp.write(\"1 Henry Jenny Jessica Erin Tim\\n\")\n",
    "fp.write(\"3 John Joe Tom\\n\")\n",
    "fp.close()"
   ]
  },
  {
   "cell_type": "code",
   "execution_count": 2,
   "id": "8ea3a92b",
   "metadata": {},
   "outputs": [
    {
     "name": "stdout",
     "output_type": "stream",
     "text": [
      "{'2': 'Alice Paul David Bob', '4': 'Cindy Stella  Bill', '1': 'Henry Jenny Jessica Erin Tim', '3': 'John Joe Tom'}\n"
     ]
    }
   ],
   "source": [
    "with open(\"ban_stu.txt\",\"rt\",encoding=\"cp949\") as f:\n",
    "    stu=f.readlines()\n",
    "    str_dict={}\n",
    "    for i in stu:\n",
    "        str_dict[i[0]] =  i[2:-1]\n",
    "print(str_dict)"
   ]
  },
  {
   "cell_type": "code",
   "execution_count": 3,
   "id": "9aefe2ef",
   "metadata": {},
   "outputs": [],
   "source": [
    "fp = open(\"information.txt\",\"wt\",encoding=\"cp949\")\n",
    "fp.write(f\"{3}\\n\")\n",
    "fp.write(f\"{3.14}\\n\")\n",
    "fp.write(\"3.14\\n\")\n",
    "fp.close()"
   ]
  },
  {
   "cell_type": "code",
   "execution_count": 4,
   "id": "096c48fe",
   "metadata": {},
   "outputs": [
    {
     "name": "stdout",
     "output_type": "stream",
     "text": [
      "3\n",
      "3.14\n",
      "3.14\n",
      "\n"
     ]
    }
   ],
   "source": [
    "with open(\"information.txt\",\"rt\",encoding=\"cp949\") as f:\n",
    "    information=f.read()\n",
    "    print(information)"
   ]
  },
  {
   "cell_type": "code",
   "execution_count": 5,
   "id": "e2e9f25c",
   "metadata": {},
   "outputs": [],
   "source": [
    "import pickle\n",
    "f = open(\"infomation.dat\",\"wb\")\n",
    "pickle.dump(information,f)\n",
    "f.close()"
   ]
  },
  {
   "cell_type": "code",
   "execution_count": 6,
   "id": "868dacaa",
   "metadata": {},
   "outputs": [
    {
     "name": "stdout",
     "output_type": "stream",
     "text": [
      "3\n",
      "3.14\n",
      "3.14\n",
      "\n"
     ]
    }
   ],
   "source": [
    "with  open(\"infomation.dat\",\"rb\") as f:\n",
    "    print(pickle.load(f))"
   ]
  },
  {
   "cell_type": "code",
   "execution_count": null,
   "id": "31948fc0",
   "metadata": {},
   "outputs": [],
   "source": []
  }
 ],
 "metadata": {
  "kernelspec": {
   "display_name": "Python 3 (ipykernel)",
   "language": "python",
   "name": "python3"
  },
  "language_info": {
   "codemirror_mode": {
    "name": "ipython",
    "version": 3
   },
   "file_extension": ".py",
   "mimetype": "text/x-python",
   "name": "python",
   "nbconvert_exporter": "python",
   "pygments_lexer": "ipython3",
   "version": "3.9.7"
  },
  "toc": {
   "base_numbering": 1,
   "nav_menu": {},
   "number_sections": true,
   "sideBar": true,
   "skip_h1_title": false,
   "title_cell": "Table of Contents",
   "title_sidebar": "Contents",
   "toc_cell": false,
   "toc_position": {},
   "toc_section_display": true,
   "toc_window_display": false
  },
  "varInspector": {
   "cols": {
    "lenName": 16,
    "lenType": 16,
    "lenVar": 40
   },
   "kernels_config": {
    "python": {
     "delete_cmd_postfix": "",
     "delete_cmd_prefix": "del ",
     "library": "var_list.py",
     "varRefreshCmd": "print(var_dic_list())"
    },
    "r": {
     "delete_cmd_postfix": ") ",
     "delete_cmd_prefix": "rm(",
     "library": "var_list.r",
     "varRefreshCmd": "cat(var_dic_list()) "
    }
   },
   "types_to_exclude": [
    "module",
    "function",
    "builtin_function_or_method",
    "instance",
    "_Feature"
   ],
   "window_display": false
  }
 },
 "nbformat": 4,
 "nbformat_minor": 5
}
