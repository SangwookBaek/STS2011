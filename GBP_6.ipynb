{
 "cells": [
  {
   "cell_type": "code",
   "execution_count": 1,
   "metadata": {
    "id": "iHJiYZwY9mbV"
   },
   "outputs": [],
   "source": [
    "class Radio:\n",
    "  def __init__(self):\n",
    "    print(\"라디오가 생성되었습니다.\")\n",
    "  def turn_on(self):\n",
    "    print(\"라디오를  켭니다.\")\n",
    "  def turn_off(self):\n",
    "    print(\"라디오를 끕니다.\")\n",
    "\n",
    "class Car:\n",
    "  def __init__(self):\n",
    "    self._speed = 0\n",
    "    print(\"자동차가 생성되었습니다.\")\n",
    "    self._radio = Radio()\n",
    "  def get_speed(self):\n",
    "    return self._speed\n",
    "  def start(self):\n",
    "    self._speed = 20\n",
    "    print(\"자동차가 출발합니다\")\n",
    "  def accelerate(self):\n",
    "    self._speed += 30\n",
    "    "
   ]
  },
  {
   "cell_type": "code",
   "execution_count": 2,
   "metadata": {
    "executionInfo": {
     "elapsed": 435,
     "status": "ok",
     "timestamp": 1664417870454,
     "user": {
      "displayName": "Sangwook Baek",
      "userId": "14769644796773614633"
     },
     "user_tz": -540
    },
    "id": "Y6yzA31WBRRf"
   },
   "outputs": [],
   "source": [
    "class Car:\n",
    "  def __init__(self):\n",
    "    self.price = 2000\n",
    "    self._speed = 0\n",
    "    self.__color =\"red\""
   ]
  },
  {
   "cell_type": "code",
   "execution_count": 3,
   "metadata": {
    "colab": {
     "base_uri": "https://localhost:8080/",
     "height": 248
    },
    "executionInfo": {
     "elapsed": 6,
     "status": "error",
     "timestamp": 1664417870782,
     "user": {
      "displayName": "Sangwook Baek",
      "userId": "14769644796773614633"
     },
     "user_tz": -540
    },
    "id": "usMaPh34CEuv",
    "outputId": "3c4bfb0d-46f2-44f9-e509-553e5bc2f71d"
   },
   "outputs": [
    {
     "name": "stdout",
     "output_type": "stream",
     "text": [
      "2000\n",
      "0\n"
     ]
    },
    {
     "ename": "AttributeError",
     "evalue": "'Car' object has no attribute '__color'",
     "output_type": "error",
     "traceback": [
      "\u001b[1;31m---------------------------------------------------------------------------\u001b[0m",
      "\u001b[1;31mAttributeError\u001b[0m                            Traceback (most recent call last)",
      "\u001b[1;32m~\\AppData\\Local\\Temp/ipykernel_4476/3858775003.py\u001b[0m in \u001b[0;36m<module>\u001b[1;34m\u001b[0m\n\u001b[0;32m      2\u001b[0m \u001b[0mprint\u001b[0m\u001b[1;33m(\u001b[0m\u001b[0mmy_car\u001b[0m\u001b[1;33m.\u001b[0m\u001b[0mprice\u001b[0m\u001b[1;33m)\u001b[0m\u001b[1;33m\u001b[0m\u001b[1;33m\u001b[0m\u001b[0m\n\u001b[0;32m      3\u001b[0m \u001b[0mprint\u001b[0m\u001b[1;33m(\u001b[0m\u001b[0mmy_car\u001b[0m\u001b[1;33m.\u001b[0m\u001b[0m_speed\u001b[0m\u001b[1;33m)\u001b[0m \u001b[1;31m# 접근 가능하긴함 근데 메소드로 접근하기를 권장한다\u001b[0m\u001b[1;33m\u001b[0m\u001b[1;33m\u001b[0m\u001b[0m\n\u001b[1;32m----> 4\u001b[1;33m \u001b[0mprint\u001b[0m\u001b[1;33m(\u001b[0m\u001b[0mmy_car\u001b[0m\u001b[1;33m.\u001b[0m\u001b[0m__color\u001b[0m\u001b[1;33m)\u001b[0m \u001b[1;31m#private으로 상속도 되지 않는다\u001b[0m\u001b[1;33m\u001b[0m\u001b[1;33m\u001b[0m\u001b[0m\n\u001b[0m",
      "\u001b[1;31mAttributeError\u001b[0m: 'Car' object has no attribute '__color'"
     ]
    }
   ],
   "source": [
    "my_car = Car()\n",
    "print(my_car.price)\n",
    "print(my_car._speed) # 접근 가능하긴함 근데 메소드로 접근하기를 권장한다\n",
    "print(my_car.__color) #private으로 상속도 되지 않는다"
   ]
  },
  {
   "cell_type": "code",
   "execution_count": 5,
   "metadata": {
    "executionInfo": {
     "elapsed": 5,
     "status": "ok",
     "timestamp": 1664418471203,
     "user": {
      "displayName": "Sangwook Baek",
      "userId": "14769644796773614633"
     },
     "user_tz": -540
    },
    "id": "3XxbqPwsCPQ0"
   },
   "outputs": [],
   "source": [
    "class Car:\n",
    "  def __init__(self):\n",
    "    self._price = 0\n",
    "    self._spped = 0\n",
    "    self._color = None\n",
    "  @property\n",
    "  def price(self):\n",
    "    return  self._price\n",
    "\n",
    "  @price.setter\n",
    "  def price(self,value):\n",
    "    self._price = value\n",
    "  \n",
    "  @property\n",
    "  def speed(self):\n",
    "    return self._speed\n",
    "\n",
    "  @speed.setter\n",
    "  def speed(self,value):\n",
    "    self,_speed = value\n",
    "  @property\n",
    "  def color(self):\n",
    "    return self._color\n",
    "  @color.setter\n",
    "  def color(self,value):\n",
    "    self._color = value"
   ]
  },
  {
   "cell_type": "code",
   "execution_count": null,
   "metadata": {
    "id": "-XCBIGVhEljk"
   },
   "outputs": [],
   "source": [
    "my_car = Car()\n",
    "my_car.price = 2000\n"
   ]
  }
 ],
 "metadata": {
  "colab": {
   "authorship_tag": "ABX9TyOt/XvKMNScQ+td0yHdCCd0",
   "collapsed_sections": [],
   "provenance": []
  },
  "kernelspec": {
   "display_name": "Python 3 (ipykernel)",
   "language": "python",
   "name": "python3"
  },
  "language_info": {
   "codemirror_mode": {
    "name": "ipython",
    "version": 3
   },
   "file_extension": ".py",
   "mimetype": "text/x-python",
   "name": "python",
   "nbconvert_exporter": "python",
   "pygments_lexer": "ipython3",
   "version": "3.9.7"
  },
  "toc": {
   "base_numbering": 1,
   "nav_menu": {},
   "number_sections": true,
   "sideBar": true,
   "skip_h1_title": false,
   "title_cell": "Table of Contents",
   "title_sidebar": "Contents",
   "toc_cell": false,
   "toc_position": {},
   "toc_section_display": true,
   "toc_window_display": false
  },
  "varInspector": {
   "cols": {
    "lenName": 16,
    "lenType": 16,
    "lenVar": 40
   },
   "kernels_config": {
    "python": {
     "delete_cmd_postfix": "",
     "delete_cmd_prefix": "del ",
     "library": "var_list.py",
     "varRefreshCmd": "print(var_dic_list())"
    },
    "r": {
     "delete_cmd_postfix": ") ",
     "delete_cmd_prefix": "rm(",
     "library": "var_list.r",
     "varRefreshCmd": "cat(var_dic_list()) "
    }
   },
   "types_to_exclude": [
    "module",
    "function",
    "builtin_function_or_method",
    "instance",
    "_Feature"
   ],
   "window_display": false
  }
 },
 "nbformat": 4,
 "nbformat_minor": 1
}
