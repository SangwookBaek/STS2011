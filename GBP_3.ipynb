{
 "cells": [
  {
   "cell_type": "code",
   "execution_count": 1,
   "id": "6db0633b",
   "metadata": {},
   "outputs": [
    {
     "ename": "SyntaxError",
     "evalue": "cannot assign to operator (Temp/ipykernel_16984/1220726291.py, line 1)",
     "output_type": "error",
     "traceback": [
      "\u001b[1;36m  File \u001b[1;32m\"C:\\Users\\datawork\\AppData\\Local\\Temp/ipykernel_16984/1220726291.py\"\u001b[1;36m, line \u001b[1;32m1\u001b[0m\n\u001b[1;33m    msg@book = \"Hello World\"\u001b[0m\n\u001b[1;37m    ^\u001b[0m\n\u001b[1;31mSyntaxError\u001b[0m\u001b[1;31m:\u001b[0m cannot assign to operator\n"
     ]
    }
   ],
   "source": [
    "msg@book = \"Hello World\""
   ]
  },
  {
   "cell_type": "code",
   "execution_count": 3,
   "id": "26dd2342",
   "metadata": {},
   "outputs": [
    {
     "name": "stdout",
     "output_type": "stream",
     "text": [
      "Overwriting NameA.py\n"
     ]
    }
   ],
   "source": [
    "%%writefile NameA.py\n",
    "\n",
    "def func():\n",
    "    print(\"function A.py야!\")\n",
    "print(\"top-level A.py\")\n",
    "\n",
    "if __name__ == \"__main__\":\n",
    "    print(\"A.py 직접실행\")\n",
    "else:\n",
    "    print(\"A.py가 임포트되어 사용됨\")"
   ]
  },
  {
   "cell_type": "code",
   "execution_count": 7,
   "id": "ea7785e7",
   "metadata": {},
   "outputs": [
    {
     "name": "stdout",
     "output_type": "stream",
     "text": [
      "Overwriting NameB.py\n"
     ]
    }
   ],
   "source": [
    "%%writefile NameB.py\n",
    "\n",
    "import NameA\n",
    "print(\"top-level B.py\")\n",
    "NameA.func()\n",
    "\n",
    "if __name__ == \"__main__\":\n",
    "    print(\"B.py 직접실행\")\n",
    "else:\n",
    "    print(\"B.py 임포트되어 사용됨\")"
   ]
  },
  {
   "cell_type": "code",
   "execution_count": 5,
   "id": "27168f15",
   "metadata": {},
   "outputs": [
    {
     "name": "stdout",
     "output_type": "stream",
     "text": [
      "top-level A.py\n",
      "A.py 직접실행\n"
     ]
    }
   ],
   "source": [
    "%run NameA.py"
   ]
  },
  {
   "cell_type": "code",
   "execution_count": 8,
   "id": "66e64048",
   "metadata": {},
   "outputs": [
    {
     "name": "stdout",
     "output_type": "stream",
     "text": [
      "top-level A.py\n",
      "A.py가 임포트되어 사용됨\n",
      "top-level B.py\n",
      "function A.py야!\n",
      "B.py 직접실행\n"
     ]
    }
   ],
   "source": [
    "%run NameB.py"
   ]
  },
  {
   "cell_type": "code",
   "execution_count": 10,
   "id": "fd65c89b",
   "metadata": {},
   "outputs": [],
   "source": [
    "x = 257\n",
    "y = 257"
   ]
  },
  {
   "cell_type": "code",
   "execution_count": 11,
   "id": "2c94a3fe",
   "metadata": {},
   "outputs": [
    {
     "data": {
      "text/plain": [
       "False"
      ]
     },
     "execution_count": 11,
     "metadata": {},
     "output_type": "execute_result"
    }
   ],
   "source": [
    "id(x) == id(y)"
   ]
  },
  {
   "cell_type": "code",
   "execution_count": null,
   "id": "a5dd87a5",
   "metadata": {},
   "outputs": [],
   "source": []
  }
 ],
 "metadata": {
  "kernelspec": {
   "display_name": "Python 3 (ipykernel)",
   "language": "python",
   "name": "python3"
  },
  "language_info": {
   "codemirror_mode": {
    "name": "ipython",
    "version": 3
   },
   "file_extension": ".py",
   "mimetype": "text/x-python",
   "name": "python",
   "nbconvert_exporter": "python",
   "pygments_lexer": "ipython3",
   "version": "3.9.7"
  },
  "toc": {
   "base_numbering": 1,
   "nav_menu": {},
   "number_sections": true,
   "sideBar": true,
   "skip_h1_title": false,
   "title_cell": "Table of Contents",
   "title_sidebar": "Contents",
   "toc_cell": false,
   "toc_position": {},
   "toc_section_display": true,
   "toc_window_display": false
  },
  "varInspector": {
   "cols": {
    "lenName": 16,
    "lenType": 16,
    "lenVar": 40
   },
   "kernels_config": {
    "python": {
     "delete_cmd_postfix": "",
     "delete_cmd_prefix": "del ",
     "library": "var_list.py",
     "varRefreshCmd": "print(var_dic_list())"
    },
    "r": {
     "delete_cmd_postfix": ") ",
     "delete_cmd_prefix": "rm(",
     "library": "var_list.r",
     "varRefreshCmd": "cat(var_dic_list()) "
    }
   },
   "types_to_exclude": [
    "module",
    "function",
    "builtin_function_or_method",
    "instance",
    "_Feature"
   ],
   "window_display": false
  }
 },
 "nbformat": 4,
 "nbformat_minor": 5
}
