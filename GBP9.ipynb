{
 "cells": [
  {
   "cell_type": "code",
   "execution_count": 2,
   "id": "3da124bc",
   "metadata": {},
   "outputs": [],
   "source": [
    "import os"
   ]
  },
  {
   "cell_type": "code",
   "execution_count": 5,
   "id": "882e0c2d",
   "metadata": {},
   "outputs": [
    {
     "data": {
      "text/plain": [
       "'C:\\\\Users\\\\datawork\\\\Desktop\\\\2022_02\\\\기빅프\\\\notebook_files'"
      ]
     },
     "execution_count": 5,
     "metadata": {},
     "output_type": "execute_result"
    }
   ],
   "source": [
    "os.getcwd()"
   ]
  },
  {
   "cell_type": "code",
   "execution_count": 6,
   "id": "3e859d75",
   "metadata": {},
   "outputs": [],
   "source": [
    "dir_list=os.listdir(os.getcwd())"
   ]
  },
  {
   "cell_type": "code",
   "execution_count": 7,
   "id": "45a1cdd6",
   "metadata": {},
   "outputs": [
    {
     "data": {
      "text/plain": [
       "['.ipynb_checkpoints',\n",
       " '20190388_백상욱_ Food_class_객체들의_가격비교.ipynb',\n",
       " '20190388_백상욱_Employee_class가포함된회사만들기.ipynb',\n",
       " '20190388_백상욱_fibonacci.ipynb',\n",
       " '20190388_백상욱_FourCal만들기.ipynb',\n",
       " '20190388_백상욱_yield이용하기.ipynb',\n",
       " '20190388_백상욱_대소문자변경.ipynb',\n",
       " '20190388_백상욱_실행시간구하기.ipynb',\n",
       " '20190388_백상욱_역순출력.ipynb',\n",
       " '20190388_백상욱_윤년과_요일찾기_OOP_V1.ipynb',\n",
       " '20190388_백상욱_윤년과요일찾기.ipynb',\n",
       " '20190388_백상욱_윤년구하기.ipynb',\n",
       " '20190388_백상욱_인자를갖는함수에대한decorator만들기.ipynb',\n",
       " 'addAddiUn.py',\n",
       " 'chan.py',\n",
       " 'fibona.py',\n",
       " 'fibonacci.py',\n",
       " 'Fibonacci1.py',\n",
       " 'Fiponacci1.py',\n",
       " 'GBP_1.ipynb',\n",
       " 'GBP_3.ipynb',\n",
       " 'GBP_4.ipynb',\n",
       " 'GBP_5.ipynb',\n",
       " 'GBP_6.ipynb',\n",
       " 'GBP_7.ipynb',\n",
       " 'GBP_8.ipynb',\n",
       " 'get_date.py',\n",
       " 'get_date_class.py',\n",
       " 'NameA.py',\n",
       " 'NameB.py',\n",
       " 'testM.py',\n",
       " 'Untitled.ipynb',\n",
       " 'Untitled1.ipynb',\n",
       " 'Untitled2.ipynb',\n",
       " '__pycache__']"
      ]
     },
     "execution_count": 7,
     "metadata": {},
     "output_type": "execute_result"
    }
   ],
   "source": [
    "dir_list"
   ]
  },
  {
   "cell_type": "code",
   "execution_count": 8,
   "id": "169d5cc1",
   "metadata": {},
   "outputs": [],
   "source": [
    "import glob"
   ]
  },
  {
   "cell_type": "code",
   "execution_count": 11,
   "id": "d09f4fc1",
   "metadata": {},
   "outputs": [
    {
     "name": "stdout",
     "output_type": "stream",
     "text": [
      "20190388_백상욱_ Food_class_객체들의_가격비교.ipynb\n",
      "20190388_백상욱_Employee_class가포함된회사만들기.ipynb\n",
      "20190388_백상욱_fibonacci.ipynb\n",
      "20190388_백상욱_FourCal만들기.ipynb\n",
      "20190388_백상욱_yield이용하기.ipynb\n",
      "20190388_백상욱_대소문자변경.ipynb\n",
      "20190388_백상욱_실행시간구하기.ipynb\n",
      "20190388_백상욱_역순출력.ipynb\n",
      "20190388_백상욱_윤년과_요일찾기_OOP_V1.ipynb\n",
      "20190388_백상욱_윤년과요일찾기.ipynb\n",
      "20190388_백상욱_윤년구하기.ipynb\n",
      "20190388_백상욱_인자를갖는함수에대한decorator만들기.ipynb\n",
      "addAddiUn.py\n",
      "chan.py\n",
      "fibona.py\n",
      "fibonacci.py\n",
      "Fibonacci1.py\n",
      "Fiponacci1.py\n",
      "GBP_1.ipynb\n",
      "GBP_3.ipynb\n",
      "GBP_4.ipynb\n",
      "GBP_5.ipynb\n",
      "GBP_6.ipynb\n",
      "GBP_7.ipynb\n",
      "GBP_8.ipynb\n",
      "get_date.py\n",
      "get_date_class.py\n",
      "NameA.py\n",
      "NameB.py\n",
      "testM.py\n",
      "Untitled.ipynb\n",
      "Untitled1.ipynb\n",
      "Untitled2.ipynb\n",
      "__pycache__ <DIR>\n"
     ]
    }
   ],
   "source": [
    "files = glob.glob(\"*\")\n",
    "for x in files:\n",
    "    if os.path.isdir(x):\n",
    "        print(f\"{x} <DIR>\")\n",
    "    else:\n",
    "        print(x)"
   ]
  },
  {
   "cell_type": "code",
   "execution_count": 16,
   "id": "b14bf4ae",
   "metadata": {},
   "outputs": [
    {
     "name": "stdout",
     "output_type": "stream",
     "text": [
      "Overwriting command_arguments.py\n"
     ]
    }
   ],
   "source": [
    "%%writefile command_arguments.py\n",
    "import sys\n",
    "if __name__ == \"__main__\":\n",
    "     print(\"명령행 인자의 갯수:\", len(sys.argv))\n",
    "\n",
    "for item in sys.argv:\n",
    "     print(item)\n"
   ]
  },
  {
   "cell_type": "code",
   "execution_count": 17,
   "id": "1c12daa9",
   "metadata": {},
   "outputs": [
    {
     "name": "stdout",
     "output_type": "stream",
     "text": [
      "명령행 인자의 갯수: 4\n",
      "command_arguments.py\n",
      "1\n",
      "2\n",
      "Hello\n"
     ]
    }
   ],
   "source": [
    "%run command_arguments.py 1 2 \"Hello\""
   ]
  },
  {
   "cell_type": "code",
   "execution_count": 18,
   "id": "737d62e5",
   "metadata": {},
   "outputs": [
    {
     "data": {
      "text/plain": [
       "'nt'"
      ]
     },
     "execution_count": 18,
     "metadata": {},
     "output_type": "execute_result"
    }
   ],
   "source": [
    "os.name"
   ]
  },
  {
   "cell_type": "code",
   "execution_count": 19,
   "id": "66c5a1cb",
   "metadata": {},
   "outputs": [],
   "source": [
    "import math as  m"
   ]
  },
  {
   "cell_type": "code",
   "execution_count": null,
   "id": "58a05ff4",
   "metadata": {},
   "outputs": [],
   "source": [
    "print((2000/m.log))"
   ]
  },
  {
   "cell_type": "code",
   "execution_count": 21,
   "id": "48ecbdf4",
   "metadata": {},
   "outputs": [],
   "source": [
    "from time import localtime, strftime"
   ]
  },
  {
   "cell_type": "code",
   "execution_count": 30,
   "id": "f7ff3710",
   "metadata": {},
   "outputs": [
    {
     "name": "stdout",
     "output_type": "stream",
     "text": [
      "2022 -10 -11 Tuesday 11 24\n"
     ]
    }
   ],
   "source": [
    "print(strftime (\"%Y -%m -%d %A %I %M\",localtime()))"
   ]
  },
  {
   "cell_type": "code",
   "execution_count": 26,
   "id": "aa25c25a",
   "metadata": {},
   "outputs": [
    {
     "name": "stdout",
     "output_type": "stream",
     "text": [
      "2022/10/11\n"
     ]
    }
   ],
   "source": [
    "print(strftime (\"%Y/%m/%d\",localtime()))"
   ]
  },
  {
   "cell_type": "code",
   "execution_count": 28,
   "id": "71c14ff3",
   "metadata": {},
   "outputs": [
    {
     "name": "stdout",
     "output_type": "stream",
     "text": [
      "년도:2022\n",
      "월:10\n",
      "일:11\n",
      "요일:Tuesday\n"
     ]
    }
   ],
   "source": [
    "print(strftime (\"년도:%Y\\n월:%m\\n일:%d\\n요일:%A\",localtime()))"
   ]
  },
  {
   "cell_type": "code",
   "execution_count": 32,
   "id": "26448274",
   "metadata": {},
   "outputs": [
    {
     "name": "stdout",
     "output_type": "stream",
     "text": [
      "Enter a number:15\n",
      "Enter a number:35\n",
      "Time gap: 3.9005558490753174\n"
     ]
    }
   ],
   "source": [
    "import time \n",
    "if __name__ ==\"__main__\":\n",
    "    t1 = time.time()\n",
    "    input(\"Enter a number:\")\n",
    "    t1 = time.time()\n",
    "    time.sleep(3)\n",
    "    input(\"Enter a number:\")\n",
    "    t2 = time.time()\n",
    "    time_gap = t2-t1\n",
    "    print(f\"Time gap: {time_gap}\")"
   ]
  },
  {
   "cell_type": "code",
   "execution_count": 53,
   "id": "7ff8d47c",
   "metadata": {},
   "outputs": [
    {
     "name": "stdout",
     "output_type": "stream",
     "text": [
      "Overwriting W_2.py\n"
     ]
    }
   ],
   "source": [
    "%%writefile W_2.py\n",
    "\n",
    "import sys\n",
    "import datetime\n",
    "day_list = [\"월\",\"화\",\"수\",\"목\",\"금\",\"토\",\"일\"]\n",
    "input_date=datetime.datetime(int(sys.argv[1]),int(sys.argv[2]),int(sys.argv[3]))\n",
    "print(day_list[input_date.weekday()])"
   ]
  },
  {
   "cell_type": "code",
   "execution_count": 52,
   "id": "38eb937e",
   "metadata": {},
   "outputs": [
    {
     "name": "stdout",
     "output_type": "stream",
     "text": [
      "2019-10-01 00:00:00\n",
      "화\n"
     ]
    }
   ],
   "source": [
    "%run W_2 2019 10 1"
   ]
  },
  {
   "cell_type": "code",
   "execution_count": 54,
   "id": "410b6720",
   "metadata": {},
   "outputs": [
    {
     "name": "stdout",
     "output_type": "stream",
     "text": [
      "월\n"
     ]
    }
   ],
   "source": [
    "%run W_2 2019 10 14"
   ]
  },
  {
   "cell_type": "code",
   "execution_count": null,
   "id": "18aa773c",
   "metadata": {},
   "outputs": [],
   "source": []
  }
 ],
 "metadata": {
  "kernelspec": {
   "display_name": "Python 3 (ipykernel)",
   "language": "python",
   "name": "python3"
  },
  "language_info": {
   "codemirror_mode": {
    "name": "ipython",
    "version": 3
   },
   "file_extension": ".py",
   "mimetype": "text/x-python",
   "name": "python",
   "nbconvert_exporter": "python",
   "pygments_lexer": "ipython3",
   "version": "3.9.7"
  },
  "toc": {
   "base_numbering": 1,
   "nav_menu": {},
   "number_sections": true,
   "sideBar": true,
   "skip_h1_title": false,
   "title_cell": "Table of Contents",
   "title_sidebar": "Contents",
   "toc_cell": false,
   "toc_position": {},
   "toc_section_display": true,
   "toc_window_display": false
  },
  "varInspector": {
   "cols": {
    "lenName": 16,
    "lenType": 16,
    "lenVar": 40
   },
   "kernels_config": {
    "python": {
     "delete_cmd_postfix": "",
     "delete_cmd_prefix": "del ",
     "library": "var_list.py",
     "varRefreshCmd": "print(var_dic_list())"
    },
    "r": {
     "delete_cmd_postfix": ") ",
     "delete_cmd_prefix": "rm(",
     "library": "var_list.r",
     "varRefreshCmd": "cat(var_dic_list()) "
    }
   },
   "types_to_exclude": [
    "module",
    "function",
    "builtin_function_or_method",
    "instance",
    "_Feature"
   ],
   "window_display": false
  }
 },
 "nbformat": 4,
 "nbformat_minor": 5
}
