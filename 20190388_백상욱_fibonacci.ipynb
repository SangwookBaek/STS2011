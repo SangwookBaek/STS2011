{
 "cells": [
  {
   "cell_type": "code",
   "execution_count": 1,
   "id": "3ff30689",
   "metadata": {},
   "outputs": [
    {
     "name": "stdout",
     "output_type": "stream",
     "text": [
      "Overwriting fibonacci.py\n"
     ]
    }
   ],
   "source": [
    "%%writefile fibonacci.py\n",
    "\n",
    "n = int(input(\"input: \"))\n",
    "total = 0\n",
    "n_to_1 = 1\n",
    "n_to_2 = 0\n",
    "if n == 0:\n",
    "    total = n_to_2\n",
    "\n",
    "elif n == 1:\n",
    "    total = n_to_1\n",
    "    \n",
    "else:\n",
    "    for i in range(1,n):\n",
    "        total = n_to_2 + n_to_1\n",
    "        n_to_2 = n_to_1\n",
    "        n_to_1 = total\n",
    "print(total)"
   ]
  },
  {
   "cell_type": "code",
   "execution_count": 2,
   "id": "ce531e93",
   "metadata": {},
   "outputs": [
    {
     "name": "stdout",
     "output_type": "stream",
     "text": [
      "input: 7\n",
      "13\n"
     ]
    }
   ],
   "source": [
    "%run fibonacci.py"
   ]
  },
  {
   "cell_type": "code",
   "execution_count": 3,
   "id": "b3c09e68",
   "metadata": {},
   "outputs": [
    {
     "name": "stdout",
     "output_type": "stream",
     "text": [
      "Overwriting fibona.py\n"
     ]
    }
   ],
   "source": [
    "%%writefile fibona.py\n",
    "\n",
    "def fibo(n):\n",
    "    total = 0\n",
    "    n_to_1 = 1\n",
    "    n_to_2 = 0\n",
    "    if n == 0:\n",
    "        total = n_to_2\n",
    "\n",
    "    elif n == 1:\n",
    "        total = n_to_1\n",
    "    \n",
    "    else:\n",
    "        for i in range(1,n):\n",
    "            total = n_to_2 + n_to_1\n",
    "            n_to_2 = n_to_1\n",
    "            n_to_1 = total\n",
    "    print(total)"
   ]
  },
  {
   "cell_type": "code",
   "execution_count": 5,
   "id": "e6448b99",
   "metadata": {},
   "outputs": [
    {
     "name": "stdout",
     "output_type": "stream",
     "text": [
      "13\n"
     ]
    }
   ],
   "source": [
    "import fibona\n",
    "fibona.fibo(7)"
   ]
  },
  {
   "cell_type": "code",
   "execution_count": null,
   "id": "342b4f1f",
   "metadata": {},
   "outputs": [],
   "source": []
  }
 ],
 "metadata": {
  "kernelspec": {
   "display_name": "Python 3 (ipykernel)",
   "language": "python",
   "name": "python3"
  },
  "language_info": {
   "codemirror_mode": {
    "name": "ipython",
    "version": 3
   },
   "file_extension": ".py",
   "mimetype": "text/x-python",
   "name": "python",
   "nbconvert_exporter": "python",
   "pygments_lexer": "ipython3",
   "version": "3.9.7"
  },
  "toc": {
   "base_numbering": 1,
   "nav_menu": {},
   "number_sections": true,
   "sideBar": true,
   "skip_h1_title": false,
   "title_cell": "Table of Contents",
   "title_sidebar": "Contents",
   "toc_cell": false,
   "toc_position": {},
   "toc_section_display": true,
   "toc_window_display": false
  },
  "varInspector": {
   "cols": {
    "lenName": 16,
    "lenType": 16,
    "lenVar": 40
   },
   "kernels_config": {
    "python": {
     "delete_cmd_postfix": "",
     "delete_cmd_prefix": "del ",
     "library": "var_list.py",
     "varRefreshCmd": "print(var_dic_list())"
    },
    "r": {
     "delete_cmd_postfix": ") ",
     "delete_cmd_prefix": "rm(",
     "library": "var_list.r",
     "varRefreshCmd": "cat(var_dic_list()) "
    }
   },
   "types_to_exclude": [
    "module",
    "function",
    "builtin_function_or_method",
    "instance",
    "_Feature"
   ],
   "window_display": false
  }
 },
 "nbformat": 4,
 "nbformat_minor": 5
}
