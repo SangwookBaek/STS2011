{
 "cells": [
  {
   "cell_type": "code",
   "execution_count": 1,
   "id": "df659118",
   "metadata": {},
   "outputs": [],
   "source": [
    "import time\n",
    "import random"
   ]
  },
  {
   "cell_type": "code",
   "execution_count": 4,
   "id": "cd6a9ae9",
   "metadata": {},
   "outputs": [],
   "source": [
    "class Person:\n",
    "    def __init__(self,name,age,gender):\n",
    "        self.Name = name\n",
    "        self.Age = age\n",
    "        self.Gender = gender\n",
    "    def aboutMe(self):\n",
    "        print(f\"이름은 {self.Name}이고, 나이는 {self.Age}살입니다\")"
   ]
  },
  {
   "cell_type": "code",
   "execution_count": 5,
   "id": "9b8eac08",
   "metadata": {},
   "outputs": [],
   "source": [
    "class Employee(Person):\n",
    "    def __init__(self,name,age,gender,salary,hiredate):\n",
    "        super().__init__(name,age,gender)\n",
    "        self.Salary = salary\n",
    "        self.Hiredate = hiredate\n",
    "    def doWork(self):\n",
    "        print(\"열심히 일합니다.\")\n",
    "    def aboutMe(self):\n",
    "        super().aboutMe()\n",
    "        print(f\"급여는 {self.Salary}원이고, 입사일은 {self.Hiredate}입니다\")\n",
    "        "
   ]
  },
  {
   "cell_type": "code",
   "execution_count": 6,
   "id": "d178d37c",
   "metadata": {},
   "outputs": [],
   "source": [
    "def checkTime(func):\n",
    "    def new_function(self):\n",
    "        start = time.time()\n",
    "        func(self)\n",
    "        end = time.time()\n",
    "        print(f\"소요시간은 {(end - start)*10000:.0f}입니다\")\n",
    "    return new_function\n"
   ]
  },
  {
   "cell_type": "code",
   "execution_count": 7,
   "id": "d7d3fadb",
   "metadata": {},
   "outputs": [],
   "source": [
    "class Engineer(Employee):\n",
    "    def __init__(self,name,age,gender,salary,hiredate,stack,project):\n",
    "        super().__init__(name,age,gender,salary,hiredate)\n",
    "        self.Project = project\n",
    "        self.Stack = stack\n",
    "    @checkTime\n",
    "    def doWork(self):\n",
    "        start_time = time.time()\n",
    "        print(f\"{self.Project}를 수행합니다\")\n",
    "        print(\"열심히 코딩합니다.\")\n",
    "        task=random.randint(2000,5000)\n",
    "        for i in range(task):\n",
    "            a=i\n",
    "        print(\"프로젝트를 마무리합니다\")\n",
    "    def aboutMe(self):\n",
    "        super().aboutMe()\n",
    "        print(f\"참여중인 프로젝트는 {self.Project}이며, 개발스택은 다음과 같습니다: {self.Stack}\")"
   ]
  },
  {
   "cell_type": "code",
   "execution_count": 36,
   "id": "dcbe4ab0",
   "metadata": {
    "code_folding": []
   },
   "outputs": [],
   "source": [
    "class PM(Employee):\n",
    "    def __init__(self,name,age,gender,salary,hiredate,team,project):\n",
    "        super().__init__(name,age,gender,salary,hiredate)\n",
    "        self._Project = project\n",
    "        self._Team = team\n",
    "    @property\n",
    "    def Project(self):\n",
    "        return self._Project\n",
    "    @Project.setter\n",
    "    def Project(self,project):\n",
    "        self._Project = project\n",
    "        print(f\"맡고 있는 프로젝트가 {self._Project}로 변경되었습니다.\")\n",
    "    @property\n",
    "    def Team(self):\n",
    "        return self._Team\n",
    "    @Team.setter\n",
    "    def Team(self,team):\n",
    "        self._Team = team\n",
    "        print(f\"속한 팀이 {self._Team}으로 변경되었습니다.\")\n",
    "    def doWork(self):\n",
    "        print(f\"{self._Project}프로젝트를 관리 및 수행합니다\")\n",
    "    def aboutMe(self):\n",
    "        super().aboutMe()\n",
    "        print(f\"{self._Team}팀에 속해 {self._Project} 프로젝트를 진행 중이며 PM을 맡고 있습니다.\")\n"
   ]
  },
  {
   "cell_type": "code",
   "execution_count": 37,
   "id": "653689df",
   "metadata": {},
   "outputs": [],
   "source": [
    "engineer_1=Engineer(\"백상욱\",\"25\",\"남\",\"60000000\",\"2022년 10월 10일\",\"C,Python,Scikit-Learn,Pytorch\",\"NLP 번역\")"
   ]
  },
  {
   "cell_type": "code",
   "execution_count": 38,
   "id": "5e5ed18a",
   "metadata": {},
   "outputs": [
    {
     "name": "stdout",
     "output_type": "stream",
     "text": [
      "NLP 번역를 수행합니다\n",
      "열심히 코딩합니다.\n",
      "프로젝트를 마무리합니다\n",
      "소요시간은 7입니다\n"
     ]
    }
   ],
   "source": [
    "engineer_1.doWork()"
   ]
  },
  {
   "cell_type": "code",
   "execution_count": 39,
   "id": "0d7b6086",
   "metadata": {},
   "outputs": [
    {
     "name": "stdout",
     "output_type": "stream",
     "text": [
      "이름은 백상욱이고, 나이는 25살입니다\n",
      "급여는 60000000원이고, 입사일은 2022년 10월 10일입니다\n",
      "참여중인 프로젝트는 NLP 번역이며, 개발스택은 다음과 같습니다: C,Python,Scikit-Learn,Pytorch\n"
     ]
    }
   ],
   "source": [
    "engineer_1.aboutMe()"
   ]
  },
  {
   "cell_type": "code",
   "execution_count": 40,
   "id": "9f14cb2f",
   "metadata": {},
   "outputs": [],
   "source": [
    "PM_1=PM(\"백상욱\",\"25\",\"남\",\"60000000\",\"2022년 10월 10일\",\"머신러닝 엔지니어링\",\"NLP 번역\")"
   ]
  },
  {
   "cell_type": "code",
   "execution_count": 41,
   "id": "8279f37f",
   "metadata": {},
   "outputs": [
    {
     "name": "stdout",
     "output_type": "stream",
     "text": [
      "NLP 번역프로젝트를 관리 및 수행합니다\n"
     ]
    }
   ],
   "source": [
    "PM_1.doWork()"
   ]
  },
  {
   "cell_type": "code",
   "execution_count": 42,
   "id": "57c89063",
   "metadata": {},
   "outputs": [
    {
     "name": "stdout",
     "output_type": "stream",
     "text": [
      "이름은 백상욱이고, 나이는 25살입니다\n",
      "급여는 60000000원이고, 입사일은 2022년 10월 10일입니다\n",
      "머신러닝 엔지니어링팀에 속해 NLP 번역 프로젝트를 진행 중이며 PM을 맡고 있습니다.\n"
     ]
    }
   ],
   "source": [
    "PM_1.aboutMe()"
   ]
  },
  {
   "cell_type": "code",
   "execution_count": 43,
   "id": "1633bfbc",
   "metadata": {},
   "outputs": [
    {
     "name": "stdout",
     "output_type": "stream",
     "text": [
      "속한 팀이 data engineering으로 변경되었습니다.\n"
     ]
    }
   ],
   "source": [
    "PM_1.Team = \"data engineering\""
   ]
  },
  {
   "cell_type": "code",
   "execution_count": 44,
   "id": "b4aa16a6",
   "metadata": {},
   "outputs": [
    {
     "name": "stdout",
     "output_type": "stream",
     "text": [
      "맡고 있는 프로젝트가 데이터 베이스 구축로 변경되었습니다.\n"
     ]
    }
   ],
   "source": [
    "PM_1.Project = \"데이터 베이스 구축\""
   ]
  },
  {
   "cell_type": "code",
   "execution_count": 45,
   "id": "a85b1f22",
   "metadata": {},
   "outputs": [
    {
     "name": "stdout",
     "output_type": "stream",
     "text": [
      "이름은 백상욱이고, 나이는 25살입니다\n",
      "급여는 60000000원이고, 입사일은 2022년 10월 10일입니다\n",
      "data engineering팀에 속해 데이터 베이스 구축 프로젝트를 진행 중이며 PM을 맡고 있습니다.\n"
     ]
    }
   ],
   "source": [
    "PM_1.aboutMe()"
   ]
  }
 ],
 "metadata": {
  "kernelspec": {
   "display_name": "Python 3 (ipykernel)",
   "language": "python",
   "name": "python3"
  },
  "language_info": {
   "codemirror_mode": {
    "name": "ipython",
    "version": 3
   },
   "file_extension": ".py",
   "mimetype": "text/x-python",
   "name": "python",
   "nbconvert_exporter": "python",
   "pygments_lexer": "ipython3",
   "version": "3.9.7"
  },
  "toc": {
   "base_numbering": 1,
   "nav_menu": {},
   "number_sections": true,
   "sideBar": true,
   "skip_h1_title": false,
   "title_cell": "Table of Contents",
   "title_sidebar": "Contents",
   "toc_cell": false,
   "toc_position": {},
   "toc_section_display": true,
   "toc_window_display": false
  },
  "varInspector": {
   "cols": {
    "lenName": 16,
    "lenType": 16,
    "lenVar": 40
   },
   "kernels_config": {
    "python": {
     "delete_cmd_postfix": "",
     "delete_cmd_prefix": "del ",
     "library": "var_list.py",
     "varRefreshCmd": "print(var_dic_list())"
    },
    "r": {
     "delete_cmd_postfix": ") ",
     "delete_cmd_prefix": "rm(",
     "library": "var_list.r",
     "varRefreshCmd": "cat(var_dic_list()) "
    }
   },
   "types_to_exclude": [
    "module",
    "function",
    "builtin_function_or_method",
    "instance",
    "_Feature"
   ],
   "window_display": false
  }
 },
 "nbformat": 4,
 "nbformat_minor": 5
}
