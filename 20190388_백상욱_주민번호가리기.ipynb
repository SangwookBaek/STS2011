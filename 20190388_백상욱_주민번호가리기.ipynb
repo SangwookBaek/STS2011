{
 "cells": [
  {
   "cell_type": "code",
   "execution_count": 3,
   "id": "46946bda",
   "metadata": {},
   "outputs": [
    {
     "name": "stdout",
     "output_type": "stream",
     "text": [
      "park sunje  남 890901-********\n",
      "kim sunhee  여 990103-********\n"
     ]
    }
   ],
   "source": [
    "data = '''\n",
    "park sunje 890901-107442\n",
    "kim sunhee 990103-2079912\n",
    "'''\n",
    "\n",
    "number_list = [\"0\",\"1\",\"2\",\"3\",\"4\",\"5\",\"6\",\"7\",\"8\",\"9\"]\n",
    "data_list=data.split(\"\\n\")\n",
    "data_list =data_list[1:-1]\n",
    "\n",
    "for i in data_list:\n",
    "    sex = \"\"\n",
    "    new_str = \"\"\n",
    "    for j in i.split(\" \"):\n",
    "        if (j[0] in number_list):\n",
    "            if (j[7] == \"1\" or j[7]==\"3\"):\n",
    "                sex = \"남\"\n",
    "            elif (j[7] == \"2\" or j[7]==\"4\"):\n",
    "                sex = \"여\"\n",
    "            new_str = new_str +\" \"+ sex +\" \"+j[0:7]+(\"*\"*8)\n",
    "        else:\n",
    "            new_str =new_str + j+\" \";\n",
    "    print(new_str)\n",
    "    "
   ]
  },
  {
   "cell_type": "code",
   "execution_count": 4,
   "id": "f1a54483",
   "metadata": {},
   "outputs": [
    {
     "name": "stdout",
     "output_type": "stream",
     "text": [
      "홍길동  남 560922-******** 02-705-8491 \n",
      "홍길동  남 560922-******** 042-705-8491 \n",
      "김바한솔  남 911212-******** 042-705-8491 \n",
      "김영찬  남 920922-******** 031-7054-8491 \n"
     ]
    }
   ],
   "source": [
    "fp = open(\"Testdata.txt\",\"rt\",encoding=\"UTF-8\")\n",
    "testdata=fp.read()\n",
    "\n",
    "test_list=testdata.split(\"\\n\")\n",
    "number_list = [\"0\",\"1\",\"2\",\"3\",\"4\",\"5\",\"6\",\"7\",\"8\",\"9\"]\n",
    "for i in test_list:\n",
    "    sex = \"\"\n",
    "    new_str = \"\"\n",
    "    check = True\n",
    "    for j in i.split(\" \"):\n",
    "        if (j[0] in number_list and check == True):\n",
    "            if (j[7] == \"1\" or j[7]==\"3\"):\n",
    "                sex = \"남\"\n",
    "            elif (j[7] == \"2\" or j[7]==\"4\"):\n",
    "                sex = \"여\"\n",
    "            new_str = new_str +\" \"+ sex +\" \"+j[0:7]+(\"*\"*8)+\" \"\n",
    "            check=False\n",
    "        else:\n",
    "            new_str =new_str + j+\" \";\n",
    "    print(new_str)\n",
    "fp.close()"
   ]
  }
 ],
 "metadata": {
  "kernelspec": {
   "display_name": "Python 3 (ipykernel)",
   "language": "python",
   "name": "python3"
  },
  "language_info": {
   "codemirror_mode": {
    "name": "ipython",
    "version": 3
   },
   "file_extension": ".py",
   "mimetype": "text/x-python",
   "name": "python",
   "nbconvert_exporter": "python",
   "pygments_lexer": "ipython3",
   "version": "3.9.7"
  },
  "toc": {
   "base_numbering": 1,
   "nav_menu": {},
   "number_sections": true,
   "sideBar": true,
   "skip_h1_title": false,
   "title_cell": "Table of Contents",
   "title_sidebar": "Contents",
   "toc_cell": false,
   "toc_position": {},
   "toc_section_display": true,
   "toc_window_display": false
  },
  "varInspector": {
   "cols": {
    "lenName": 16,
    "lenType": 16,
    "lenVar": 40
   },
   "kernels_config": {
    "python": {
     "delete_cmd_postfix": "",
     "delete_cmd_prefix": "del ",
     "library": "var_list.py",
     "varRefreshCmd": "print(var_dic_list())"
    },
    "r": {
     "delete_cmd_postfix": ") ",
     "delete_cmd_prefix": "rm(",
     "library": "var_list.r",
     "varRefreshCmd": "cat(var_dic_list()) "
    }
   },
   "types_to_exclude": [
    "module",
    "function",
    "builtin_function_or_method",
    "instance",
    "_Feature"
   ],
   "window_display": false
  }
 },
 "nbformat": 4,
 "nbformat_minor": 5
}
