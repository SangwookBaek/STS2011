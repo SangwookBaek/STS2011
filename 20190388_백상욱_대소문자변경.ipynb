{
 "cells": [
  {
   "cell_type": "code",
   "execution_count": 1,
   "id": "0df011a1",
   "metadata": {},
   "outputs": [
    {
     "name": "stdout",
     "output_type": "stream",
     "text": [
      "Overwriting chan.py\n"
     ]
    }
   ],
   "source": [
    "%%writefile chan.py\n",
    "\n",
    "def count_char(words):\n",
    "    keys=words.lower()\n",
    "    count_dict  = {}\n",
    "    for char in keys:\n",
    "        if (char!= \" \"):\n",
    "            if char in count_dict.keys():   \n",
    "                 count_dict[char] = count_dict[char] + 1\n",
    "            else:\n",
    "                count_dict[char] = 1\n",
    "    return count_dict\n",
    "            \n",
    "def switching(words):\n",
    "    reversed_words = \"\"\n",
    "    for char in words:\n",
    "        if (char.islower()):\n",
    "            big=char.upper()\n",
    "            reversed_words = reversed_words + big\n",
    "        else :\n",
    "            small = char.lower()\n",
    "            reversed_words = reversed_words + small\n",
    "    return reversed_words\n",
    "    \n",
    "    \n",
    "while(True):\n",
    "    words = input(\"Input:\")\n",
    "    if (words == \"STOP\") :\n",
    "        print(\"Bye\")\n",
    "        break\n",
    "    else :\n",
    "        count_dict = count_char(words)\n",
    "        print(count_dict)\n",
    "        print(switching(words))\n"
   ]
  },
  {
   "cell_type": "code",
   "execution_count": 3,
   "id": "45cc55f2",
   "metadata": {},
   "outputs": [
    {
     "name": "stdout",
     "output_type": "stream",
     "text": [
      "Input:Sogang\n",
      "{'s': 1, 'o': 1, 'g': 2, 'a': 1, 'n': 1}\n",
      "sOGANG\n",
      "Input:SOGANG\n",
      "{'s': 1, 'o': 1, 'g': 2, 'a': 1, 'n': 1}\n",
      "sogang\n",
      "Input:Univ\n",
      "{'u': 1, 'n': 1, 'i': 1, 'v': 1}\n",
      "uNIV\n",
      "Input:Tel\n",
      "{'t': 1, 'e': 1, 'l': 1}\n",
      "tEL\n",
      "Input:STOP\n",
      "Bye\n"
     ]
    }
   ],
   "source": [
    "%run chan.py"
   ]
  },
  {
   "cell_type": "code",
   "execution_count": null,
   "id": "ba915873",
   "metadata": {},
   "outputs": [],
   "source": []
  }
 ],
 "metadata": {
  "kernelspec": {
   "display_name": "Python 3 (ipykernel)",
   "language": "python",
   "name": "python3"
  },
  "language_info": {
   "codemirror_mode": {
    "name": "ipython",
    "version": 3
   },
   "file_extension": ".py",
   "mimetype": "text/x-python",
   "name": "python",
   "nbconvert_exporter": "python",
   "pygments_lexer": "ipython3",
   "version": "3.9.7"
  },
  "toc": {
   "base_numbering": 1,
   "nav_menu": {},
   "number_sections": true,
   "sideBar": true,
   "skip_h1_title": false,
   "title_cell": "Table of Contents",
   "title_sidebar": "Contents",
   "toc_cell": false,
   "toc_position": {},
   "toc_section_display": true,
   "toc_window_display": false
  },
  "varInspector": {
   "cols": {
    "lenName": 16,
    "lenType": 16,
    "lenVar": 40
   },
   "kernels_config": {
    "python": {
     "delete_cmd_postfix": "",
     "delete_cmd_prefix": "del ",
     "library": "var_list.py",
     "varRefreshCmd": "print(var_dic_list())"
    },
    "r": {
     "delete_cmd_postfix": ") ",
     "delete_cmd_prefix": "rm(",
     "library": "var_list.r",
     "varRefreshCmd": "cat(var_dic_list()) "
    }
   },
   "types_to_exclude": [
    "module",
    "function",
    "builtin_function_or_method",
    "instance",
    "_Feature"
   ],
   "window_display": false
  }
 },
 "nbformat": 4,
 "nbformat_minor": 5
}
