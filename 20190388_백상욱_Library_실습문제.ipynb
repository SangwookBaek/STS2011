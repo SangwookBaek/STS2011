{
 "cells": [
  {
   "cell_type": "markdown",
   "id": "89ac0a5b",
   "metadata": {},
   "source": [
    "### "
   ]
  },
  {
   "cell_type": "code",
   "execution_count": 1,
   "id": "f154fb75",
   "metadata": {},
   "outputs": [
    {
     "data": {
      "text/plain": [
       "'nt'"
      ]
     },
     "execution_count": 1,
     "metadata": {},
     "output_type": "execute_result"
    }
   ],
   "source": [
    "import os\n",
    "os.name"
   ]
  },
  {
   "cell_type": "markdown",
   "id": "3887c3e3",
   "metadata": {},
   "source": [
    "### "
   ]
  },
  {
   "cell_type": "code",
   "execution_count": 3,
   "id": "43f84842",
   "metadata": {},
   "outputs": [
    {
     "name": "stdout",
     "output_type": "stream",
     "text": [
      "Writing leaparg.py\n"
     ]
    }
   ],
   "source": [
    "%%writefile leaparg.py\n",
    "\n",
    "import sys\n",
    "class DayName():\n",
    "    def __init__(self,year,month,day):\n",
    "        self.year = year\n",
    "        self.month = month\n",
    "        self.day = day\n",
    "\n",
    "    def isleap(self):\n",
    "      if (self.year % 400) :\n",
    "        if (self.year % 100):\n",
    "          if (self.year%4 ):\n",
    "            return False\n",
    "          else :\n",
    "            return True\n",
    "        else:\n",
    "          return False\n",
    "      else :\n",
    "        return True\n",
    "    \n",
    "    def get_name(self):\n",
    "        total_day = 0\n",
    "        month_to_date ={\"1\":31,\"3\":31,\"4\":30,\"5\":31,\"6\":30,\"7\":31,\"8\":31,\"9\":30,\"10\":31,\"11\":30,\"12\":31}\n",
    "        day_list = {0:\"월\",1:\"화\",2:\"수\",3:\"목\",4:\"금\",5:\"토\",6:\"일\"}\n",
    "        if self.isleap():\n",
    "            month_to_date[\"2\"] = 29\n",
    "        else:\n",
    "            month_to_date[\"2\"] = 28\n",
    "        for i in range(1,self.month):\n",
    "            total_day += month_to_date[str(i)]\n",
    "        total_day += (self.day-1)\n",
    "        leap_year = ((self.year-1)//4) - ((self.year-1)//100) + ((self.year-1)//400)\n",
    "        year_to_date=self.year-1 + leap_year\n",
    "        total_day+= year_to_date\n",
    "        return day_list[total_day%7]+\"요일\"\n",
    "\n",
    "if __name__ ==\"__main__\":\n",
    "    year,month,day =  int(sys.argv[1]), int(sys.argv[2]),int(sys.argv[3])\n",
    "    day_name = DayName(year, month, day)\n",
    "    print(day_name.get_name()) "
   ]
  },
  {
   "cell_type": "code",
   "execution_count": 5,
   "id": "31a78048",
   "metadata": {},
   "outputs": [
    {
     "name": "stdout",
     "output_type": "stream",
     "text": [
      "일요일\n"
     ]
    }
   ],
   "source": [
    "%run leaparg.py  2018 4 15"
   ]
  },
  {
   "cell_type": "markdown",
   "id": "ee3a2e38",
   "metadata": {},
   "source": [
    "### "
   ]
  },
  {
   "cell_type": "code",
   "execution_count": 17,
   "id": "62ea1092",
   "metadata": {},
   "outputs": [
    {
     "name": "stdout",
     "output_type": "stream",
     "text": [
      "-1.6351885780427125e-13\n",
      "2.939601270583009e+48\n",
      "1.0000000000000002\n"
     ]
    }
   ],
   "source": [
    "import math\n",
    "\n",
    "print(2000/(math.log(20))*math.sin(2*math.pi))\n",
    "\n",
    "print(math.pow(3,100) * math.log(300))\n",
    "\n",
    "print(math.sin(math.radians(45))*math.sqrt(2))"
   ]
  },
  {
   "cell_type": "markdown",
   "id": "8c8ced78",
   "metadata": {},
   "source": [
    "### "
   ]
  },
  {
   "cell_type": "code",
   "execution_count": 39,
   "id": "e2ef8eef",
   "metadata": {},
   "outputs": [
    {
     "name": "stdout",
     "output_type": "stream",
     "text": [
      "가위, 바위, 보 중 하나를 선택하시오: 보\n",
      "플레이어: 보\n",
      "컴퓨터: 바위\n",
      "당신이 이겼습니다\n"
     ]
    }
   ],
   "source": [
    "import random\n",
    "value_list= {0:\"가위\",1:\"바위\",2:\"보\"}\n",
    "computer=random.randint(0,2)\n",
    "get=input(\"가위, 바위, 보 중 하나를 선택하시오: \")\n",
    "print(f\"플레이어: {get}\")\n",
    "print(f\"컴퓨터: {value_list[computer]}\")\n",
    "if (get== \"가위\" and computer ==2) or (get== \"바위\"and computer==0) or (get==\"보\" and computer==1):\n",
    "    print(\"당신이 이겼습니다\")\n",
    "elif (get == value_list[computer]):\n",
    "    print(\"비겼습니다\")\n",
    "else:\n",
    "    print(\"컴퓨터가 이겼습니다\")"
   ]
  }
 ],
 "metadata": {
  "kernelspec": {
   "display_name": "Python 3 (ipykernel)",
   "language": "python",
   "name": "python3"
  },
  "language_info": {
   "codemirror_mode": {
    "name": "ipython",
    "version": 3
   },
   "file_extension": ".py",
   "mimetype": "text/x-python",
   "name": "python",
   "nbconvert_exporter": "python",
   "pygments_lexer": "ipython3",
   "version": "3.9.7"
  },
  "toc": {
   "base_numbering": 1,
   "nav_menu": {},
   "number_sections": true,
   "sideBar": true,
   "skip_h1_title": false,
   "title_cell": "Table of Contents",
   "title_sidebar": "Contents",
   "toc_cell": false,
   "toc_position": {},
   "toc_section_display": true,
   "toc_window_display": false
  },
  "varInspector": {
   "cols": {
    "lenName": 16,
    "lenType": 16,
    "lenVar": 40
   },
   "kernels_config": {
    "python": {
     "delete_cmd_postfix": "",
     "delete_cmd_prefix": "del ",
     "library": "var_list.py",
     "varRefreshCmd": "print(var_dic_list())"
    },
    "r": {
     "delete_cmd_postfix": ") ",
     "delete_cmd_prefix": "rm(",
     "library": "var_list.r",
     "varRefreshCmd": "cat(var_dic_list()) "
    }
   },
   "types_to_exclude": [
    "module",
    "function",
    "builtin_function_or_method",
    "instance",
    "_Feature"
   ],
   "window_display": false
  }
 },
 "nbformat": 4,
 "nbformat_minor": 5
}
