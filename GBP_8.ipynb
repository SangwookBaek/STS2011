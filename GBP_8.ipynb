{
 "cells": [
  {
   "cell_type": "code",
   "execution_count": 1,
   "id": "6f00b5c5",
   "metadata": {},
   "outputs": [],
   "source": [
    "import time\n",
    "import datetime"
   ]
  },
  {
   "cell_type": "code",
   "execution_count": null,
   "id": "479e902a",
   "metadata": {},
   "outputs": [],
   "source": [
    "class Date():\n",
    "    self.__init__(self,):"
   ]
  },
  {
   "cell_type": "code",
   "execution_count": 5,
   "id": "eafc6264",
   "metadata": {},
   "outputs": [],
   "source": [
    "class Rectangle:\n",
    "    count = 0\n",
    "    def __init__(self,width,height):\n",
    "        self.width = width\n",
    "        self.height = height\n",
    "        Rectangle.count += 1\n",
    "    def calcArea(self):\n",
    "        area = self.width * self.height\n",
    "        return area\n",
    "    @staticmethod\n",
    "    def isSquare(rectWidth,rectHeight):\n",
    "        return rectWidth == rectHeight\n",
    "    @classmethod\n",
    "    def printCount(cls):\n",
    "        print(cls.count)\n",
    "    "
   ]
  },
  {
   "cell_type": "code",
   "execution_count": 6,
   "id": "e43b5ef8",
   "metadata": {},
   "outputs": [
    {
     "name": "stdout",
     "output_type": "stream",
     "text": [
      "True\n"
     ]
    }
   ],
   "source": [
    "square = Rectangle.isSquare(5,5)\n",
    "print(square)"
   ]
  },
  {
   "cell_type": "code",
   "execution_count": 9,
   "id": "5390270b",
   "metadata": {},
   "outputs": [
    {
     "name": "stdout",
     "output_type": "stream",
     "text": [
      "6\n",
      "6\n"
     ]
    }
   ],
   "source": [
    "rect1 = Rectangle(5,5)\n",
    "rect1 = Rectangle(2,5)\n",
    "rect1.printCount()\n",
    "rect1.printCount()"
   ]
  },
  {
   "cell_type": "code",
   "execution_count": 10,
   "id": "9468b15d",
   "metadata": {},
   "outputs": [
    {
     "name": "stdout",
     "output_type": "stream",
     "text": [
      "area =  6\n",
      "width =  10\n",
      "7\n",
      "7\n"
     ]
    }
   ],
   "source": [
    "r= Rectangle(2,3)\n",
    "area = r.calcArea()\n",
    "print(\"area = \",area)\n",
    "r.width = 10\n",
    "print(\"width = \",r.width)\n",
    "print(Rectangle.count)\n",
    "print(r.count)"
   ]
  },
  {
   "cell_type": "code",
   "execution_count": 11,
   "id": "5eb083c8",
   "metadata": {},
   "outputs": [],
   "source": [
    "r = Rectangle(2,4)\n",
    "Rectangle.count = 50\n",
    "r.count = 10"
   ]
  },
  {
   "cell_type": "code",
   "execution_count": 12,
   "id": "65837142",
   "metadata": {},
   "outputs": [
    {
     "name": "stdout",
     "output_type": "stream",
     "text": [
      "10 50\n"
     ]
    }
   ],
   "source": [
    "print(r.count,Rectangle.count)"
   ]
  },
  {
   "cell_type": "code",
   "execution_count": 14,
   "id": "76828ee3",
   "metadata": {},
   "outputs": [
    {
     "name": "stdout",
     "output_type": "stream",
     "text": [
      "50\n"
     ]
    }
   ],
   "source": [
    "r.printCount()"
   ]
  },
  {
   "cell_type": "code",
   "execution_count": 45,
   "id": "ab004006",
   "metadata": {},
   "outputs": [],
   "source": [
    "class Food():\n",
    "    def __init__(self,name,price):\n",
    "        self.name = name\n",
    "        self.price = price\n",
    "    def __lt__(self,other):\n",
    "        return (self.price < other.price)\n",
    "    def __add__(self,other):\n",
    "        return self.price + other.price"
   ]
  },
  {
   "cell_type": "code",
   "execution_count": 46,
   "id": "d3352963",
   "metadata": {},
   "outputs": [],
   "source": [
    "food_3 = Food(\"아이스크림\",3000)\n",
    "food_4 = Food(\"햄버거\",5000)"
   ]
  },
  {
   "cell_type": "code",
   "execution_count": 47,
   "id": "22f3a84d",
   "metadata": {},
   "outputs": [
    {
     "name": "stdout",
     "output_type": "stream",
     "text": [
      "True\n",
      "8000\n"
     ]
    }
   ],
   "source": [
    "print(food_3 < food_4)\n",
    "print(food_3 + food_4)"
   ]
  },
  {
   "cell_type": "code",
   "execution_count": null,
   "id": "fc45ed62",
   "metadata": {},
   "outputs": [],
   "source": []
  }
 ],
 "metadata": {
  "kernelspec": {
   "display_name": "Python 3 (ipykernel)",
   "language": "python",
   "name": "python3"
  },
  "language_info": {
   "codemirror_mode": {
    "name": "ipython",
    "version": 3
   },
   "file_extension": ".py",
   "mimetype": "text/x-python",
   "name": "python",
   "nbconvert_exporter": "python",
   "pygments_lexer": "ipython3",
   "version": "3.9.7"
  },
  "toc": {
   "base_numbering": 1,
   "nav_menu": {},
   "number_sections": true,
   "sideBar": true,
   "skip_h1_title": false,
   "title_cell": "Table of Contents",
   "title_sidebar": "Contents",
   "toc_cell": false,
   "toc_position": {},
   "toc_section_display": true,
   "toc_window_display": false
  },
  "varInspector": {
   "cols": {
    "lenName": 16,
    "lenType": 16,
    "lenVar": 40
   },
   "kernels_config": {
    "python": {
     "delete_cmd_postfix": "",
     "delete_cmd_prefix": "del ",
     "library": "var_list.py",
     "varRefreshCmd": "print(var_dic_list())"
    },
    "r": {
     "delete_cmd_postfix": ") ",
     "delete_cmd_prefix": "rm(",
     "library": "var_list.r",
     "varRefreshCmd": "cat(var_dic_list()) "
    }
   },
   "types_to_exclude": [
    "module",
    "function",
    "builtin_function_or_method",
    "instance",
    "_Feature"
   ],
   "window_display": false
  }
 },
 "nbformat": 4,
 "nbformat_minor": 5
}
