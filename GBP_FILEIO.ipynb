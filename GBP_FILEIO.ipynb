{
 "cells": [
  {
   "cell_type": "code",
   "execution_count": 11,
   "id": "091187ec",
   "metadata": {},
   "outputs": [],
   "source": [
    "fp = open(\"hello.txt\",\"wt\",encoding=\"cp949\")\n",
    "fp.write(\"Hello World!\\n\")\n",
    "fp.write(\"Hello Sea \\n\")\n",
    "fp.write(\"Hello C! \\n\")\n",
    "fp.write(f\"{99}\\n\")\n",
    "fp.write(f\"{99.9}\\n\")\n",
    "fp.write(\"서강대학교\\n\")\n",
    "a = [\"abcd\",\"1234\"]\n",
    "fp.write(\"\\n\".join(a))\n",
    "fp.writelines(a)\n",
    "b = [\"abcd\\n\",\"1234\\n\"]\n",
    "fp.write(\"\\n\".join(b))\n",
    "fp.writelines(b)\n",
    "fp.close()"
   ]
  },
  {
   "cell_type": "code",
   "execution_count": 12,
   "id": "5a84640a",
   "metadata": {},
   "outputs": [
    {
     "name": "stdout",
     "output_type": "stream",
     "text": [
      "Hello World!\n",
      "Hello Sea \n",
      "Hello C! \n",
      "99\n",
      "99.9\n",
      "서강대학교\n",
      "abcd\n",
      "1234abcd1234abcd\n",
      "\n",
      "1234\n",
      "abcd\n",
      "1234\n",
      "\n"
     ]
    }
   ],
   "source": [
    "with open(\"hello.txt\",\"r\") as f: #with 사용시 close 할 필요 x\n",
    "    print(f.read())"
   ]
  },
  {
   "cell_type": "code",
   "execution_count": 23,
   "id": "e7612697",
   "metadata": {},
   "outputs": [],
   "source": [
    "fp = open(\"ban_stu.txt\",\"wt\",encoding=\"cp949\")\n",
    "fp.write(\"2 Alice Paul David Bob\\n\")\n",
    "fp.write(\"4 Cindy Stella  Bill\\n\")\n",
    "fp.write(\"1 Henry Jenny Jessica Erin Tim\\n\")\n",
    "fp.write(\"3 John Joe Tom\\n\")\n",
    "fp.close()"
   ]
  },
  {
   "cell_type": "code",
   "execution_count": 32,
   "id": "7b8f595c",
   "metadata": {},
   "outputs": [
    {
     "name": "stdout",
     "output_type": "stream",
     "text": [
      "{'2': 'Alice Paul David Bob', '4': 'Cindy Stella  Bill', '1': 'Henry Jenny Jessica Erin Tim', '3': 'John Joe Tom'}\n",
      "{'2': 'Alice Paul David Bob', '4': 'Cindy Stella  Bill', '1': 'Henry Jenny Jessica Erin Tim', '3': 'John Joe Tom'}\n"
     ]
    }
   ],
   "source": [
    "with open(\"ban_stu.txt\",\"rt\",encoding=\"cp949\") as f:\n",
    "    stu=f.readlines()\n",
    "    str_dict={}\n",
    "    for i in stu:\n",
    "        str_dict[i[0]] =  i[2:-1]\n",
    "print(str_dict)"
   ]
  },
  {
   "cell_type": "code",
   "execution_count": null,
   "id": "c6b1150f",
   "metadata": {},
   "outputs": [],
   "source": []
  }
 ],
 "metadata": {
  "kernelspec": {
   "display_name": "Python 3 (ipykernel)",
   "language": "python",
   "name": "python3"
  },
  "language_info": {
   "codemirror_mode": {
    "name": "ipython",
    "version": 3
   },
   "file_extension": ".py",
   "mimetype": "text/x-python",
   "name": "python",
   "nbconvert_exporter": "python",
   "pygments_lexer": "ipython3",
   "version": "3.9.7"
  },
  "toc": {
   "base_numbering": 1,
   "nav_menu": {},
   "number_sections": true,
   "sideBar": true,
   "skip_h1_title": false,
   "title_cell": "Table of Contents",
   "title_sidebar": "Contents",
   "toc_cell": false,
   "toc_position": {},
   "toc_section_display": true,
   "toc_window_display": false
  },
  "varInspector": {
   "cols": {
    "lenName": 16,
    "lenType": 16,
    "lenVar": 40
   },
   "kernels_config": {
    "python": {
     "delete_cmd_postfix": "",
     "delete_cmd_prefix": "del ",
     "library": "var_list.py",
     "varRefreshCmd": "print(var_dic_list())"
    },
    "r": {
     "delete_cmd_postfix": ") ",
     "delete_cmd_prefix": "rm(",
     "library": "var_list.r",
     "varRefreshCmd": "cat(var_dic_list()) "
    }
   },
   "types_to_exclude": [
    "module",
    "function",
    "builtin_function_or_method",
    "instance",
    "_Feature"
   ],
   "window_display": false
  }
 },
 "nbformat": 4,
 "nbformat_minor": 5
}
