{
 "cells": [
  {
   "cell_type": "code",
   "execution_count": 26,
   "metadata": {},
   "outputs": [],
   "source": [
    "class Student:\n",
    "    def __init__(self, num, name, kor, eng, math):\n",
    "        self._num = num\n",
    "        self._name = name\n",
    "        self._kor = kor\n",
    "        self._eng = eng\n",
    "        self._math = math\n",
    "        self._total = self.calculate_total()\n",
    "        self._avg = self.calculate_avg()\n",
    "        self._order = None\n",
    "        \n",
    "    def calculate_total(self):\n",
    "        return self._kor + self._eng + self.math\n",
    "    def calculate_avg(self):\n",
    "        return self._total / 3.0\n",
    "    \n",
    "    @property\n",
    "    def num(self):\n",
    "        return self._num\n",
    "    @property\n",
    "    def name(self):\n",
    "        return self._name\n",
    "    @property\n",
    "    def kor(self):\n",
    "        return self._kor\n",
    "    @property\n",
    "    def eng(self):\n",
    "        return self._eng\n",
    "    @property\n",
    "    def math(self):\n",
    "        return self._math\n",
    "    @property\n",
    "    def total(self):\n",
    "        return self._total\n",
    "    @property\n",
    "    def avg(self):\n",
    "        return self._avg\n",
    "    @property\n",
    "    def order(self):\n",
    "        return self._order\n",
    "    @order.setter\n",
    "    def order(self, order):\n",
    "        self._order = order\n",
    "        "
   ]
  },
  {
   "cell_type": "code",
   "execution_count": 31,
   "metadata": {},
   "outputs": [],
   "source": [
    "class StudentGradingSystem:\n",
    "    def __init__(self):\n",
    "        self.students = []\n",
    "        \n",
    "    def register_student(self, student):\n",
    "        self.students.append(student)\n",
    "        \n",
    "    def process(self):\n",
    "        self.students.sort(key = lambda student: student.total, reverse = True)\n",
    "        temp = []\n",
    "        for i, s in enumerate(self.students):\n",
    "            temp.append(s.total)\n",
    "            if s.total == temp[i-1] and i > 0:\n",
    "                s.order = i\n",
    "            else:\n",
    "                s.order = i + 1\n",
    "                \n",
    "            self.print_students(s)\n",
    "            \n",
    "        self.print_class_information()\n",
    "    def print_students(self, student):\n",
    "        print('번호: {}, 이름: {}, 국어: {}, 영어: {}, 수학: {},  총점: {}, 평균: {:.2f}, 등수: {}'.format(\n",
    "            student.num, student.name, student.kor, student.eng, student.math, student.total, round(student.avg,2), student.order))\n",
    "    def print_class_information(self):\n",
    "        total_avg = sum([s.total for s in self.students])/len(self.students)\n",
    "        kor_avg = sum([s.kor for s in self.students])/len(self.students)\n",
    "        eng_avg = sum([s.eng for s in self.students])/len(self.students)\n",
    "        math_avg = sum([s.math for s in self.students])/len(self.students)\n",
    "        \n",
    "        print('총점 반평균: {:.2f}'.format(total_avg))\n",
    "        print('국어 반평균: {:.2f}'.format(kor_avg))\n",
    "        print('영어 반평균: {:.2f}'.format(eng_avg))\n",
    "        print('수학 반평균: {:.2f}'.format(math_avg))\n",
    "        "
   ]
  },
  {
   "cell_type": "code",
   "execution_count": 32,
   "metadata": {},
   "outputs": [
    {
     "name": "stdout",
     "output_type": "stream",
     "text": [
      "번호: 2, 이름: 서강이, 국어: 90, 영어: 85, 수학: 95,  총점: 270, 평균: 90.00, 등수: 1\n",
      "번호: 4, 이름: 서강사, 국어: 90, 영어: 92, 수학: 83,  총점: 265, 평균: 88.33, 등수: 2\n",
      "번호: 5, 이름: 서강오, 국어: 85, 영어: 90, 수학: 90,  총점: 265, 평균: 88.33, 등수: 2\n",
      "번호: 1, 이름: 서강일, 국어: 90, 영어: 80, 수학: 85,  총점: 255, 평균: 85.00, 등수: 4\n",
      "번호: 3, 이름: 서강삼, 국어: 80, 영어: 80, 수학: 80,  총점: 240, 평균: 80.00, 등수: 5\n",
      "총점 반평균: 259.00\n",
      "국어 반평균: 87.00\n",
      "영어 반평균: 85.40\n",
      "수학 반평균: 86.60\n"
     ]
    }
   ],
   "source": [
    "if __name__ == '__main__':\n",
    "    sgs = StudentGradingSystem()\n",
    "    s1 = Student(1, '서강일', 90, 80, 85)\n",
    "    s2 = Student(2, '서강이', 90, 85, 95)\n",
    "    s3 = Student(3, '서강삼', 80, 80, 80)\n",
    "    s4 = Student(4, '서강사', 90, 92, 83)\n",
    "    s5 = Student(5, '서강오', 85, 90, 90)\n",
    "    sgs.register_student(s1)\n",
    "    sgs.register_student(s2)\n",
    "    sgs.register_student(s3)\n",
    "    sgs.register_student(s4)\n",
    "    sgs.register_student(s5)\n",
    "    sgs.process()"
   ]
  },
  {
   "cell_type": "code",
   "execution_count": null,
   "metadata": {},
   "outputs": [],
   "source": []
  }
 ],
 "metadata": {
  "kernelspec": {
   "display_name": "Python 3 (ipykernel)",
   "language": "python",
   "name": "python3"
  },
  "language_info": {
   "codemirror_mode": {
    "name": "ipython",
    "version": 3
   },
   "file_extension": ".py",
   "mimetype": "text/x-python",
   "name": "python",
   "nbconvert_exporter": "python",
   "pygments_lexer": "ipython3",
   "version": "3.9.7"
  },
  "toc": {
   "base_numbering": 1,
   "nav_menu": {},
   "number_sections": true,
   "sideBar": true,
   "skip_h1_title": false,
   "title_cell": "Table of Contents",
   "title_sidebar": "Contents",
   "toc_cell": false,
   "toc_position": {},
   "toc_section_display": true,
   "toc_window_display": false
  },
  "varInspector": {
   "cols": {
    "lenName": 16,
    "lenType": 16,
    "lenVar": 40
   },
   "kernels_config": {
    "python": {
     "delete_cmd_postfix": "",
     "delete_cmd_prefix": "del ",
     "library": "var_list.py",
     "varRefreshCmd": "print(var_dic_list())"
    },
    "r": {
     "delete_cmd_postfix": ") ",
     "delete_cmd_prefix": "rm(",
     "library": "var_list.r",
     "varRefreshCmd": "cat(var_dic_list()) "
    }
   },
   "types_to_exclude": [
    "module",
    "function",
    "builtin_function_or_method",
    "instance",
    "_Feature"
   ],
   "window_display": false
  }
 },
 "nbformat": 4,
 "nbformat_minor": 4
}
