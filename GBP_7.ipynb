{
 "cells": [
  {
   "cell_type": "code",
   "execution_count": null,
   "id": "f2e4e8d2",
   "metadata": {},
   "outputs": [],
   "source": [
    "def verbose(func):\n",
    "    def new_func():\n",
    "        print(\"\\nBegin\")"
   ]
  },
  {
   "cell_type": "code",
   "execution_count": 2,
   "id": "f070c26e",
   "metadata": {},
   "outputs": [],
   "source": [
    "class Person:\n",
    "    def __init__(self,name,age,gender):\n",
    "        self.Name = name\n",
    "        self.Age = age\n",
    "        self.Gender = gender\n",
    "    def aboutMe(self):\n",
    "        print(f\"이름은 {self.Name}이고, 나이는 {self.Age}살입니다\")"
   ]
  },
  {
   "cell_type": "code",
   "execution_count": 30,
   "id": "4e73c171",
   "metadata": {},
   "outputs": [],
   "source": [
    "class Employee(Person):\n",
    "    def __init__(self,name,age,gender,salary,hiredate):\n",
    "        super().__init__(name,age,gender)\n",
    "        self.Salary = salary\n",
    "        self.Hiredate = hiredate\n",
    "    def doWork(self):\n",
    "        print(\"열심히 일합니다.\")\n",
    "    def aboutMe(self):\n",
    "        super().aboutMe()\n",
    "        print(f\"급여는 {self.Salary}원이고, 입사일은 {self.Hiredate}입니다\")"
   ]
  },
  {
   "cell_type": "code",
   "execution_count": 31,
   "id": "37305fc6",
   "metadata": {},
   "outputs": [
    {
     "name": "stdout",
     "output_type": "stream",
     "text": [
      "열심히 일합니다.\n"
     ]
    }
   ],
   "source": [
    "employee1 = Employee(\"김철수\",\"18\",\"남\",\"3000000\",\"2016년 3월 1일\")\n",
    "employee1.doWork()"
   ]
  },
  {
   "cell_type": "code",
   "execution_count": 32,
   "id": "92f5ac46",
   "metadata": {},
   "outputs": [
    {
     "name": "stdout",
     "output_type": "stream",
     "text": [
      "이름은 김철수이고, 나이는 18살입니다\n",
      "급여는 3000000원이고, 입사일은 2016년 3월 1일입니다\n"
     ]
    }
   ],
   "source": [
    "employee1.aboutMe()"
   ]
  },
  {
   "cell_type": "code",
   "execution_count": 34,
   "id": "8fa8a00a",
   "metadata": {},
   "outputs": [
    {
     "name": "stdout",
     "output_type": "stream",
     "text": [
      "Class D __init__()\n",
      "Class B __init__()\n",
      "Class C __init__()\n",
      "Class A __init__()\n"
     ]
    }
   ],
   "source": [
    "class A:\n",
    "    def __init__(self):\n",
    "        print(\"Class A __init__()\")\n",
    "class B(A):\n",
    "    def __init__(self):\n",
    "        print(\"Class B __init__()\")\n",
    "        super().__init__()\n",
    "class C(A):\n",
    "    def __init__(self):\n",
    "        print(\"Class C __init__()\")\n",
    "        super().__init__()\n",
    "class D(B,C):\n",
    "    def __init__(self):\n",
    "        print(\"Class D __init__()\")\n",
    "        super().__init__()\n",
    "        \n",
    "d = D()        "
   ]
  },
  {
   "cell_type": "code",
   "execution_count": 36,
   "id": "b975014d",
   "metadata": {},
   "outputs": [
    {
     "data": {
      "text/plain": [
       "(__main__.D, __main__.B, __main__.C, __main__.A, object)"
      ]
     },
     "execution_count": 36,
     "metadata": {},
     "output_type": "execute_result"
    }
   ],
   "source": [
    "D.__mro__ #(아래 순서로 간다)"
   ]
  },
  {
   "cell_type": "code",
   "execution_count": null,
   "id": "9343850b",
   "metadata": {},
   "outputs": [],
   "source": []
  }
 ],
 "metadata": {
  "kernelspec": {
   "display_name": "Python 3 (ipykernel)",
   "language": "python",
   "name": "python3"
  },
  "language_info": {
   "codemirror_mode": {
    "name": "ipython",
    "version": 3
   },
   "file_extension": ".py",
   "mimetype": "text/x-python",
   "name": "python",
   "nbconvert_exporter": "python",
   "pygments_lexer": "ipython3",
   "version": "3.9.7"
  },
  "toc": {
   "base_numbering": 1,
   "nav_menu": {},
   "number_sections": true,
   "sideBar": true,
   "skip_h1_title": false,
   "title_cell": "Table of Contents",
   "title_sidebar": "Contents",
   "toc_cell": false,
   "toc_position": {},
   "toc_section_display": true,
   "toc_window_display": false
  },
  "varInspector": {
   "cols": {
    "lenName": 16,
    "lenType": 16,
    "lenVar": 40
   },
   "kernels_config": {
    "python": {
     "delete_cmd_postfix": "",
     "delete_cmd_prefix": "del ",
     "library": "var_list.py",
     "varRefreshCmd": "print(var_dic_list())"
    },
    "r": {
     "delete_cmd_postfix": ") ",
     "delete_cmd_prefix": "rm(",
     "library": "var_list.r",
     "varRefreshCmd": "cat(var_dic_list()) "
    }
   },
   "types_to_exclude": [
    "module",
    "function",
    "builtin_function_or_method",
    "instance",
    "_Feature"
   ],
   "window_display": false
  }
 },
 "nbformat": 4,
 "nbformat_minor": 5
}
