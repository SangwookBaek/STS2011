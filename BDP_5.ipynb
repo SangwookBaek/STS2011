{
 "cells": [
  {
   "cell_type": "code",
   "execution_count": 6,
   "id": "0f4cf0ad",
   "metadata": {},
   "outputs": [],
   "source": [
    "class car:\n",
    "    def __init__(self):\n",
    "        self._price = 0\n",
    "        self._speed = 0\n",
    "        self._color = None\n",
    "    @property\n",
    "    def get_price(self):\n",
    "        return self._price\n",
    "    @get_price.setter\n",
    "    def price(self,price):\n",
    "        self.price = price\n",
    "    @property\n",
    "    def speed(self):\n",
    "        return self._speed\n",
    "    @speed.setter\n",
    "    def speed(self,speed):\n",
    "        self._speed = speed"
   ]
  },
  {
   "cell_type": "code",
   "execution_count": 8,
   "id": "5317cc1e",
   "metadata": {},
   "outputs": [],
   "source": [
    "A=car()"
   ]
  },
  {
   "cell_type": "code",
   "execution_count": 11,
   "id": "a6e0cdac",
   "metadata": {},
   "outputs": [
    {
     "data": {
      "text/plain": [
       "0"
      ]
     },
     "execution_count": 11,
     "metadata": {},
     "output_type": "execute_result"
    }
   ],
   "source": [
    "A.get_price"
   ]
  },
  {
   "cell_type": "code",
   "execution_count": 25,
   "id": "2862a031",
   "metadata": {},
   "outputs": [],
   "source": [
    "def verbose(func):\n",
    "    def new_func(asd):\n",
    "        print(\"Begin\",func.__name__)\n",
    "        func(asd)\n",
    "        print(\"End\",func.__name__)\n",
    "    return new_func"
   ]
  },
  {
   "cell_type": "code",
   "execution_count": 26,
   "id": "6107c5ef",
   "metadata": {},
   "outputs": [
    {
     "name": "stdout",
     "output_type": "stream",
     "text": [
      "Begin my_function\n",
      "hello,world.sfls\n",
      "End my_function\n"
     ]
    }
   ],
   "source": [
    "@verbose\n",
    "def my_function(new):\n",
    "    print(\"hello,world.\" + str(new))\n",
    "\n",
    "my_function(\"sfls\")"
   ]
  },
  {
   "cell_type": "code",
   "execution_count": null,
   "id": "13f4aafc",
   "metadata": {},
   "outputs": [],
   "source": []
  }
 ],
 "metadata": {
  "kernelspec": {
   "display_name": "Python 3 (ipykernel)",
   "language": "python",
   "name": "python3"
  },
  "language_info": {
   "codemirror_mode": {
    "name": "ipython",
    "version": 3
   },
   "file_extension": ".py",
   "mimetype": "text/x-python",
   "name": "python",
   "nbconvert_exporter": "python",
   "pygments_lexer": "ipython3",
   "version": "3.9.7"
  },
  "toc": {
   "base_numbering": 1,
   "nav_menu": {},
   "number_sections": true,
   "sideBar": true,
   "skip_h1_title": false,
   "title_cell": "Table of Contents",
   "title_sidebar": "Contents",
   "toc_cell": false,
   "toc_position": {},
   "toc_section_display": true,
   "toc_window_display": false
  },
  "varInspector": {
   "cols": {
    "lenName": 16,
    "lenType": 16,
    "lenVar": 40
   },
   "kernels_config": {
    "python": {
     "delete_cmd_postfix": "",
     "delete_cmd_prefix": "del ",
     "library": "var_list.py",
     "varRefreshCmd": "print(var_dic_list())"
    },
    "r": {
     "delete_cmd_postfix": ") ",
     "delete_cmd_prefix": "rm(",
     "library": "var_list.r",
     "varRefreshCmd": "cat(var_dic_list()) "
    }
   },
   "types_to_exclude": [
    "module",
    "function",
    "builtin_function_or_method",
    "instance",
    "_Feature"
   ],
   "window_display": false
  }
 },
 "nbformat": 4,
 "nbformat_minor": 5
}
