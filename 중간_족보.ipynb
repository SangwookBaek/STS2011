{
 "cells": [
  {
   "cell_type": "code",
   "execution_count": 5,
   "id": "f057a6cf",
   "metadata": {},
   "outputs": [
    {
     "name": "stdout",
     "output_type": "stream",
     "text": [
      "not class member\n"
     ]
    }
   ],
   "source": [
    "str = \"not class member\"\n",
    "class GString:\n",
    "    str = \"\"\n",
    "    def Set(self,msg):\n",
    "        self.str = msg\n",
    "    def Print(self):\n",
    "        print(str)\n",
    "g= GString()\n",
    "g.Set(\"first message\")\n",
    "g.Print()"
   ]
  },
  {
   "cell_type": "code",
   "execution_count": 9,
   "id": "c6f42f1d",
   "metadata": {},
   "outputs": [
    {
     "name": "stdout",
     "output_type": "stream",
     "text": [
      "g\n",
      "og\n",
      "oog\n",
      "goog\n",
      "lgoog\n",
      "elgoog\n"
     ]
    }
   ],
   "source": [
    "def reverse_data(data):\n",
    "    for index in range(len(data)):\n",
    "        print(data[index::-1])\n",
    "reverse_data(\"google\")"
   ]
  },
  {
   "cell_type": "code",
   "execution_count": 17,
   "id": "48c84cf0",
   "metadata": {},
   "outputs": [],
   "source": [
    "class Margr:\n",
    "    insCnt = 0\n",
    "    def __init__(self):\n",
    "        Margr.insCnt += 1\n",
    "    def printlnsCount(self):\n",
    "        print(\"Cunt:\",Margr.insCnt,end=\"\\\\\")"
   ]
  },
  {
   "cell_type": "code",
   "execution_count": 18,
   "id": "0381261a",
   "metadata": {},
   "outputs": [
    {
     "name": "stdout",
     "output_type": "stream",
     "text": [
      "Cunt: 3\\"
     ]
    }
   ],
   "source": [
    "x,y,z = Margr(),Margr(),Margr()\n",
    "z.printlnsCount()"
   ]
  },
  {
   "cell_type": "code",
   "execution_count": 13,
   "id": "dc2c7611",
   "metadata": {},
   "outputs": [
    {
     "name": "stdout",
     "output_type": "stream",
     "text": [
      "1\n",
      "4\n",
      "9\n",
      "16\n",
      "25\n",
      "36\n",
      "49\n"
     ]
    },
    {
     "ename": "StopIteration",
     "evalue": "",
     "output_type": "error",
     "traceback": [
      "\u001b[1;31m---------------------------------------------------------------------------\u001b[0m",
      "\u001b[1;31mStopIteration\u001b[0m                             Traceback (most recent call last)",
      "\u001b[1;32m~\\AppData\\Local\\Temp/ipykernel_20660/3833865407.py\u001b[0m in \u001b[0;36m<module>\u001b[1;34m\u001b[0m\n\u001b[0;32m      5\u001b[0m \u001b[1;32mfor\u001b[0m \u001b[0mi\u001b[0m \u001b[1;32min\u001b[0m \u001b[0mmy_nums\u001b[0m\u001b[1;33m:\u001b[0m\u001b[1;33m\u001b[0m\u001b[1;33m\u001b[0m\u001b[0m\n\u001b[0;32m      6\u001b[0m     \u001b[0mprint\u001b[0m\u001b[1;33m(\u001b[0m\u001b[0mi\u001b[0m\u001b[1;33m)\u001b[0m\u001b[1;33m\u001b[0m\u001b[1;33m\u001b[0m\u001b[0m\n\u001b[1;32m----> 7\u001b[1;33m     \u001b[0mprint\u001b[0m\u001b[1;33m(\u001b[0m\u001b[0mnext\u001b[0m\u001b[1;33m(\u001b[0m\u001b[0mmy_nums\u001b[0m\u001b[1;33m)\u001b[0m\u001b[1;33m)\u001b[0m\u001b[1;33m\u001b[0m\u001b[1;33m\u001b[0m\u001b[0m\n\u001b[0m",
      "\u001b[1;31mStopIteration\u001b[0m: "
     ]
    }
   ],
   "source": [
    "def square_numbers(nums):\n",
    "    for i in nums:\n",
    "        yield i*i\n",
    "my_nums = square_numbers([1,2,3,4,5,6,7])\n",
    "for i in my_nums:\n",
    "    print(i)\n",
    "    print(next(my_nums))"
   ]
  },
  {
   "cell_type": "code",
   "execution_count": 22,
   "id": "93c272b6",
   "metadata": {},
   "outputs": [
    {
     "name": "stdout",
     "output_type": "stream",
     "text": [
      "1\n",
      "4\n"
     ]
    }
   ],
   "source": [
    "class Times():\n",
    "    factor = 1\n",
    "    def mul(x):\n",
    "        return x*Times.factor\n",
    "class TwoTimes(Times):\n",
    "    print(Times.factor)\n",
    "    factor = 2 \n",
    "x = TwoTimes.mul(4)\n",
    "print(x)"
   ]
  },
  {
   "cell_type": "code",
   "execution_count": 2,
   "id": "cb21c833",
   "metadata": {},
   "outputs": [],
   "source": [
    "import time\n",
    "import datetime"
   ]
  },
  {
   "cell_type": "code",
   "execution_count": 104,
   "id": "b596db41",
   "metadata": {},
   "outputs": [
    {
     "name": "stdout",
     "output_type": "stream",
     "text": [
      "기간 시작 년월일을 입력하시오.\n",
      "__년도를 입력하시오 : 2026\n",
      "__월을 입력하시오 : 5\n",
      "__일을 입력하시오 : 32\n",
      "기간 시작 년월일을 입력하시오.\n",
      "__년도를 입력하시오 : 2047\n",
      "__월을 입력하시오 : 3\n",
      "__일을 입력하시오 : 21\n",
      "2028\n",
      "기간 중 2028년의 2월 29일은 화요일입니다\n",
      "2032\n",
      "기간 중 2032년의 2월 29일은 일요일입니다\n",
      "2036\n",
      "기간 중 2036년의 2월 29일은 금요일입니다\n",
      "2040\n",
      "기간 중 2040년의 2월 29일은 수요일입니다\n",
      "2044\n",
      "기간 중 2044년의 2월 29일은 월요일입니다\n",
      "총 실행시간은 0.000000초입니다\n",
      "기간 중 총 윤년의 횟수는 5번 입니다\n"
     ]
    }
   ],
   "source": [
    "class get_date:\n",
    "    def __init__(self,year1,month1,date1,year2,month2,date2):\n",
    "        self.year1 = year1\n",
    "        self.month1 = month1\n",
    "        self.date1 = date1\n",
    "        self.year2 = year2\n",
    "        self.month2 = month2\n",
    "        self.date2 = date2        \n",
    "    def isleap(self):\n",
    "        if (self.year%400 == 0):\n",
    "            return True\n",
    "        elif (self.year% 100 ==0):\n",
    "                return False\n",
    "        elif (self.year%4==0):\n",
    "            return True\n",
    "        else :\n",
    "            return False\n",
    "    def print_day(self):\n",
    "        fisrt=time.time()\n",
    "        count=0\n",
    "        yoil_list = [\"월\",\"화\",\"수\",\"목\",\"금\",\"토\",\"일\"]\n",
    "        for i in range(self.year1,self.year2+1):\n",
    "            if (isleap(i)==True):\n",
    "                if (i>self.year1 and i <self.year2):\n",
    "                    count +=1\n",
    "                    yoil=datetime.date(i,2,29).weekday()\n",
    "                    print(f\"기간 중 {i}년의 2월 29일은 {yoil_list[yoil]}요일입니다\")\n",
    "                elif (i==self.year1): \n",
    "                    if ((self.month1<2) or (self.month1==2 and self.date1==29)):\n",
    "                        count +=1\n",
    "                        yoil=datetime.date(i,2,29).weekday()\n",
    "                        print(f\"기간 중 {i}년의 2월 29일은 {yoil_list[yoil]}요일입니다\")\n",
    "                elif (i==self.year2):\n",
    "                    if(self.month2>3) or (self.month2==2 and self.date2==29):\n",
    "                        count+=1\n",
    "                        yoil=datetime.date(i,2,29).weekday()\n",
    "                        print(f\"기간 중 {i}년의 2월 29일은 {yoil_list[yoil]}요일입니다\")\n",
    "        print(f\"총 실행시간은 {time.time()-fisrt:.6f}초입니다\")\n",
    "        print(f\"기간 중 총 윤년의 횟수는 {count}번 입니다\")\n",
    "\n",
    "def input_date():\n",
    "    print(\"기간 시작 년월일을 입력하시오.\")\n",
    "    year1=int(input(\"__년도를 입력하시오 : \"))\n",
    "    month1=int(input(\"__월을 입력하시오 : \"))\n",
    "    day1=int(input(\"__일을 입력하시오 : \"))\n",
    "    print(\"기간 시작 년월일을 입력하시오.\")\n",
    "    year2=int(input(\"__년도를 입력하시오 : \"))\n",
    "    month2=int(input(\"__월을 입력하시오 : \"))\n",
    "    day2=int(input(\"__일을 입력하시오 : \"))\n",
    "    return year1,month1,day1,year2,month2,day2\n",
    "year1,month1,day1,year2,month2,day2 = input_date()\n",
    "new=get_date(year1,month1,day1,year2,month2,day2)\n",
    "new.print_day()"
   ]
  },
  {
   "cell_type": "code",
   "execution_count": 32,
   "id": "2509980b",
   "metadata": {},
   "outputs": [],
   "source": [
    "class verbose:\n",
    "    def __init__(self,func):\n",
    "        self.f = func\n",
    "    def __call__(self,*args):\n",
    "        start=time.time()\n",
    "        self.f(*args)\n",
    "        print(f\"실행시간은 {time.time() - start}초입니다\")"
   ]
  },
  {
   "cell_type": "code",
   "execution_count": 53,
   "id": "0fde0856",
   "metadata": {},
   "outputs": [],
   "source": [
    "class Purse:\n",
    "    def __init__(self):\n",
    "        self._num = 0\n",
    "        self._name = 0\n",
    "        self._coins = 0\n",
    "    @property\n",
    "    def num(self):\n",
    "        return self._num\n",
    "    @num.setter\n",
    "    def get_num(self,num):\n",
    "        self._num = num\n",
    "    @property\n",
    "    def name(self):\n",
    "        return self._name\n",
    "    @name.setter\n",
    "    def name(self,name):\n",
    "        self._name = name\n",
    "    @property\n",
    "    def coins(self):\n",
    "        return self._num\n",
    "    @coins.setter\n",
    "    def get_coins(self,coins):\n",
    "        self._coins = coins\n",
    "class PurseMgtSystem:\n",
    "    def __init__(self):\n",
    "        count=0\n",
    "    @staticmethod\n",
    "    def register_purse(num,name,coins):\n",
    "        a=Purse()\n",
    "        a.num = num\n",
    "        a.name = name\n",
    "        a.coins = coins\n",
    "        return a\n",
    "    \n",
    "    @staticmethod\n",
    "    def process(inform_list):\n",
    "        double_list=[]\n",
    "        inform_dict={}#key가 name value가 돈\n",
    "        rank = 1\n",
    "        for i in inform_list: #각 object에 접근\n",
    "            name=i.name\n",
    "            num = i.num\n",
    "            coins_dic=i.coins\n",
    "            #inform_dict[name] = 0\n",
    "            total = 0\n",
    "            for key,value in coins_dic.items():\n",
    "                #inform_dict[name] += key*value\n",
    "                total += key*value\n",
    "            double_list.append([num,name,total,coins_dic])\n",
    "        double_list.sort(key = lambda x:x[2],reverse=True)\n",
    "        compare = double_list[0][2]\n",
    "        for inform in double_list:\n",
    "            if inform[2] < compare :\n",
    "                rank += 1 \n",
    "                compare = inform[2]\n",
    "            print(f\"번호: {inform[1]+1} 이름:{inform[0]} 500원:{inform[3].get(500,0)} 100원:{inform[3].get(100,0)} 50원:{inform[3].get(50,0)} 10원:{inform[3].get(10,0)} 1원:{inform[3].get(1,0)} 총액:{inform[2]},순위: {rank}\")\n",
    "        return double_list\n",
    "    \n",
    "    @staticmethod\n",
    "    @verbose\n",
    "    def count_coins(coin,information): #id,name,총액, coins_dic\n",
    "        print(\"최대 보유자들\")\n",
    "        count = 0\n",
    "        owner = []\n",
    "        for i in information:\n",
    "            if (count < i[3].get(coin,0)):\n",
    "                owner = [[i[0],i[1]]]\n",
    "                count = i[3].get(coin,0)\n",
    "            elif (count == i[3].get(coin,0)) :\n",
    "                owner.append([i[0],i[1]])\n",
    "        for i in owner:\n",
    "            print(f\"번호: {i[0]} 이름: {i[1]} 개수: {count}\")"
   ]
  },
  {
   "cell_type": "code",
   "execution_count": 54,
   "id": "1ee7ab42",
   "metadata": {},
   "outputs": [],
   "source": [
    "def get_input():\n",
    "    inform_list = []\n",
    "    for i in range(8):\n",
    "        inform_dic={}\n",
    "        a=input(\"\")\n",
    "        inform=a.split(\", \")\n",
    "        name=inform[0]\n",
    "        for j in inform[1:]:\n",
    "            if j not in [\"500\",\"100\",\"50\",\"10\",\"1\"]:\n",
    "                print(\"잘못된 동전 데이터가 있습니다\")\n",
    "                print(\"프로그램을 종료합니다\")\n",
    "                return\n",
    "            if (int(j) in inform_dic.keys()):\n",
    "                inform_dic[int(j)] = inform_dic[int(j)] + 1\n",
    "            else:\n",
    "                inform_dic[int(j)] = 1\n",
    "        inform_list.append(PurseMgtSystem.register_purse(i,name,inform_dic))\n",
    "    information =PurseMgtSystem.process(inform_list)\n",
    "    coin=int(input(\"동전: \"))\n",
    "    PurseMgtSystem.count_coins(coin,information)"
   ]
  },
  {
   "cell_type": "code",
   "execution_count": 55,
   "id": "1f797387",
   "metadata": {},
   "outputs": [
    {
     "name": "stdout",
     "output_type": "stream",
     "text": [
      "서강일, 50\n",
      "서강이, 50\n",
      "서강삼, 50\n",
      "서강사, 50\n",
      "서강오, 50\n",
      "서강육, 50\n",
      "서강칠, 50\n",
      "서강팔, 50\n",
      "번호: 1 이름:서강일 500원:0 100원:0 50원:1 10원:0 1원:0 총액:50,순위: 1\n",
      "번호: 2 이름:서강이 500원:0 100원:0 50원:1 10원:0 1원:0 총액:50,순위: 1\n",
      "번호: 3 이름:서강삼 500원:0 100원:0 50원:1 10원:0 1원:0 총액:50,순위: 1\n",
      "번호: 4 이름:서강사 500원:0 100원:0 50원:1 10원:0 1원:0 총액:50,순위: 1\n",
      "번호: 5 이름:서강오 500원:0 100원:0 50원:1 10원:0 1원:0 총액:50,순위: 1\n",
      "번호: 6 이름:서강육 500원:0 100원:0 50원:1 10원:0 1원:0 총액:50,순위: 1\n",
      "번호: 7 이름:서강칠 500원:0 100원:0 50원:1 10원:0 1원:0 총액:50,순위: 1\n",
      "번호: 8 이름:서강팔 500원:0 100원:0 50원:1 10원:0 1원:0 총액:50,순위: 1\n",
      "동전: 50\n",
      "최대 보유자들\n",
      "['서강일', 0, 50, {50: 1}] 1\n",
      "['서강이', 1, 50, {50: 1}] 1\n",
      "['서강삼', 2, 50, {50: 1}] 1\n",
      "['서강사', 3, 50, {50: 1}] 1\n",
      "['서강오', 4, 50, {50: 1}] 1\n",
      "['서강육', 5, 50, {50: 1}] 1\n",
      "['서강칠', 6, 50, {50: 1}] 1\n",
      "['서강팔', 7, 50, {50: 1}] 1\n",
      "번호: 서강일 이름: 0 개수: 1\n",
      "번호: 서강이 이름: 1 개수: 1\n",
      "번호: 서강삼 이름: 2 개수: 1\n",
      "번호: 서강사 이름: 3 개수: 1\n",
      "번호: 서강오 이름: 4 개수: 1\n",
      "번호: 서강육 이름: 5 개수: 1\n",
      "번호: 서강칠 이름: 6 개수: 1\n",
      "번호: 서강팔 이름: 7 개수: 1\n",
      "실행시간은 0.001528024673461914초입니다\n"
     ]
    }
   ],
   "source": [
    "get_input()"
   ]
  },
  {
   "cell_type": "raw",
   "id": "9b032385",
   "metadata": {},
   "source": []
  }
 ],
 "metadata": {
  "kernelspec": {
   "display_name": "Python 3 (ipykernel)",
   "language": "python",
   "name": "python3"
  },
  "language_info": {
   "codemirror_mode": {
    "name": "ipython",
    "version": 3
   },
   "file_extension": ".py",
   "mimetype": "text/x-python",
   "name": "python",
   "nbconvert_exporter": "python",
   "pygments_lexer": "ipython3",
   "version": "3.9.7"
  },
  "toc": {
   "base_numbering": 1,
   "nav_menu": {},
   "number_sections": true,
   "sideBar": true,
   "skip_h1_title": false,
   "title_cell": "Table of Contents",
   "title_sidebar": "Contents",
   "toc_cell": false,
   "toc_position": {},
   "toc_section_display": true,
   "toc_window_display": false
  },
  "varInspector": {
   "cols": {
    "lenName": 16,
    "lenType": 16,
    "lenVar": 40
   },
   "kernels_config": {
    "python": {
     "delete_cmd_postfix": "",
     "delete_cmd_prefix": "del ",
     "library": "var_list.py",
     "varRefreshCmd": "print(var_dic_list())"
    },
    "r": {
     "delete_cmd_postfix": ") ",
     "delete_cmd_prefix": "rm(",
     "library": "var_list.r",
     "varRefreshCmd": "cat(var_dic_list()) "
    }
   },
   "types_to_exclude": [
    "module",
    "function",
    "builtin_function_or_method",
    "instance",
    "_Feature"
   ],
   "window_display": false
  }
 },
 "nbformat": 4,
 "nbformat_minor": 5
}
