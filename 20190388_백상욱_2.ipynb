{
 "cells": [
  {
   "cell_type": "code",
   "execution_count": 20,
   "metadata": {},
   "outputs": [],
   "source": [
    "import datetime\n",
    "import time\n",
    "\n",
    "class get_date():\n",
    "    def __init__(self,year1,month1,day1,year2,month2,day2):\n",
    "        self.year1 = year1\n",
    "        self.year2 = year2\n",
    "        self.month1 = month1\n",
    "        self.month2 = month2\n",
    "        self.day1 = day1\n",
    "        self.day2 = day2\n",
    "    \n",
    "    @staticmethod\n",
    "    def isleap(year):\n",
    "        if (year % 400 ==0):\n",
    "            return True\n",
    "        elif year %100 == 0:\n",
    "            return False\n",
    "        elif year %4 ==0:\n",
    "            return True\n",
    "        else:\n",
    "            return False\n",
    "    def print_date(self):\n",
    "        start = time.time()\n",
    "        count = 0\n",
    "        yoil = [\"월\",\"화\",\"수\",\"목\",\"금\",\"토\",\"일\"]\n",
    "        for i in range(self.year1, self.year2+1):\n",
    "            if get_date.isleap(i):\n",
    "                idx=datetime.date(i,2,29).weekday()\n",
    "                if (i>self.year1 and i <self.year2):\n",
    "                    count +=1\n",
    "                    print(f\"기간 중 {i} 년의 2월 29일은 {yoil[idx]}요일 입니다.\")\n",
    "                elif (i == self.year1):\n",
    "                    if self.month1 <2 or (self.month1 ==2 and self.day1==29):\n",
    "                        count +=1\n",
    "                        print(f\"기간 중 {i} 년의 2월 29일은 {yoil[idx]}요일 입니다.\")\n",
    "                elif (i == self.year2): \n",
    "                    if self.month2 >2 or (self.month2 ==2 and self.day2==29):\n",
    "                        count += 1\n",
    "                        print(f\"기간 중 {i} 년의 2월 29일은 {yoil[idx]}요일 입니다.\")\n",
    "        print(f\"실행된 총 시간은 {time.time() - start}초\")\n",
    "        print(f\"기간 중 총 윤년의 횟수는 {count} 번 입니다\")"
   ]
  },
  {
   "cell_type": "code",
   "execution_count": 22,
   "metadata": {},
   "outputs": [],
   "source": [
    "def check(year,month,day):\n",
    "    if not get_date.isleap(year):\n",
    "        if month ==2 and day ==29:\n",
    "            return False\n",
    "        else:\n",
    "            return True"
   ]
  },
  {
   "cell_type": "code",
   "execution_count": 24,
   "metadata": {},
   "outputs": [
    {
     "name": "stdout",
     "output_type": "stream",
     "text": [
      ">>기간 시작 년원일을 입락하시오.\n",
      "__년도를 입력하시오 : 1991\n",
      "__월을 입력하시오 : 3\n",
      "__일을 입력하시오 : 1\n",
      ">>기간 종료 년원일을 입락하시오.\n",
      "__년도를 입력하시오 : 2001\n",
      "__월을 입력하시오 : 2\n",
      "__일을 입력하시오 : 29\n",
      ">>잘못된 입력입니다. 다시 입력하세요 \n",
      "__년도를 입력하시오 : 2001\n",
      "__월을 입력하시오 : 3\n",
      "__일을 입력하시오 : 1\n",
      "기간 중 1992 년의 2월 29일은 토요일 입니다.\n",
      "기간 중 1996 년의 2월 29일은 목요일 입니다.\n",
      "기간 중 2000 년의 2월 29일은 화요일 입니다.\n",
      "실행된 총 시간은 0.0초\n",
      "기간 중 총 윤년의 횟수는 3 번 입니다\n"
     ]
    }
   ],
   "source": [
    "def input_date():\n",
    "    print(\">>기간 시작 년원일을 입락하시오.\")\n",
    "    while (1):\n",
    "        year1=int(input(\"__년도를 입력하시오 : \"))\n",
    "        month1 = int(input(\"__월을 입력하시오 : \"))\n",
    "        day1 = int(input(\"__일을 입력하시오 : \"))\n",
    "        if check(year1,month1,day1) == False:\n",
    "            print(\">>잘못된 입력입니다. 다시 입력하세요 \")\n",
    "        else:\n",
    "            break\n",
    "    print(\">>기간 종료 년원일을 입락하시오.\")\n",
    "    while (1):\n",
    "        year2 = int(input(\"__년도를 입력하시오 : \"))\n",
    "        month2 = int(input(\"__월을 입력하시오 : \"))\n",
    "        day2 = int(input(\"__일을 입력하시오 : \"))\n",
    "        if check(year2,month2,day2) == False:\n",
    "            print(\">>잘못된 입력입니다. 다시 입력하세요 \")\n",
    "        else:\n",
    "            break\n",
    "    a=get_date(year1,month1,day1,year2,month2,day2)\n",
    "    a.print_date()\n",
    "input_date()\n"
   ]
  },
  {
   "cell_type": "code",
   "execution_count": null,
   "metadata": {},
   "outputs": [],
   "source": []
  },
  {
   "cell_type": "code",
   "execution_count": null,
   "metadata": {},
   "outputs": [],
   "source": []
  }
 ],
 "metadata": {
  "kernelspec": {
   "display_name": "Python 3",
   "language": "python",
   "name": "python3"
  },
  "language_info": {
   "codemirror_mode": {
    "name": "ipython",
    "version": 3
   },
   "file_extension": ".py",
   "mimetype": "text/x-python",
   "name": "python",
   "nbconvert_exporter": "python",
   "pygments_lexer": "ipython3",
   "version": "3.7.3"
  }
 },
 "nbformat": 4,
 "nbformat_minor": 2
}
