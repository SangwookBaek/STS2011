{
 "cells": [
  {
   "cell_type": "code",
   "execution_count": 2,
   "id": "1e6e2627",
   "metadata": {},
   "outputs": [
    {
     "data": {
      "text/plain": [
       "[('dog', 'dot'), ('do', 'dont'), ('dumb', 'dumb')]"
      ]
     },
     "execution_count": 2,
     "metadata": {},
     "output_type": "execute_result"
    }
   ],
   "source": [
    "import re \n",
    "\n",
    "data = '''\n",
    "\"dog dot\", \"do dont\", \"dumb-dumb\", \"no match\",\"dumb-bumb\"\n",
    "'''\n",
    "p = re.compile('(d\\w+)\\W(d\\w+)')\n",
    "p.findall(data)"
   ]
  },
  {
   "cell_type": "code",
   "execution_count": 4,
   "id": "3118a726",
   "metadata": {},
   "outputs": [
    {
     "data": {
      "text/plain": [
       "['dog dot', 'do dont', 'dumb-dumb']"
      ]
     },
     "execution_count": 4,
     "metadata": {},
     "output_type": "execute_result"
    }
   ],
   "source": [
    "p = re.compile('d\\w+\\Wd\\w+')\n",
    "p.findall(data)"
   ]
  },
  {
   "cell_type": "code",
   "execution_count": 6,
   "id": "fef266c8",
   "metadata": {},
   "outputs": [
    {
     "name": "stdout",
     "output_type": "stream",
     "text": [
      "<re.Match object; span=(0, 3), match='asb'>\n"
     ]
    }
   ],
   "source": [
    "dp = re.compile(\"a.b\")\n",
    "print(dp.match(\"asb\"))"
   ]
  },
  {
   "cell_type": "code",
   "execution_count": 8,
   "id": "3a112162",
   "metadata": {},
   "outputs": [
    {
     "name": "stdout",
     "output_type": "stream",
     "text": [
      "<re.Match object; span=(0, 4), match='assb'>\n"
     ]
    }
   ],
   "source": [
    "dp = re.compile(\"a..b\")\n",
    "print(dp.match(\"assb\"))"
   ]
  },
  {
   "cell_type": "code",
   "execution_count": null,
   "id": "867fc73a",
   "metadata": {},
   "outputs": [],
   "source": [
    "data='''\n",
    "<HEAD>\n",
    "<TITLE>Seo Maria's Homepage</TITLE>\n",
    "</HEAD>\n",
    "'''\n",
    "re.compile(\"(?=title)\")\n",
    "re.search(\"(?<=)\")"
   ]
  },
  {
   "cell_type": "code",
   "execution_count": 5,
   "id": "3653c049",
   "metadata": {},
   "outputs": [
    {
     "name": "stdout",
     "output_type": "stream",
     "text": [
      "<re.Match object; span=(0, 6), match='python'>\n"
     ]
    },
    {
     "data": {
      "text/plain": [
       "'python'"
      ]
     },
     "execution_count": 5,
     "metadata": {},
     "output_type": "execute_result"
    }
   ],
   "source": [
    "p =re.compile('[a-z]+')\n",
    "m= p.match(\"python\")\n",
    "print(m)\n",
    "m.group()"
   ]
  },
  {
   "cell_type": "code",
   "execution_count": 7,
   "id": "d764e90f",
   "metadata": {},
   "outputs": [
    {
     "name": "stdout",
     "output_type": "stream",
     "text": [
      "None\n"
     ]
    },
    {
     "ename": "AttributeError",
     "evalue": "'NoneType' object has no attribute 'group'",
     "output_type": "error",
     "traceback": [
      "\u001b[1;31m---------------------------------------------------------------------------\u001b[0m",
      "\u001b[1;31mAttributeError\u001b[0m                            Traceback (most recent call last)",
      "\u001b[1;32m~\\AppData\\Local\\Temp/ipykernel_7796/2601990436.py\u001b[0m in \u001b[0;36m<module>\u001b[1;34m\u001b[0m\n\u001b[0;32m      1\u001b[0m \u001b[0mm\u001b[0m \u001b[1;33m=\u001b[0m \u001b[0mp\u001b[0m\u001b[1;33m.\u001b[0m\u001b[0mmatch\u001b[0m\u001b[1;33m(\u001b[0m\u001b[1;34m\"1 python\"\u001b[0m\u001b[1;33m)\u001b[0m\u001b[1;33m\u001b[0m\u001b[1;33m\u001b[0m\u001b[0m\n\u001b[0;32m      2\u001b[0m \u001b[0mprint\u001b[0m\u001b[1;33m(\u001b[0m\u001b[0mm\u001b[0m\u001b[1;33m)\u001b[0m\u001b[1;33m\u001b[0m\u001b[1;33m\u001b[0m\u001b[0m\n\u001b[1;32m----> 3\u001b[1;33m \u001b[0mm\u001b[0m\u001b[1;33m.\u001b[0m\u001b[0mgroup\u001b[0m\u001b[1;33m(\u001b[0m\u001b[1;33m)\u001b[0m\u001b[1;33m\u001b[0m\u001b[1;33m\u001b[0m\u001b[0m\n\u001b[0m",
      "\u001b[1;31mAttributeError\u001b[0m: 'NoneType' object has no attribute 'group'"
     ]
    }
   ],
   "source": [
    "m = p.match(\"1 python\")\n",
    "print(m)\n",
    "m.group()"
   ]
  },
  {
   "cell_type": "code",
   "execution_count": 8,
   "id": "ce88040a",
   "metadata": {},
   "outputs": [
    {
     "name": "stdout",
     "output_type": "stream",
     "text": [
      "<re.Match object; span=(2, 8), match='python'>\n"
     ]
    },
    {
     "data": {
      "text/plain": [
       "'python'"
      ]
     },
     "execution_count": 8,
     "metadata": {},
     "output_type": "execute_result"
    }
   ],
   "source": [
    "m = p.search(\"1 python\")\n",
    "print(m)\n",
    "m.group()"
   ]
  },
  {
   "cell_type": "code",
   "execution_count": 9,
   "id": "9d7ab509",
   "metadata": {},
   "outputs": [
    {
     "name": "stdout",
     "output_type": "stream",
     "text": [
      "32\n",
      "(0, 32)\n",
      "<html><head><title>Title</title>\n",
      "(0, 6)\n",
      "<html>\n"
     ]
    }
   ],
   "source": [
    "s = '<html><head><title>Title</title>'\n",
    "print(len(s))\n",
    "print(re.match('<.*>', s).span())\n",
    "print(re.match('<.*>', s).group())\n",
    "print(re.match('<.*?>', s).span())\n",
    "print(re.match('<.*?>', s).group())"
   ]
  },
  {
   "cell_type": "code",
   "execution_count": 18,
   "id": "8b121b75",
   "metadata": {},
   "outputs": [
    {
     "name": "stdout",
     "output_type": "stream",
     "text": [
      "Cats are smarter than dogs\n",
      "Cats\n",
      "smarter than\n",
      "dogs\n"
     ]
    }
   ],
   "source": [
    "line = \"Cats are smarter than dogs\"\n",
    "\n",
    "matchobj = re.match( r'(.*) are (.*) (.*)', line, re.M|re.I)\n",
    "\n",
    "\n",
    "print(matchobj.group())\n",
    "print(matchobj.group(1))\n",
    "print(matchobj.group(2))\n",
    "print(matchobj.group(3))"
   ]
  },
  {
   "cell_type": "code",
   "execution_count": 2,
   "id": "69c1038f",
   "metadata": {},
   "outputs": [
    {
     "data": {
      "text/plain": [
       "['Hello World', 'Hello Dahl', 'Hello Moon']"
      ]
     },
     "execution_count": 2,
     "metadata": {},
     "output_type": "execute_result"
    }
   ],
   "source": [
    "import re\n",
    "data = \"\"\"Hello World\n",
    "Hello Dahl\n",
    "Hello Moon\"\"\"\n",
    "\n",
    "\n",
    "MM = re.compile(\"^Hello\\s\\w+\",re.M)\n",
    "MM.findall(data)"
   ]
  },
  {
   "cell_type": "code",
   "execution_count": null,
   "id": "4cea114b",
   "metadata": {},
   "outputs": [],
   "source": [
    "import re\n",
    "charref = re.compile(r'&[#](0[0-7])')"
   ]
  }
 ],
 "metadata": {
  "kernelspec": {
   "display_name": "Python 3 (ipykernel)",
   "language": "python",
   "name": "python3"
  },
  "language_info": {
   "codemirror_mode": {
    "name": "ipython",
    "version": 3
   },
   "file_extension": ".py",
   "mimetype": "text/x-python",
   "name": "python",
   "nbconvert_exporter": "python",
   "pygments_lexer": "ipython3",
   "version": "3.9.7"
  },
  "toc": {
   "base_numbering": 1,
   "nav_menu": {},
   "number_sections": true,
   "sideBar": true,
   "skip_h1_title": false,
   "title_cell": "Table of Contents",
   "title_sidebar": "Contents",
   "toc_cell": false,
   "toc_position": {},
   "toc_section_display": true,
   "toc_window_display": false
  },
  "varInspector": {
   "cols": {
    "lenName": 16,
    "lenType": 16,
    "lenVar": 40
   },
   "kernels_config": {
    "python": {
     "delete_cmd_postfix": "",
     "delete_cmd_prefix": "del ",
     "library": "var_list.py",
     "varRefreshCmd": "print(var_dic_list())"
    },
    "r": {
     "delete_cmd_postfix": ") ",
     "delete_cmd_prefix": "rm(",
     "library": "var_list.r",
     "varRefreshCmd": "cat(var_dic_list()) "
    }
   },
   "types_to_exclude": [
    "module",
    "function",
    "builtin_function_or_method",
    "instance",
    "_Feature"
   ],
   "window_display": false
  }
 },
 "nbformat": 4,
 "nbformat_minor": 5
}
