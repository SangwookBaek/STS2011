{
 "cells": [
  {
   "cell_type": "code",
   "execution_count": 1,
   "id": "fd2b0922",
   "metadata": {},
   "outputs": [],
   "source": [
    "import datetime\n",
    "import time"
   ]
  },
  {
   "cell_type": "code",
   "execution_count": 4,
   "id": "87cded87",
   "metadata": {},
   "outputs": [],
   "source": [
    "class get_date():\n",
    "    def __init__(self,year1,month1,date1,year2,month2,date2):\n",
    "        self.year1 = year1\n",
    "        self.month1 = month1\n",
    "        self.date1 = date1\n",
    "        self.year2 = year2\n",
    "        self.month2 = month2\n",
    "        self.date2 = date2\n",
    "    \n",
    "    @staticmethod\n",
    "    def isleap(year):\n",
    "        if (year % 400 == 0):\n",
    "            return True\n",
    "        elif (year %100 ==0):\n",
    "            return False\n",
    "        elif (year %4 ==0):\n",
    "            return True\n",
    "        else:\n",
    "            return False\n",
    "    \n",
    "    def print_leap(self):\n",
    "        fisrt = time.time()\n",
    "        count = 0\n",
    "        yoil_list = [\"월\",\"화\",\"수\",\"목\",\"금\",\"토\",\"일\"]\n",
    "        for i in range(self.year1,self.year2+1):\n",
    "            if get_date.isleap(i):\n",
    "                if (i > self.year1 and i < self.year2):\n",
    "                    count +=1\n",
    "                    yoil=datetime.date(i,2,29).weekday()\n",
    "                    print(f\"기간 중 {i}년의 2월 29일은 {yoil_list[yoil]}요일입니다\")\n",
    "                elif (i== self.year1):\n",
    "                    if (self.month1<2 or (self.month1==2 and self.date1 ==29)):\n",
    "                        count +=1\n",
    "                        yoil=datetime.date(i,2,29).weekday()\n",
    "                        print(f\"기간 중 {i}년의 2월 29일은 {yoil_list[yoil]}요일입니다\")\n",
    "                elif (i== self.year2):\n",
    "                      if (self.month2>2 or (self.month2==2 and self.date2 ==29)):\n",
    "                        count +=1\n",
    "                        yoil=datetime.date(i,2,29).weekday()\n",
    "                        print(f\"기ar간 중 {i}년의 2월 29일은 {yoil_list[yoil]}요일입니다\")  \n",
    "        print(f\"총 실행시간은 {time.time()-fisrt:.6f}초입니다\")\n",
    "        print(f\"기간 중 총 윤년의 횟수는 {count}번 입니다\")"
   ]
  },
  {
   "cell_type": "code",
   "execution_count": 5,
   "id": "bc07cd00",
   "metadata": {},
   "outputs": [
    {
     "name": "stdout",
     "output_type": "stream",
     "text": [
      "기간 시작 년월일을 입력하시오.\n",
      "__년도를 입력하시오 : 2004\n",
      "__월을 입력하시오 : 2\n",
      "__일을 입력하시오 : 29\n",
      "기간 시작 년월일을 입력하시오.\n",
      "__년도를 입력하시오 : 2020\n",
      "__월을 입력하시오 : 2\n",
      "__일을 입력하시오 : 29\n",
      "기간 중 2004년의 2월 29일은 일요일입니다\n",
      "기간 중 2008년의 2월 29일은 금요일입니다\n",
      "기간 중 2012년의 2월 29일은 수요일입니다\n",
      "기간 중 2016년의 2월 29일은 월요일입니다\n",
      "기ar간 중 2020년의 2월 29일은 토요일입니다\n",
      "총 실행시간은 0.000994초입니다\n",
      "기간 중 총 윤년의 횟수는 5번 입니다\n"
     ]
    }
   ],
   "source": [
    "def input_date():\n",
    "    print(\"기간 시작 년월일을 입력하시오.\")\n",
    "    year1=int(input(\"__년도를 입력하시오 : \"))\n",
    "    month1=int(input(\"__월을 입력하시오 : \"))\n",
    "    day1=int(input(\"__일을 입력하시오 : \"))\n",
    "    print(\"기간 시작 년월일을 입력하시오.\")\n",
    "    year2=int(input(\"__년도를 입력하시오 : \"))\n",
    "    month2=int(input(\"__월을 입력하시오 : \"))\n",
    "    day2=int(input(\"__일을 입력하시오 : \"))\n",
    "    return year1,month1,day1,year2,month2,day2\n",
    "year1,month1,day1,year2,month2,day2 = input_date()\n",
    "new=get_date(year1,month1,day1,year2,month2,day2)\n",
    "new.print_leap()"
   ]
  },
  {
   "cell_type": "code",
   "execution_count": 2,
   "id": "1b2bb788",
   "metadata": {},
   "outputs": [],
   "source": [
    "class verbose:\n",
    "    def __init__(self,f):\n",
    "        self.f = f\n",
    "    def __call__(self,*args):\n",
    "        start = time.time()\n",
    "        self.f(*args)\n",
    "        print(f\"총실행시간은 {time.time() - start}\")"
   ]
  },
  {
   "cell_type": "code",
   "execution_count": 24,
   "id": "563636b9",
   "metadata": {},
   "outputs": [],
   "source": [
    "class Purse():\n",
    "    def __init__(self):\n",
    "        self._num = 0\n",
    "        self._name = 0\n",
    "        self._coins = 0\n",
    "    @property\n",
    "    def num(self):\n",
    "        return self._num\n",
    "    \n",
    "    @num.setter\n",
    "    def num(self,value):\n",
    "        self._num = value\n",
    "    \n",
    "    @property\n",
    "    def name(self):\n",
    "        return self._name\n",
    "    \n",
    "    @name.setter\n",
    "    def name(self,value):\n",
    "        self._name = value\n",
    "    \n",
    "    @property\n",
    "    def coins(self):\n",
    "        return self._coins\n",
    "    \n",
    "    @coins.setter\n",
    "    def coins(self,value):\n",
    "        self._coins = value\n",
    "\n",
    "class PurseMgtSystem():\n",
    "    def __init__(self):\n",
    "        pass\n",
    "    @staticmethod\n",
    "    def register_purse(num,name,coins):\n",
    "        a = Purse()\n",
    "        a.name = name\n",
    "        a.num = num\n",
    "        a.coins = coins\n",
    "        return a\n",
    "    \n",
    "    @staticmethod\n",
    "    def process(objects_list):\n",
    "        rank =1\n",
    "        double_list = []\n",
    "        for i in objects_list:\n",
    "            total = 0\n",
    "            for key,value in i.coins.items():\n",
    "                total += key*value\n",
    "            double_list.append([i.num,i.name,i.coins,total])\n",
    "        double_list.sort(key = lambda x: x[3],reverse=True)\n",
    "        compare = double_list[0][3]\n",
    "        for i in double_list:\n",
    "            if i[3] < compare:\n",
    "                rank += 1\n",
    "                compare = i[3]\n",
    "            print(f\"번호:{i[0]} 이름:{i[1]} 500원:{i[2].get(500,0)} 100원:{i[2].get(100,0)} 50원:{i[2].get(50,0)} 10원:{i[2].get(10,0)} 1원:{i[2].get(1,0)} 총액:{i[3]} 순위: {rank}\")\n",
    "        return double_list\n",
    "    @staticmethod\n",
    "    @verbose\n",
    "    def get_coins(coin,double_list):\n",
    "        owner = []\n",
    "        owns = 0\n",
    "        for i in double_list:\n",
    "            if (i[2].get(coin,0) > owns):\n",
    "                owner = [[i[0],i[1],i[2].get(coin,0)]]\n",
    "                owns = i[2].get(coin,0)\n",
    "            elif (i[2].get(coin,0) == owns):\n",
    "                owner.append([i[0],i[1],owns])\n",
    "        print(\"최다보율자들 :\")\n",
    "        for i in owner:\n",
    "            print(f\"번호:{i[0]+1}, 이름:{i[1]}, 개수:{i[2]}\")"
   ]
  },
  {
   "cell_type": "code",
   "execution_count": 25,
   "id": "3d8961ec",
   "metadata": {},
   "outputs": [],
   "source": [
    "def get_input():\n",
    "    objects_list = [] \n",
    "    coin_list  = [1,10,50,100,500]\n",
    "    for i in range(8):\n",
    "        coin_dict = {}\n",
    "        input_list = input(\"\").split(\", \")\n",
    "        name= input_list[0]\n",
    "        for j in input_list[1:]:\n",
    "            if int(j) not in coin_list:\n",
    "                print(\"잘못된 동전 정보가 있습니다.\")\n",
    "                print(\"동전관리 시스템이 비정상 종료합니다\")\n",
    "                return 0\n",
    "        num = i\n",
    "        for k in input_list[1:]:\n",
    "            if int(k) in coin_dict.keys():\n",
    "                coin_dict[int(k)] += 1\n",
    "            else:\n",
    "                coin_dict[int(k)] = 1\n",
    "        objects_list.append(PurseMgtSystem.register_purse(num,name,coin_dict))\n",
    "    double_list=PurseMgtSystem.process(objects_list)\n",
    "    coin=int(input(\"동전:\"))\n",
    "    PurseMgtSystem.get_coins(coin,double_list)"
   ]
  },
  {
   "cell_type": "code",
   "execution_count": 26,
   "id": "b53922eb",
   "metadata": {},
   "outputs": [
    {
     "name": "stdout",
     "output_type": "stream",
     "text": [
      "서강일, 500, 100\n",
      "서강이, 100, 100\n",
      "서강삼, 50, 500\n",
      "서강사, 500, 500, 10\n",
      "서강오, 1, 500, 500\n",
      "서강육, 100, 500\n",
      "서강칠, 10\n",
      "서강팔, 1\n",
      "번호:3 이름:서강사 500원:2 100원:0 50원:0 10원:1 1원:0 총액:1010 순위: 1\n",
      "번호:4 이름:서강오 500원:2 100원:0 50원:0 10원:0 1원:1 총액:1001 순위: 2\n",
      "번호:0 이름:서강일 500원:1 100원:1 50원:0 10원:0 1원:0 총액:600 순위: 3\n",
      "번호:5 이름:서강육 500원:1 100원:1 50원:0 10원:0 1원:0 총액:600 순위: 3\n",
      "번호:2 이름:서강삼 500원:1 100원:0 50원:1 10원:0 1원:0 총액:550 순위: 4\n",
      "번호:1 이름:서강이 500원:0 100원:2 50원:0 10원:0 1원:0 총액:200 순위: 5\n",
      "번호:6 이름:서강칠 500원:0 100원:0 50원:0 10원:1 1원:0 총액:10 순위: 6\n",
      "번호:7 이름:서강팔 500원:0 100원:0 50원:0 10원:0 1원:1 총액:1 순위: 7\n",
      "동전:500\n",
      "최다보율자들 :\n",
      "번호:4, 이름:서강사, 개수:2\n",
      "번호:5, 이름:서강오, 개수:2\n",
      "총실행시간은 0.000997304916381836\n"
     ]
    }
   ],
   "source": [
    "get_input()"
   ]
  },
  {
   "cell_type": "raw",
   "id": "39ad6990",
   "metadata": {},
   "source": []
  }
 ],
 "metadata": {
  "kernelspec": {
   "display_name": "Python 3 (ipykernel)",
   "language": "python",
   "name": "python3"
  },
  "language_info": {
   "codemirror_mode": {
    "name": "ipython",
    "version": 3
   },
   "file_extension": ".py",
   "mimetype": "text/x-python",
   "name": "python",
   "nbconvert_exporter": "python",
   "pygments_lexer": "ipython3",
   "version": "3.9.7"
  },
  "toc": {
   "base_numbering": 1,
   "nav_menu": {},
   "number_sections": true,
   "sideBar": true,
   "skip_h1_title": false,
   "title_cell": "Table of Contents",
   "title_sidebar": "Contents",
   "toc_cell": false,
   "toc_position": {},
   "toc_section_display": true,
   "toc_window_display": false
  },
  "varInspector": {
   "cols": {
    "lenName": 16,
    "lenType": 16,
    "lenVar": 40
   },
   "kernels_config": {
    "python": {
     "delete_cmd_postfix": "",
     "delete_cmd_prefix": "del ",
     "library": "var_list.py",
     "varRefreshCmd": "print(var_dic_list())"
    },
    "r": {
     "delete_cmd_postfix": ") ",
     "delete_cmd_prefix": "rm(",
     "library": "var_list.r",
     "varRefreshCmd": "cat(var_dic_list()) "
    }
   },
   "types_to_exclude": [
    "module",
    "function",
    "builtin_function_or_method",
    "instance",
    "_Feature"
   ],
   "window_display": false
  }
 },
 "nbformat": 4,
 "nbformat_minor": 5
}
