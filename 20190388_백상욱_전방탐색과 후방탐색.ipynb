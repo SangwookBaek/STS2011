{
 "cells": [
  {
   "cell_type": "code",
   "execution_count": 3,
   "id": "5ee5ce27",
   "metadata": {},
   "outputs": [
    {
     "data": {
      "text/plain": [
       "\"Seo Maria's Homepage\""
      ]
     },
     "execution_count": 3,
     "metadata": {},
     "output_type": "execute_result"
    }
   ],
   "source": [
    "import re\n",
    "\n",
    "html = '''<HEAD>\n",
    "<TITLE>Seo Maria's Homepage</TITLE>\n",
    "</HEAD>\n",
    "'''\n",
    "\n",
    "pat=re.search('(?<=<title>).+(?=</title>)',html,re.I|re.M)\n",
    "pat.group()"
   ]
  },
  {
   "cell_type": "code",
   "execution_count": 26,
   "id": "25234fdb",
   "metadata": {},
   "outputs": [],
   "source": [
    "input_text = 'foo.bar, autoexec.bat, sendmail.cf, checksum.exe'\n",
    "file_list = input_text.split(', ')"
   ]
  },
  {
   "cell_type": "code",
   "execution_count": 27,
   "id": "0cd3dd7a",
   "metadata": {},
   "outputs": [
    {
     "name": "stdout",
     "output_type": "stream",
     "text": [
      "foo.bar, sendmail.cf, checksum.exe\n"
     ]
    }
   ],
   "source": [
    "p1 = re.compile('\\w*[.]bat')\n",
    "output_list=[]\n",
    "for i in file_list:\n",
    "    if(re.search(p1,i)):\n",
    "        pass\n",
    "    else:\n",
    "        output_list.append(i)\n",
    "        output = ', '.join(output_list)\n",
    "print(output)"
   ]
  },
  {
   "cell_type": "code",
   "execution_count": 28,
   "id": "f13613e5",
   "metadata": {},
   "outputs": [
    {
     "name": "stdout",
     "output_type": "stream",
     "text": [
      "foo.bar, sendmail.cf\n"
     ]
    }
   ],
   "source": [
    "p2 = re.compile('\\w*[.](bat|exe)')\n",
    "output_list=[]\n",
    "for i in file_list:\n",
    "    if(re.search(p2,i)):\n",
    "        pass\n",
    "    else:\n",
    "        output_list.append(i)\n",
    "        output = ', '.join(output_list)\n",
    "print(output)"
   ]
  },
  {
   "cell_type": "code",
   "execution_count": null,
   "id": "d532bfe0",
   "metadata": {},
   "outputs": [],
   "source": []
  }
 ],
 "metadata": {
  "kernelspec": {
   "display_name": "Python 3 (ipykernel)",
   "language": "python",
   "name": "python3"
  },
  "language_info": {
   "codemirror_mode": {
    "name": "ipython",
    "version": 3
   },
   "file_extension": ".py",
   "mimetype": "text/x-python",
   "name": "python",
   "nbconvert_exporter": "python",
   "pygments_lexer": "ipython3",
   "version": "3.9.7"
  },
  "toc": {
   "base_numbering": 1,
   "nav_menu": {},
   "number_sections": true,
   "sideBar": true,
   "skip_h1_title": false,
   "title_cell": "Table of Contents",
   "title_sidebar": "Contents",
   "toc_cell": false,
   "toc_position": {},
   "toc_section_display": true,
   "toc_window_display": false
  },
  "varInspector": {
   "cols": {
    "lenName": 16,
    "lenType": 16,
    "lenVar": 40
   },
   "kernels_config": {
    "python": {
     "delete_cmd_postfix": "",
     "delete_cmd_prefix": "del ",
     "library": "var_list.py",
     "varRefreshCmd": "print(var_dic_list())"
    },
    "r": {
     "delete_cmd_postfix": ") ",
     "delete_cmd_prefix": "rm(",
     "library": "var_list.r",
     "varRefreshCmd": "cat(var_dic_list()) "
    }
   },
   "types_to_exclude": [
    "module",
    "function",
    "builtin_function_or_method",
    "instance",
    "_Feature"
   ],
   "window_display": false
  }
 },
 "nbformat": 4,
 "nbformat_minor": 5
}
