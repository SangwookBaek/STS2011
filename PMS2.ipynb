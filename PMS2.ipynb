{
 "cells": [
  {
   "cell_type": "code",
   "execution_count": 2,
   "metadata": {},
   "outputs": [],
   "source": [
    "class Purse:\n",
    "    def __init__(self, name, *coins):\n",
    "        val_coins = [500, 100, 50, 10, 1]\n",
    "        for coin in coins:\n",
    "            if coin not in val_coins:\n",
    "                raise ValueError('잘못된 동전 데이터가 있습니다.\\n동전관리시스템이 비정상 종료합니다')\n",
    "            else:\n",
    "                pass\n",
    "            \n",
    "        self._name = name\n",
    "        self._coins = {c: coins.count(c) for c in val_coins}\n",
    "        self._num = None\n",
    "        self._total = sum(coins)\n",
    "        self._order = None\n",
    "    \n",
    "    @property\n",
    "    def name(self):\n",
    "        return self._name\n",
    "    @property\n",
    "    def coins(self):\n",
    "        return self._coins\n",
    "    @property\n",
    "    def num(self):\n",
    "        return self._num\n",
    "    @num.setter\n",
    "    def num(self, num):\n",
    "        self._num = num\n",
    "    @property\n",
    "    def total(self):\n",
    "        return self._total\n",
    "    @property\n",
    "    def order(self):\n",
    "        return self._order\n",
    "    @order.setter\n",
    "    def order(self, order):\n",
    "        self._order = order   "
   ]
  },
  {
   "cell_type": "code",
   "execution_count": 8,
   "metadata": {},
   "outputs": [],
   "source": [
    "import time\n",
    "def verbose(func):\n",
    "    def checkTime(*args, **kwargs):\n",
    "        s_time = time.time()\n",
    "        func(*args, *kwargs)\n",
    "        e_time = time.time()\n",
    "        print()\n",
    "        print('실행시간은: {}'.format(e_time-s_time))\n",
    "    return checkTime\n",
    "        \n",
    "class PurseMgtSystem:\n",
    "    def __init__(self):\n",
    "        self.purses = []\n",
    "        \n",
    "    def register_purse(self,purse):\n",
    "        purse_count = 1\n",
    "        self.purses.append(purse)\n",
    "        for purse in self.purses:\n",
    "            purse.num = purse_count\n",
    "            purse_count += 1\n",
    "    @verbose        \n",
    "    def process(self):\n",
    "        self.purses.sort(key = lambda purse: purse.total, reverse = True)\n",
    "        temp = []\n",
    "        for i, p in enumerate(self.purses):\n",
    "            temp.append(p.total)\n",
    "            if p.total == temp[i-1] and i > 0:\n",
    "                p.order = i\n",
    "            else:\n",
    "                p.order = i + 1\n",
    "                \n",
    "            print('번호:{} 이름:{} 500원:{} 100원:{} 50원:{} 10원:{} 1원:{}  총액:{} 순위:{}'.format(\n",
    "                p.num, p.name, p.coins.get(500), p.coins.get(100),p.coins.get(50),p.coins.get(10), p.coins.get(1), p.total, p.order))\n",
    "        \n",
    "        most_coin = int(input('동전: '))\n",
    "        temp = []\n",
    "        for purse in self.purses:\n",
    "            temp.append(purse.coins.get(most_coin))\n",
    "        most_coin_count = max(temp)\n",
    "        print('최다 보유자들')\n",
    "        for purse in self.purses:\n",
    "            if purse.coins[most_coin] == most_coin_count:\n",
    "                print('번호: {}, 이름: {}, 개수: {}'.format(purse.num, purse.name, most_coin_count))"
   ]
  },
  {
   "cell_type": "code",
   "execution_count": 10,
   "metadata": {},
   "outputs": [
    {
     "name": "stdout",
     "output_type": "stream",
     "text": [
      "번호:4 이름:서강사 500원:3 100원:1 50원:3 10원:0 1원:0  총액:1750 순위:1\n",
      "번호:8 이름:서강팔 500원:3 100원:2 50원:1 10원:0 1원:0  총액:1750 순위:1\n",
      "번호:6 이름:서강육 500원:2 100원:3 50원:2 10원:0 1원:0  총액:1400 순위:3\n",
      "번호:1 이름:서강일 500원:2 100원:3 50원:1 10원:1 1원:0  총액:1360 순위:4\n",
      "번호:5 이름:서강오 500원:2 100원:3 50원:0 10원:2 1원:1  총액:1321 순위:5\n",
      "번호:7 이름:서강칠 500원:2 100원:2 50원:1 10원:0 1원:0  총액:1250 순위:6\n",
      "번호:2 이름:서강이 500원:1 100원:2 50원:2 10원:1 1원:0  총액:810 순위:7\n",
      "번호:3 이름:서강삼 500원:1 100원:2 50원:0 10원:1 1원:0  총액:710 순위:8\n"
     ]
    },
    {
     "name": "stdin",
     "output_type": "stream",
     "text": [
      "동전:  90\n"
     ]
    },
    {
     "ename": "TypeError",
     "evalue": "'>' not supported between instances of 'NoneType' and 'NoneType'",
     "output_type": "error",
     "traceback": [
      "\u001b[1;31m---------------------------------------------------------------------------\u001b[0m",
      "\u001b[1;31mTypeError\u001b[0m                                 Traceback (most recent call last)",
      "\u001b[1;32m<ipython-input-10-bd765c4834e3>\u001b[0m in \u001b[0;36m<module>\u001b[1;34m\u001b[0m\n\u001b[0;32m     17\u001b[0m     \u001b[0mpgs\u001b[0m\u001b[1;33m.\u001b[0m\u001b[0mregister_purse\u001b[0m\u001b[1;33m(\u001b[0m\u001b[0mp7\u001b[0m\u001b[1;33m)\u001b[0m\u001b[1;33m\u001b[0m\u001b[1;33m\u001b[0m\u001b[0m\n\u001b[0;32m     18\u001b[0m     \u001b[0mpgs\u001b[0m\u001b[1;33m.\u001b[0m\u001b[0mregister_purse\u001b[0m\u001b[1;33m(\u001b[0m\u001b[0mp8\u001b[0m\u001b[1;33m)\u001b[0m\u001b[1;33m\u001b[0m\u001b[1;33m\u001b[0m\u001b[0m\n\u001b[1;32m---> 19\u001b[1;33m     \u001b[0mpgs\u001b[0m\u001b[1;33m.\u001b[0m\u001b[0mprocess\u001b[0m\u001b[1;33m(\u001b[0m\u001b[1;33m)\u001b[0m\u001b[1;33m\u001b[0m\u001b[1;33m\u001b[0m\u001b[0m\n\u001b[0m",
      "\u001b[1;32m<ipython-input-8-60fe52b0d10b>\u001b[0m in \u001b[0;36mcheckTime\u001b[1;34m(*args, **kwargs)\u001b[0m\n\u001b[0;32m      3\u001b[0m     \u001b[1;32mdef\u001b[0m \u001b[0mcheckTime\u001b[0m\u001b[1;33m(\u001b[0m\u001b[1;33m*\u001b[0m\u001b[0margs\u001b[0m\u001b[1;33m,\u001b[0m \u001b[1;33m**\u001b[0m\u001b[0mkwargs\u001b[0m\u001b[1;33m)\u001b[0m\u001b[1;33m:\u001b[0m\u001b[1;33m\u001b[0m\u001b[1;33m\u001b[0m\u001b[0m\n\u001b[0;32m      4\u001b[0m         \u001b[0ms_time\u001b[0m \u001b[1;33m=\u001b[0m \u001b[0mtime\u001b[0m\u001b[1;33m.\u001b[0m\u001b[0mtime\u001b[0m\u001b[1;33m(\u001b[0m\u001b[1;33m)\u001b[0m\u001b[1;33m\u001b[0m\u001b[1;33m\u001b[0m\u001b[0m\n\u001b[1;32m----> 5\u001b[1;33m         \u001b[0mfunc\u001b[0m\u001b[1;33m(\u001b[0m\u001b[1;33m*\u001b[0m\u001b[0margs\u001b[0m\u001b[1;33m,\u001b[0m \u001b[1;33m*\u001b[0m\u001b[0mkwargs\u001b[0m\u001b[1;33m)\u001b[0m\u001b[1;33m\u001b[0m\u001b[1;33m\u001b[0m\u001b[0m\n\u001b[0m\u001b[0;32m      6\u001b[0m         \u001b[0me_time\u001b[0m \u001b[1;33m=\u001b[0m \u001b[0mtime\u001b[0m\u001b[1;33m.\u001b[0m\u001b[0mtime\u001b[0m\u001b[1;33m(\u001b[0m\u001b[1;33m)\u001b[0m\u001b[1;33m\u001b[0m\u001b[1;33m\u001b[0m\u001b[0m\n\u001b[0;32m      7\u001b[0m         \u001b[0mprint\u001b[0m\u001b[1;33m(\u001b[0m\u001b[1;33m)\u001b[0m\u001b[1;33m\u001b[0m\u001b[1;33m\u001b[0m\u001b[0m\n",
      "\u001b[1;32m<ipython-input-8-60fe52b0d10b>\u001b[0m in \u001b[0;36mprocess\u001b[1;34m(self)\u001b[0m\n\u001b[0;32m     37\u001b[0m         \u001b[1;32mfor\u001b[0m \u001b[0mpurse\u001b[0m \u001b[1;32min\u001b[0m \u001b[0mself\u001b[0m\u001b[1;33m.\u001b[0m\u001b[0mpurses\u001b[0m\u001b[1;33m:\u001b[0m\u001b[1;33m\u001b[0m\u001b[1;33m\u001b[0m\u001b[0m\n\u001b[0;32m     38\u001b[0m             \u001b[0mtemp\u001b[0m\u001b[1;33m.\u001b[0m\u001b[0mappend\u001b[0m\u001b[1;33m(\u001b[0m\u001b[0mpurse\u001b[0m\u001b[1;33m.\u001b[0m\u001b[0mcoins\u001b[0m\u001b[1;33m.\u001b[0m\u001b[0mget\u001b[0m\u001b[1;33m(\u001b[0m\u001b[0mmost_coin\u001b[0m\u001b[1;33m)\u001b[0m\u001b[1;33m)\u001b[0m\u001b[1;33m\u001b[0m\u001b[1;33m\u001b[0m\u001b[0m\n\u001b[1;32m---> 39\u001b[1;33m         \u001b[0mmost_coin_count\u001b[0m \u001b[1;33m=\u001b[0m \u001b[0mmax\u001b[0m\u001b[1;33m(\u001b[0m\u001b[0mtemp\u001b[0m\u001b[1;33m)\u001b[0m\u001b[1;33m\u001b[0m\u001b[1;33m\u001b[0m\u001b[0m\n\u001b[0m\u001b[0;32m     40\u001b[0m         \u001b[0mprint\u001b[0m\u001b[1;33m(\u001b[0m\u001b[1;34m'최다 보유자들'\u001b[0m\u001b[1;33m)\u001b[0m\u001b[1;33m\u001b[0m\u001b[1;33m\u001b[0m\u001b[0m\n\u001b[0;32m     41\u001b[0m         \u001b[1;32mfor\u001b[0m \u001b[0mpurse\u001b[0m \u001b[1;32min\u001b[0m \u001b[0mself\u001b[0m\u001b[1;33m.\u001b[0m\u001b[0mpurses\u001b[0m\u001b[1;33m:\u001b[0m\u001b[1;33m\u001b[0m\u001b[1;33m\u001b[0m\u001b[0m\n",
      "\u001b[1;31mTypeError\u001b[0m: '>' not supported between instances of 'NoneType' and 'NoneType'"
     ]
    }
   ],
   "source": [
    "if __name__ == \"__main__\":\n",
    "    pgs = PurseMgtSystem()\n",
    "    p1 = Purse(\"서강일\", 500, 100, 10, 50, 500, 100, 100)\n",
    "    p2 = Purse(\"서강이\", 500, 50, 50, 100, 100, 10)\n",
    "    p3 = Purse(\"서강삼\", 500, 100, 100, 10)\n",
    "    p4 = Purse(\"서강사\", 500, 500, 500, 50, 50, 50, 100)\n",
    "    p5 = Purse(\"서강오\", 500, 100, 100, 500, 100, 10, 10, 1)\n",
    "    p6 = Purse(\"서강육\", 500, 50, 100, 50, 100, 100, 500)\n",
    "    p7 = Purse(\"서강칠\", 50, 500, 500, 100, 100)\n",
    "    p8 = Purse('서강팔', 500, 500, 500, 50, 100, 100)\n",
    "    pgs.register_purse(p1)\n",
    "    pgs.register_purse(p2)\n",
    "    pgs.register_purse(p3)\n",
    "    pgs.register_purse(p4)\n",
    "    pgs.register_purse(p5)\n",
    "    pgs.register_purse(p6)\n",
    "    pgs.register_purse(p7)\n",
    "    pgs.register_purse(p8)\n",
    "    pgs.process()"
   ]
  },
  {
   "cell_type": "code",
   "execution_count": null,
   "metadata": {},
   "outputs": [],
   "source": []
  }
 ],
 "metadata": {
  "kernelspec": {
   "display_name": "Python 3 (ipykernel)",
   "language": "python",
   "name": "python3"
  },
  "language_info": {
   "codemirror_mode": {
    "name": "ipython",
    "version": 3
   },
   "file_extension": ".py",
   "mimetype": "text/x-python",
   "name": "python",
   "nbconvert_exporter": "python",
   "pygments_lexer": "ipython3",
   "version": "3.9.7"
  },
  "toc": {
   "base_numbering": 1,
   "nav_menu": {},
   "number_sections": true,
   "sideBar": true,
   "skip_h1_title": false,
   "title_cell": "Table of Contents",
   "title_sidebar": "Contents",
   "toc_cell": false,
   "toc_position": {},
   "toc_section_display": true,
   "toc_window_display": false
  },
  "varInspector": {
   "cols": {
    "lenName": 16,
    "lenType": 16,
    "lenVar": 40
   },
   "kernels_config": {
    "python": {
     "delete_cmd_postfix": "",
     "delete_cmd_prefix": "del ",
     "library": "var_list.py",
     "varRefreshCmd": "print(var_dic_list())"
    },
    "r": {
     "delete_cmd_postfix": ") ",
     "delete_cmd_prefix": "rm(",
     "library": "var_list.r",
     "varRefreshCmd": "cat(var_dic_list()) "
    }
   },
   "types_to_exclude": [
    "module",
    "function",
    "builtin_function_or_method",
    "instance",
    "_Feature"
   ],
   "window_display": false
  }
 },
 "nbformat": 4,
 "nbformat_minor": 4
}
