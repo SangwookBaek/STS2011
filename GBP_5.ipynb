{
 "cells": [
  {
   "cell_type": "code",
   "execution_count": 8,
   "metadata": {
    "executionInfo": {
     "elapsed": 5,
     "status": "ok",
     "timestamp": 1664243401659,
     "user": {
      "displayName": "Sangwook Baek",
      "userId": "14769644796773614633"
     },
     "user_tz": -540
    },
    "id": "J7p5lJStoDc_"
   },
   "outputs": [],
   "source": [
    "class Student():\n",
    "  def __init__(self,name,year,class_num,student_id):\n",
    "    self.name = name\n",
    "    self.year = year\n",
    "    self.class_num = class_num\n",
    "    self.student_id = student_id"
   ]
  },
  {
   "cell_type": "code",
   "execution_count": 9,
   "metadata": {
    "colab": {
     "base_uri": "https://localhost:8080/"
    },
    "executionInfo": {
     "elapsed": 6,
     "status": "ok",
     "timestamp": 1664243404922,
     "user": {
      "displayName": "Sangwook Baek",
      "userId": "14769644796773614633"
     },
     "user_tz": -540
    },
    "id": "xYJfktqwkVWC",
    "outputId": "518ae53b-de51-4601-da0c-86e88db5c40d"
   },
   "outputs": [
    {
     "data": {
      "text/plain": [
       "<__main__.Student at 0x7f427fac3210>"
      ]
     },
     "execution_count": 9,
     "metadata": {},
     "output_type": "execute_result"
    }
   ],
   "source": [
    "Student(\"홍길동\",2,3,35)\n"
   ]
  },
  {
   "cell_type": "code",
   "execution_count": 10,
   "metadata": {
    "executionInfo": {
     "elapsed": 4,
     "status": "ok",
     "timestamp": 1664243695527,
     "user": {
      "displayName": "Sangwook Baek",
      "userId": "14769644796773614633"
     },
     "user_tz": -540
    },
    "id": "ATB9h1v1oww0"
   },
   "outputs": [],
   "source": [
    "class Car():\n",
    "  def __init__(self):\n",
    "    self._speed=0\n",
    "    print(\"자동차가 생성되었습니다.\")\n",
    "  def get_speed(self):\n",
    "    return self._speed\n",
    "  def start(self):\n",
    "    self._speed = 20\n",
    "    print(\"자동차가 출발합니다\")\n",
    "  def accelerate(self):\n",
    "    self._speed = self._speed + 30\n",
    "    print(\"자동차가 가속을 합니다\")\n",
    "\n",
    "  def stop(self):\n",
    "    self_speed = 0\n",
    "    print(\"자동차가 정지합니다\")"
   ]
  },
  {
   "cell_type": "code",
   "execution_count": null,
   "metadata": {
    "id": "AhvEN2r2p3tb"
   },
   "outputs": [],
   "source": [
    "class Person():\n",
    "  Name = \"default name 홍길동\"\n",
    "  def print(self):\n",
    "    "
   ]
  },
  {
   "cell_type": "code",
   "execution_count": 13,
   "metadata": {
    "executionInfo": {
     "elapsed": 3,
     "status": "ok",
     "timestamp": 1664244142178,
     "user": {
      "displayName": "Sangwook Baek",
      "userId": "14769644796773614633"
     },
     "user_tz": -540
    },
    "id": "CktdxOTDrQxT"
   },
   "outputs": [],
   "source": [
    "class Foo():\n",
    "  \n",
    "  def func1():\n",
    "    print(\"Function 1\")\n",
    "  \n",
    "  def func2(self):\n",
    "    print(\"Function 2\")\n"
   ]
  },
  {
   "cell_type": "code",
   "execution_count": 14,
   "metadata": {
    "executionInfo": {
     "elapsed": 4,
     "status": "ok",
     "timestamp": 1664244151002,
     "user": {
      "displayName": "Sangwook Baek",
      "userId": "14769644796773614633"
     },
     "user_tz": -540
    },
    "id": "z52VgarZra2K"
   },
   "outputs": [],
   "source": [
    "f2=Foo()"
   ]
  },
  {
   "cell_type": "code",
   "execution_count": 16,
   "metadata": {
    "colab": {
     "base_uri": "https://localhost:8080/"
    },
    "executionInfo": {
     "elapsed": 3,
     "status": "ok",
     "timestamp": 1664244166529,
     "user": {
      "displayName": "Sangwook Baek",
      "userId": "14769644796773614633"
     },
     "user_tz": -540
    },
    "id": "_-TQz1MVrm_r",
    "outputId": "df00c116-5fd6-4c41-ce54-210d07cac024"
   },
   "outputs": [
    {
     "name": "stdout",
     "output_type": "stream",
     "text": [
      "Function 2\n"
     ]
    }
   ],
   "source": [
    "f2.func2()"
   ]
  },
  {
   "cell_type": "code",
   "execution_count": 18,
   "metadata": {
    "colab": {
     "base_uri": "https://localhost:8080/"
    },
    "executionInfo": {
     "elapsed": 4,
     "status": "ok",
     "timestamp": 1664244188431,
     "user": {
      "displayName": "Sangwook Baek",
      "userId": "14769644796773614633"
     },
     "user_tz": -540
    },
    "id": "7vHqd-u6rryp",
    "outputId": "9781c6d2-a286-4e34-aa3e-7310331dee3b"
   },
   "outputs": [
    {
     "name": "stdout",
     "output_type": "stream",
     "text": [
      "Function 1\n"
     ]
    }
   ],
   "source": [
    "Foo.func1()"
   ]
  },
  {
   "cell_type": "code",
   "execution_count": 20,
   "metadata": {
    "colab": {
     "base_uri": "https://localhost:8080/"
    },
    "executionInfo": {
     "elapsed": 4,
     "status": "ok",
     "timestamp": 1664244231099,
     "user": {
      "displayName": "Sangwook Baek",
      "userId": "14769644796773614633"
     },
     "user_tz": -540
    },
    "id": "14qWlnBcrwFm",
    "outputId": "d44288ef-b00c-4a32-efb7-9e67d4dce3a9"
   },
   "outputs": [
    {
     "name": "stdout",
     "output_type": "stream",
     "text": [
      "Function 2\n"
     ]
    }
   ],
   "source": [
    "Foo.func2(f2)"
   ]
  },
  {
   "cell_type": "code",
   "execution_count": 21,
   "metadata": {
    "executionInfo": {
     "elapsed": 4,
     "status": "ok",
     "timestamp": 1664244235215,
     "user": {
      "displayName": "Sangwook Baek",
      "userId": "14769644796773614633"
     },
     "user_tz": -540
    },
    "id": "vxjMeONer44K"
   },
   "outputs": [],
   "source": [
    "f3 = Foo()"
   ]
  },
  {
   "cell_type": "code",
   "execution_count": 24,
   "metadata": {
    "executionInfo": {
     "elapsed": 400,
     "status": "ok",
     "timestamp": 1664244946373,
     "user": {
      "displayName": "Sangwook Baek",
      "userId": "14769644796773614633"
     },
     "user_tz": -540
    },
    "id": "mlkNb1zPr7do"
   },
   "outputs": [],
   "source": [
    "class FourCal():\n",
    "  def __init__(self,num1,num2):\n",
    "    self.num1 = num1\n",
    "    self.num2 = num2\n",
    "  def sum(self):\n",
    "      return self.num1 + self.num2\n",
    "  def sub(self):\n",
    "      return self.num1 - self.num2\n",
    "  def mul(self):\n",
    "      return self.num1*self.num2\n",
    "  def div(self):\n",
    "      return self.num1 / self.num2"
   ]
  },
  {
   "cell_type": "code",
   "execution_count": 26,
   "metadata": {
    "executionInfo": {
     "elapsed": 339,
     "status": "ok",
     "timestamp": 1664244970357,
     "user": {
      "displayName": "Sangwook Baek",
      "userId": "14769644796773614633"
     },
     "user_tz": -540
    },
    "id": "rynIYYx4ukmk"
   },
   "outputs": [],
   "source": [
    "a = FourCal(4,2)"
   ]
  },
  {
   "cell_type": "code",
   "execution_count": 27,
   "metadata": {
    "colab": {
     "base_uri": "https://localhost:8080/"
    },
    "executionInfo": {
     "elapsed": 5,
     "status": "ok",
     "timestamp": 1664244973941,
     "user": {
      "displayName": "Sangwook Baek",
      "userId": "14769644796773614633"
     },
     "user_tz": -540
    },
    "id": "TWGmwPTWumfC",
    "outputId": "1af719f1-a3e1-43ad-9dcb-3c79c70659b4"
   },
   "outputs": [
    {
     "data": {
      "text/plain": [
       "6"
      ]
     },
     "execution_count": 27,
     "metadata": {},
     "output_type": "execute_result"
    }
   ],
   "source": [
    "a.sum()"
   ]
  },
  {
   "cell_type": "code",
   "execution_count": 29,
   "metadata": {
    "colab": {
     "base_uri": "https://localhost:8080/"
    },
    "executionInfo": {
     "elapsed": 4,
     "status": "ok",
     "timestamp": 1664244978128,
     "user": {
      "displayName": "Sangwook Baek",
      "userId": "14769644796773614633"
     },
     "user_tz": -540
    },
    "id": "l1fPF4AMuv0a",
    "outputId": "491399b9-1330-416d-9e5f-82ea738e4029"
   },
   "outputs": [
    {
     "data": {
      "text/plain": [
       "8"
      ]
     },
     "execution_count": 29,
     "metadata": {},
     "output_type": "execute_result"
    }
   ],
   "source": [
    "a.mul()"
   ]
  },
  {
   "cell_type": "code",
   "execution_count": 30,
   "metadata": {
    "colab": {
     "base_uri": "https://localhost:8080/"
    },
    "executionInfo": {
     "elapsed": 6,
     "status": "ok",
     "timestamp": 1664244981689,
     "user": {
      "displayName": "Sangwook Baek",
      "userId": "14769644796773614633"
     },
     "user_tz": -540
    },
    "id": "DXMFXH2QuwUv",
    "outputId": "b4a4b795-40dc-439a-81bd-16c3a71917a2"
   },
   "outputs": [
    {
     "data": {
      "text/plain": [
       "2"
      ]
     },
     "execution_count": 30,
     "metadata": {},
     "output_type": "execute_result"
    }
   ],
   "source": [
    "a.sub()"
   ]
  },
  {
   "cell_type": "code",
   "execution_count": 31,
   "metadata": {
    "colab": {
     "base_uri": "https://localhost:8080/"
    },
    "executionInfo": {
     "elapsed": 3,
     "status": "ok",
     "timestamp": 1664244984595,
     "user": {
      "displayName": "Sangwook Baek",
      "userId": "14769644796773614633"
     },
     "user_tz": -540
    },
    "id": "jZ2mlf-Iuxq8",
    "outputId": "2a398034-3f5c-4716-b385-39f14e2c0c23"
   },
   "outputs": [
    {
     "data": {
      "text/plain": [
       "2.0"
      ]
     },
     "execution_count": 31,
     "metadata": {},
     "output_type": "execute_result"
    }
   ],
   "source": [
    "a.div()"
   ]
  },
  {
   "cell_type": "code",
   "execution_count": null,
   "metadata": {
    "id": "OKWZ0uotuyXD"
   },
   "outputs": [],
   "source": [
    "class Parent():\n",
    "  def can_sing(self):\n",
    "    print(\"Sing a Song\")"
   ]
  },
  {
   "cell_type": "code",
   "execution_count": null,
   "metadata": {},
   "outputs": [],
   "source": [
    "father = Parent()\n",
    "father.can_sing()"
   ]
  },
  {
   "cell_type": "code",
   "execution_count": null,
   "metadata": {},
   "outputs": [],
   "source": [
    "class LuckyChild(Parent):\n",
    "  pass"
   ]
  },
  {
   "cell_type": "code",
   "execution_count": null,
   "metadata": {},
   "outputs": [],
   "source": [
    "child1=LuckyChild()\n",
    "child1.can_sing()"
   ]
  },
  {
   "cell_type": "code",
   "execution_count": null,
   "metadata": {},
   "outputs": [],
   "source": [
    "class Employee():\n",
    "  def __init__(self,first,last,pay):\n",
    "    self.first = first\n",
    "    self.last = last\n",
    "    self.pay = pay\n",
    "    self.email = first.lower() + \".\" + last.lower() + \"@sogang.ac.kr\"\n",
    "  def __del__(self):\n",
    "    print(self.last + \"퇴사했습니다\")\n",
    "  def full_name(self):\n",
    "    print(self.first + \" \" + self.last)"
   ]
  },
  {
   "cell_type": "code",
   "execution_count": null,
   "metadata": {},
   "outputs": [],
   "source": [
    "emp_1 =Employee(\"jiho\",\"Lee\",50000)\n",
    "emp_1.email"
   ]
  },
  {
   "cell_type": "code",
   "execution_count": null,
   "metadata": {},
   "outputs": [],
   "source": [
    "emp_1_copy=emp_1"
   ]
  },
  {
   "cell_type": "code",
   "execution_count": null,
   "metadata": {},
   "outputs": [],
   "source": [
    "del emp_1"
   ]
  },
  {
   "cell_type": "code",
   "execution_count": null,
   "metadata": {},
   "outputs": [],
   "source": [
    "emp_1_copy.email"
   ]
  },
  {
   "cell_type": "code",
   "execution_count": null,
   "metadata": {},
   "outputs": [],
   "source": [
    "emp_1.email"
   ]
  }
 ],
 "metadata": {
  "colab": {
   "authorship_tag": "ABX9TyP1Vk0EOkMSYGUTGYIOpz/j",
   "collapsed_sections": [],
   "provenance": []
  },
  "kernelspec": {
   "display_name": "Python 3 (ipykernel)",
   "language": "python",
   "name": "python3"
  },
  "language_info": {
   "codemirror_mode": {
    "name": "ipython",
    "version": 3
   },
   "file_extension": ".py",
   "mimetype": "text/x-python",
   "name": "python",
   "nbconvert_exporter": "python",
   "pygments_lexer": "ipython3",
   "version": "3.9.7"
  },
  "toc": {
   "base_numbering": 1,
   "nav_menu": {},
   "number_sections": true,
   "sideBar": true,
   "skip_h1_title": false,
   "title_cell": "Table of Contents",
   "title_sidebar": "Contents",
   "toc_cell": false,
   "toc_position": {},
   "toc_section_display": true,
   "toc_window_display": false
  },
  "varInspector": {
   "cols": {
    "lenName": 16,
    "lenType": 16,
    "lenVar": 40
   },
   "kernels_config": {
    "python": {
     "delete_cmd_postfix": "",
     "delete_cmd_prefix": "del ",
     "library": "var_list.py",
     "varRefreshCmd": "print(var_dic_list())"
    },
    "r": {
     "delete_cmd_postfix": ") ",
     "delete_cmd_prefix": "rm(",
     "library": "var_list.r",
     "varRefreshCmd": "cat(var_dic_list()) "
    }
   },
   "types_to_exclude": [
    "module",
    "function",
    "builtin_function_or_method",
    "instance",
    "_Feature"
   ],
   "window_display": false
  }
 },
 "nbformat": 4,
 "nbformat_minor": 1
}
