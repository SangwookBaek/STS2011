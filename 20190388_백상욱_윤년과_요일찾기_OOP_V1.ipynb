{
 "cells": [
  {
   "cell_type": "code",
   "execution_count": 20,
   "id": "295b60d6",
   "metadata": {},
   "outputs": [
    {
     "name": "stdout",
     "output_type": "stream",
     "text": [
      "__년도를 입력하십시오:2022\n",
      "__월을 입력하십시오:10\n",
      "__일을 입력하십시오:9\n",
      "일요일\n"
     ]
    }
   ],
   "source": [
    "class DayName():\n",
    "    def __init__(self,year,month,day):\n",
    "        self.year = year\n",
    "        self.month = month\n",
    "        self.day = day\n",
    "\n",
    "    def isleap(self):\n",
    "      if (self.year % 400) :\n",
    "        if (self.year % 100):\n",
    "          if (self.year%4 ):\n",
    "            return False\n",
    "          else :\n",
    "            return True\n",
    "        else:\n",
    "          return False\n",
    "      else :\n",
    "        return True\n",
    "    \n",
    "    def get_name(self):\n",
    "        total_day = 0\n",
    "        month_to_date ={\"1\":31,\"3\":31,\"4\":30,\"5\":31,\"6\":30,\"7\":31,\"8\":31,\"9\":30,\"10\":31,\"11\":30,\"12\":31}\n",
    "        day_list = {0:\"월\",1:\"화\",2:\"수\",3:\"목\",4:\"금\",5:\"토\",6:\"일\"}\n",
    "        if self.isleap():\n",
    "            month_to_date[\"2\"] = 29\n",
    "        else:\n",
    "            month_to_date[\"2\"] = 28\n",
    "        for i in range(1,self.month):\n",
    "            total_day += month_to_date[str(i)]\n",
    "        total_day += (self.day-1)\n",
    "        leap_year = ((self.year-1)//4) - ((self.year-1)//100) + ((self.year-1)//400)\n",
    "        year_to_date=self.year-1 + leap_year\n",
    "        total_day+= year_to_date\n",
    "        return day_list[total_day%7]+\"요일\"\n",
    "\n",
    "def input_date():\n",
    "        year = int(input(\"__년도를 입력하십시오:\"))\n",
    "        month = int(input(\"__월을 입력하십시오:\"))\n",
    "        day = int(input(\"__일을 입력하십시오:\"))\n",
    "        return year,month,day\n",
    "\n",
    "if __name__ ==\"__main__\":\n",
    "    year,month,day = input_date()\n",
    "    day_name = DayName(year, month, day)\n",
    "    print(day_name.get_name()) "
   ]
  }
 ],
 "metadata": {
  "kernelspec": {
   "display_name": "Python 3 (ipykernel)",
   "language": "python",
   "name": "python3"
  },
  "language_info": {
   "codemirror_mode": {
    "name": "ipython",
    "version": 3
   },
   "file_extension": ".py",
   "mimetype": "text/x-python",
   "name": "python",
   "nbconvert_exporter": "python",
   "pygments_lexer": "ipython3",
   "version": "3.9.7"
  },
  "toc": {
   "base_numbering": 1,
   "nav_menu": {},
   "number_sections": true,
   "sideBar": true,
   "skip_h1_title": false,
   "title_cell": "Table of Contents",
   "title_sidebar": "Contents",
   "toc_cell": false,
   "toc_position": {},
   "toc_section_display": true,
   "toc_window_display": false
  },
  "varInspector": {
   "cols": {
    "lenName": 16,
    "lenType": 16,
    "lenVar": 40
   },
   "kernels_config": {
    "python": {
     "delete_cmd_postfix": "",
     "delete_cmd_prefix": "del ",
     "library": "var_list.py",
     "varRefreshCmd": "print(var_dic_list())"
    },
    "r": {
     "delete_cmd_postfix": ") ",
     "delete_cmd_prefix": "rm(",
     "library": "var_list.r",
     "varRefreshCmd": "cat(var_dic_list()) "
    }
   },
   "types_to_exclude": [
    "module",
    "function",
    "builtin_function_or_method",
    "instance",
    "_Feature"
   ],
   "window_display": false
  }
 },
 "nbformat": 4,
 "nbformat_minor": 5
}
